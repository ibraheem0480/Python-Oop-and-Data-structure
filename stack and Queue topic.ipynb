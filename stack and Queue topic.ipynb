{
 "cells": [
  {
   "cell_type": "markdown",
   "id": "209a2d29",
   "metadata": {},
   "source": [
    " # simple stack and Queue:"
   ]
  },
  {
   "cell_type": "code",
   "execution_count": 5,
   "id": "34a2a341",
   "metadata": {},
   "outputs": [
    {
     "name": "stdout",
     "output_type": "stream",
     "text": [
      "Stack: [10, 20, 30]\n",
      "Removed element: 30\n",
      "Stack after removal: [10, 20]\n"
     ]
    }
   ],
   "source": [
    "# Creating an empty stack\n",
    "#First Out (LIFO) principle\n",
    "stack = []\n",
    "\n",
    "# Adding elements to the stack\n",
    "stack.append(10)\n",
    "stack.append(20)\n",
    "stack.append(30)\n",
    "\n",
    "# Displaying the stack\n",
    "print(\"Stack:\", stack)\n",
    "\n",
    "# Removing the last element (LIFO)\n",
    "top_element = stack.pop()\n",
    "print(\"Removed element:\", top_element)\n",
    "\n",
    "# Displaying the stack after removal\n",
    "print(\"Stack after removal:\", stack)\n"
   ]
  },
  {
   "cell_type": "code",
   "execution_count": 10,
   "id": "f44a8207",
   "metadata": {},
   "outputs": [
    {
     "name": "stdout",
     "output_type": "stream",
     "text": [
      "Stack after pushing: [10, 20, 30]\n"
     ]
    }
   ],
   "source": [
    "class Stack:\n",
    "    def __init__(self):\n",
    "        self.items = []\n",
    "\n",
    "    def push(self, item):\n",
    "        self.items.append(item)\n",
    "\n",
    "stack = Stack()\n",
    "\n",
    "# Pushing elements onto the stack\n",
    "stack.push(10)\n",
    "stack.push(20)\n",
    "stack.push(30)\n",
    "\n",
    "print(\"Stack after pushing:\", stack.items)"
   ]
  },
  {
   "cell_type": "code",
   "execution_count": 11,
   "id": "ace5154c",
   "metadata": {},
   "outputs": [
    {
     "name": "stdout",
     "output_type": "stream",
     "text": [
      "Queue: deque([10, 20, 30])\n",
      "Removed element: 10\n",
      "Queue after removal: deque([20, 30])\n"
     ]
    }
   ],
   "source": [
    "from collections import deque\n",
    "\n",
    "# Creating a queue using deque\n",
    "my_queue = deque()\n",
    "\n",
    "# Enqueue (add) elements to the queue\n",
    "my_queue.append(10)\n",
    "my_queue.append(20)\n",
    "my_queue.append(30)\n",
    "\n",
    "# Displaying the queue\n",
    "print(\"Queue:\", my_queue)\n",
    "\n",
    "# Dequeue (remove) elements from the queue (FIFO)\n",
    "removed_element = my_queue.popleft()\n",
    "print(\"Removed element:\", removed_element)\n",
    "\n",
    "# Displaying the queue after removal\n",
    "print(\"Queue after removal:\", my_queue)\n"
   ]
  },
  {
   "cell_type": "code",
   "execution_count": null,
   "id": "d3d10f24",
   "metadata": {},
   "outputs": [],
   "source": []
  },
  {
   "cell_type": "markdown",
   "id": "2a4ba1a5",
   "metadata": {},
   "source": [
    "## assignment"
   ]
  },
  {
   "cell_type": "code",
   "execution_count": 2,
   "id": "3e2c495f",
   "metadata": {},
   "outputs": [],
   "source": [
    "class Node:\n",
    "    def __init__(self, data):\n",
    "        self.data = data\n",
    "        self.next = None\n",
    "\n",
    "class Stack:\n",
    "    def __init__(self):\n",
    "        self.top = None\n",
    "\n",
    "    def push(self, item):\n",
    "        new_node = Node(item)\n",
    "        new_node.next = self.top\n",
    "        self.top = new_node\n",
    "\n",
    "    def pop(self):\n",
    "        if not self.is_empty():\n",
    "            popped_item = self.top.data\n",
    "            self.top = self.top.next\n",
    "            return popped_item\n",
    "        else:\n",
    "            print(\"Stack is empty\")\n",
    "\n",
    "    def is_empty(self):\n",
    "        return self.top is None\n",
    "\n",
    "stack = Stack()\n",
    "stack.push(1)\n",
    "stack.push(2)\n",
    "stack.push(3)\n",
    "stack.push(4)"
   ]
  },
  {
   "cell_type": "code",
   "execution_count": 3,
   "id": "b899009f",
   "metadata": {},
   "outputs": [
    {
     "name": "stdout",
     "output_type": "stream",
     "text": [
      "Ist pop IS: 4\n",
      "2nd pop IS: 3\n",
      "3rd pop IS: 2\n",
      "4th pop IS: 1\n",
      "Stack is empty\n",
      "5th pop IS: None\n"
     ]
    }
   ],
   "source": [
    "print(\"Ist pop IS:\",stack.pop())\n",
    "print(\"2nd pop IS:\",stack.pop())\n",
    "print(\"3rd pop IS:\",stack.pop())\n",
    "print(\"4th pop IS:\",stack.pop())\n",
    "print(\"5th pop IS:\",stack.pop())"
   ]
  },
  {
   "cell_type": "markdown",
   "id": "56534d69",
   "metadata": {},
   "source": [
    "### qeue"
   ]
  },
  {
   "cell_type": "code",
   "execution_count": 17,
   "id": "5e9234c7",
   "metadata": {},
   "outputs": [
    {
     "name": "stdout",
     "output_type": "stream",
     "text": [
      "Ist popped item: 45\n",
      "2nd popped item: 5\n",
      "Queue size after pop: 3\n"
     ]
    }
   ],
   "source": [
    "class Node:\n",
    "    def __init__(self, data):\n",
    "        self.data = data\n",
    "        self.next = None\n",
    "\n",
    "class Queue:\n",
    "    def __init__(self):\n",
    "        self.head = None\n",
    "        self.top = None\n",
    "\n",
    "    def push(self, item):\n",
    "        new_node = Node(item)\n",
    "        if self.is_empty():\n",
    "            self.head = new_node\n",
    "            self.top = new_node\n",
    "        else:\n",
    "            self.top.next = new_node\n",
    "            self.top = new_node\n",
    "\n",
    "    def pop(self):\n",
    "        if not self.is_empty():\n",
    "            popped_item = self.head.data\n",
    "            self.head = self.head.next\n",
    "            if self.head is None:\n",
    "                self.top = None\n",
    "            return popped_item\n",
    "        else:\n",
    "            print(\"Queue is empty\")\n",
    "\n",
    "    def is_empty(self):\n",
    "        return self.head is None\n",
    "\n",
    "    def size(self):\n",
    "        count = 0\n",
    "        current = self.head\n",
    "        while current:\n",
    "            count += 1\n",
    "            current = current.next\n",
    "        return count\n",
    "\n",
    "queue = Queue()\n",
    "\n",
    "queue.push(45)\n",
    "queue.push(5)\n",
    "queue.push(6)\n",
    "queue.push(2)\n",
    "queue.push(3)\n",
    "popped_item = queue.pop()\n",
    "popped_item2 = queue.pop()\n",
    "print(\"Ist popped item:\", popped_item)\n",
    "print(\"2nd popped item:\", popped_item2)\n",
    "\n",
    "print(\"Queue size after pop:\", queue.size())\n"
   ]
  },
  {
   "cell_type": "code",
   "execution_count": null,
   "id": "fb9cf2b5",
   "metadata": {},
   "outputs": [],
   "source": []
  }
 ],
 "metadata": {
  "kernelspec": {
   "display_name": "Python 3 (ipykernel)",
   "language": "python",
   "name": "python3"
  },
  "language_info": {
   "codemirror_mode": {
    "name": "ipython",
    "version": 3
   },
   "file_extension": ".py",
   "mimetype": "text/x-python",
   "name": "python",
   "nbconvert_exporter": "python",
   "pygments_lexer": "ipython3",
   "version": "3.9.12"
  }
 },
 "nbformat": 4,
 "nbformat_minor": 5
}
