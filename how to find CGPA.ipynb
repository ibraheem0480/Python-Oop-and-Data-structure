{
 "cells": [
  {
   "cell_type": "code",
   "execution_count": 1,
   "id": "1ce3aca0",
   "metadata": {},
   "outputs": [
    {
     "name": "stdout",
     "output_type": "stream",
     "text": [
      "enter the grades of eng\n",
      "Gradea\n",
      "A\n",
      "4\n",
      "enter the grades of prog\n",
      "GradeA\n",
      "A\n",
      "4\n",
      "enter the grades of bee\n",
      "Graded\n",
      "D\n",
      "1.4\n",
      "enter the grades of workshop\n",
      "Gradec\n",
      "C\n",
      "2.5\n",
      "enter the grades of engmech\n",
      "Grade\n",
      "\n",
      "2.5\n",
      "enter the grades of linear_algebra\n",
      "Gradef\n",
      "F\n",
      "0\n",
      "enter the grades of p_lab\n",
      "Gradeg\n",
      "G\n",
      "0\n",
      "enter the grades of b_lab\n",
      "Gradeh\n",
      "H\n",
      "0\n",
      "enter the grades of w_lab\n",
      "Gradea\n",
      "A\n",
      "4\n",
      "2.2210526315789476\n"
     ]
    }
   ],
   "source": [
    "a=['eng','prog','bee','workshop','engmech','linear_algebra','p_lab','b_lab','w_lab']\n",
    "for j in a:\n",
    "    print(f'enter the grades of {j}')\n",
    "    i=input(str('Grade' ))\n",
    "    i=i.upper()\n",
    "    print(i)\n",
    "    if (i=='A'):\n",
    "        p=4\n",
    "    elif(i=='A-'):\n",
    "        p=3.67\n",
    "\n",
    "    elif(i=='B+'):\n",
    "        p=3.3\n",
    "    elif(i=='B'):\n",
    "        p=3\n",
    "    elif(i=='B-'):\n",
    "        p=2.6  \n",
    "    elif(i=='C+'):\n",
    "        p=2.8\n",
    "    elif(i=='C'):\n",
    "        p=2.5\n",
    "    elif(i=='C-'):\n",
    "        p=2\n",
    "    elif(i=='D+'):\n",
    "        p=1.8\n",
    "    elif(i=='D'):\n",
    "        p=1.4\n",
    "    elif(i=='D-'):\n",
    "        p=1\n",
    "    elif(i=='F'):\n",
    "        p=0\n",
    "    print(p)\n",
    "    if(j=='eng'):\n",
    "        eng=p*3\n",
    "    elif(j=='prog'):\n",
    "        prog=p*3\n",
    "    elif(j=='bee'):\n",
    "        bee=p*3\n",
    "    elif(j=='engmech'):\n",
    "        engmech=p*3\n",
    "    elif(j=='workshop'):\n",
    "        workshop=p*1\n",
    "    elif(j=='linear_algebra'):\n",
    "        linear_algebra=p*3\n",
    "    elif(j=='p_lab'):\n",
    "        p_lab=p*1\n",
    "    elif(j=='b_lab'):\n",
    "        b_lab=p*1\n",
    "    elif(j=='w_lab'):\n",
    "        w_lab=p*1\n",
    "    \n",
    "gpa_2=(eng+prog+bee+engmech+workshop+linear_algebra+p_lab+b_lab+w_lab)/19\n",
    "print(gpa_2)"
   ]
  },
  {
   "cell_type": "code",
   "execution_count": null,
   "id": "2dff72ce",
   "metadata": {},
   "outputs": [],
   "source": []
  },
  {
   "cell_type": "code",
   "execution_count": null,
   "id": "de4eb81b",
   "metadata": {},
   "outputs": [],
   "source": [
    "a=['pak','isl','em','calculas','cf','ethics','cf_lab','em_lab','dr_lab']\n",
    "for j in a:\n",
    "    print(f'enter the grades of {j}')\n",
    "    i=input(str('Grade' ))\n",
    "    i=i.upper()\n",
    "    print(i)\n",
    "    if (i=='A'):\n",
    "        p=4\n",
    "    elif(i=='A-'):\n",
    "        p=3.67\n",
    "\n",
    "    elif(i=='B+'):\n",
    "        p=3.3\n",
    "    elif(i=='B'):\n",
    "        p=3\n",
    "    elif(i=='B-'):\n",
    "        p=2.6  \n",
    "    elif(i=='C+'):\n",
    "        p=2.8\n",
    "    elif(i=='C'):\n",
    "        p=2.5\n",
    "    elif(i=='C-'):\n",
    "        p=2\n",
    "    elif(i=='D+'):\n",
    "        p=1.8\n",
    "    elif(i=='D'):\n",
    "        p=1.4\n",
    "    elif(i=='D-'):\n",
    "        p=1\n",
    "    elif(i=='F'):\n",
    "        p=0\n",
    "    print(p)\n",
    "    if(j=='pak'):\n",
    "        pak=p*2\n",
    "    elif(j=='isl'):\n",
    "        isl=p*2\n",
    "    elif(j=='em'):\n",
    "        em=p*3\n",
    "    elif(j=='calculas'):\n",
    "        calculas=p*3\n",
    "    elif(j=='cf'):\n",
    "        cf=p*2\n",
    "    elif(j=='ethics'):\n",
    "        ethics=p*3\n",
    "    elif(j=='cf_lab'):\n",
    "        cf_lab=p*1\n",
    "    elif(j=='em_lab'):\n",
    "        em_lab=p*1\n",
    "    elif(j=='dr_lab'):\n",
    "        dr_lab=p*1\n",
    "    \n",
    "gpa_1=(pak+isl+em+calculas+cf+ethics+cf_lab+em_lab+dr_lab)/18\n",
    "print(gpa_1)\n",
    "        "
   ]
  },
  {
   "cell_type": "code",
   "execution_count": null,
   "id": "0e6d0380",
   "metadata": {},
   "outputs": [],
   "source": [
    "cgpa=(gpa_1+gpa_2)/2\n",
    "print(cgpa)\n"
   ]
  },
  {
   "cell_type": "code",
   "execution_count": null,
   "id": "eef22a7f",
   "metadata": {},
   "outputs": [],
   "source": [
    "\n",
    "        \n",
    "    "
   ]
  },
  {
   "cell_type": "code",
   "execution_count": null,
   "id": "871e238b",
   "metadata": {},
   "outputs": [],
   "source": [
    "a = [1,2,3]\n",
    "print(a)\n"
   ]
  },
  {
   "cell_type": "code",
   "execution_count": 7,
   "id": "d5ec2ce6",
   "metadata": {},
   "outputs": [
    {
     "name": "stdout",
     "output_type": "stream",
     "text": [
      "[1, 2]\n"
     ]
    }
   ],
   "source": [
    "a = [1,2,3]\n",
    "b = a\n",
    "b.remove(3)\n",
    "print(a)"
   ]
  },
  {
   "cell_type": "code",
   "execution_count": 8,
   "id": "b997d04d",
   "metadata": {},
   "outputs": [
    {
     "name": "stdout",
     "output_type": "stream",
     "text": [
      "[1, 2, 3, ['shah fahad']]\n"
     ]
    }
   ],
   "source": [
    "list = [1,2,3,['shah fahad']]\n",
    "print(list)"
   ]
  },
  {
   "cell_type": "code",
   "execution_count": 6,
   "id": "9ded642d",
   "metadata": {},
   "outputs": [
    {
     "name": "stdout",
     "output_type": "stream",
     "text": [
      "[1, 2, 3, 'sami']\n"
     ]
    }
   ],
   "source": [
    "a=[1,2,3]\n",
    "b=a\n",
    "b.append(\"sami\")\n",
    "print(a)"
   ]
  },
  {
   "cell_type": "code",
   "execution_count": null,
   "id": "fe0ce15a",
   "metadata": {},
   "outputs": [],
   "source": []
  }
 ],
 "metadata": {
  "kernelspec": {
   "display_name": "Python 3 (ipykernel)",
   "language": "python",
   "name": "python3"
  },
  "language_info": {
   "codemirror_mode": {
    "name": "ipython",
    "version": 3
   },
   "file_extension": ".py",
   "mimetype": "text/x-python",
   "name": "python",
   "nbconvert_exporter": "python",
   "pygments_lexer": "ipython3",
   "version": "3.9.12"
  }
 },
 "nbformat": 4,
 "nbformat_minor": 5
}
