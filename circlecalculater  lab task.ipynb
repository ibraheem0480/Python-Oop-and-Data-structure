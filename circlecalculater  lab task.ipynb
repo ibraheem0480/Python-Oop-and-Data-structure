{
 "cells": [
  {
   "cell_type": "code",
   "execution_count": 1,
   "id": "5dde7a28",
   "metadata": {},
   "outputs": [],
   "source": [
    "class circlecalculater:\n",
    "    def __init__(self,radius):\n",
    "        self.radius=radius\n",
    "    def dimeter(self):\n",
    "        print(2*self.radius)\n",
    "    def area(self):\n",
    "        print(3.14*self.radius**2)\n",
    "    def cir(self):\n",
    "        print(2*3.14*self.radius)"
   ]
  },
  {
   "cell_type": "code",
   "execution_count": 2,
   "id": "7f15f1a3",
   "metadata": {},
   "outputs": [],
   "source": [
    "name=circlecalculater(3)"
   ]
  },
  {
   "cell_type": "code",
   "execution_count": 3,
   "id": "5bafb66b",
   "metadata": {},
   "outputs": [
    {
     "name": "stdout",
     "output_type": "stream",
     "text": [
      "6\n"
     ]
    }
   ],
   "source": [
    "name.dimeter()"
   ]
  },
  {
   "cell_type": "code",
   "execution_count": 4,
   "id": "f5c67ccf",
   "metadata": {},
   "outputs": [
    {
     "name": "stdout",
     "output_type": "stream",
     "text": [
      "28.26\n"
     ]
    }
   ],
   "source": [
    "name.area()"
   ]
  },
  {
   "cell_type": "code",
   "execution_count": 5,
   "id": "6c3458d9",
   "metadata": {},
   "outputs": [
    {
     "name": "stdout",
     "output_type": "stream",
     "text": [
      "18.84\n"
     ]
    }
   ],
   "source": [
    "name.cir()"
   ]
  },
  {
   "cell_type": "code",
   "execution_count": 6,
   "id": "7a55464b",
   "metadata": {},
   "outputs": [],
   "source": [
    "class RL:\n",
    "    def __init__(self,time=0):\n",
    "        self.t=time\n",
    "    def I(self):\n",
    "        print(48/11*(1-2.71**(-110*self.t)))\n"
   ]
  },
  {
   "cell_type": "code",
   "execution_count": 7,
   "id": "a0ea0c19",
   "metadata": {},
   "outputs": [],
   "source": [
    "name=RL(100)"
   ]
  },
  {
   "cell_type": "code",
   "execution_count": 8,
   "id": "4f8f1911",
   "metadata": {},
   "outputs": [
    {
     "name": "stdout",
     "output_type": "stream",
     "text": [
      "4.363636363636363\n"
     ]
    }
   ],
   "source": [
    "name.I()"
   ]
  },
  {
   "cell_type": "code",
   "execution_count": 9,
   "id": "a86af99b",
   "metadata": {},
   "outputs": [],
   "source": [
    "class calaculter:\n",
    "    def __inti__(self,radius):\n",
    "        self.radius=radius\n",
    "    def diameter(self):\n",
    "        print (2*self.radius)\n",
    "    def area(self):\n",
    "        print(3.14*self.radius**2)\n",
    "    def circle(self):\n",
    "        print(2*3.14*self.radius)"
   ]
  },
  {
   "cell_type": "code",
   "execution_count": 10,
   "id": "f2934608",
   "metadata": {},
   "outputs": [
    {
     "ename": "TypeError",
     "evalue": "calaculter() takes no arguments",
     "output_type": "error",
     "traceback": [
      "\u001b[1;31m---------------------------------------------------------------------------\u001b[0m",
      "\u001b[1;31mTypeError\u001b[0m                                 Traceback (most recent call last)",
      "Input \u001b[1;32mIn [10]\u001b[0m, in \u001b[0;36m<cell line: 1>\u001b[1;34m()\u001b[0m\n\u001b[1;32m----> 1\u001b[0m name\u001b[38;5;241m=\u001b[39m\u001b[43mcalaculter\u001b[49m\u001b[43m(\u001b[49m\u001b[38;5;241;43m2\u001b[39;49m\u001b[43m)\u001b[49m\n",
      "\u001b[1;31mTypeError\u001b[0m: calaculter() takes no arguments"
     ]
    }
   ],
   "source": [
    "name=calaculter(2)"
   ]
  },
  {
   "cell_type": "markdown",
   "id": "cf78b979",
   "metadata": {},
   "source": [
    "name.diameter()"
   ]
  },
  {
   "cell_type": "code",
   "execution_count": null,
   "id": "49fd40da",
   "metadata": {},
   "outputs": [],
   "source": []
  }
 ],
 "metadata": {
  "kernelspec": {
   "display_name": "Python 3 (ipykernel)",
   "language": "python",
   "name": "python3"
  },
  "language_info": {
   "codemirror_mode": {
    "name": "ipython",
    "version": 3
   },
   "file_extension": ".py",
   "mimetype": "text/x-python",
   "name": "python",
   "nbconvert_exporter": "python",
   "pygments_lexer": "ipython3",
   "version": "3.9.12"
  }
 },
 "nbformat": 4,
 "nbformat_minor": 5
}
