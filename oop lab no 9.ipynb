{
 "cells": [
  {
   "cell_type": "markdown",
   "id": "c9db0406",
   "metadata": {},
   "source": [
    "# The built-in str class allows you to create strings in Python. Strings are \n",
    "# sequences of characters that you’ll use in many situations, especially \n",
    "# when working with textual data. From time to time, the standard func\u0002tionalities of Python’s str may be insufficient to fulfill your needs. So, you \n",
    "# may want to create custom string-like classes that solve your specific \n",
    "# problem.\n",
    "# You’ll typically find at least two reasons for creating custom string-like \n",
    "# classes:\n",
    "# • Extending the regular string by adding new functionality\n",
    "# • Modifying the standard string’s functionality\n",
    "# • You need a string-like class that implements a new method to \n",
    "# count the number of words in the underlying string.\n",
    "# • In this example, your custom string will use the whitespace charac\u0002ter as its default word separator. However, it should also allow you \n",
    "# to provide a specific separator character. To code a class that ful\u0002fills these needs, you can do something like this:"
   ]
  },
  {
   "cell_type": "code",
   "execution_count": null,
   "id": "8d94ea94",
   "metadata": {},
   "outputs": [],
   "source": [
    "class WordCountString(str):\n",
    "    def words(self, separator=','):\n",
    "        return len(self.split(separator))"
   ]
  },
  {
   "cell_type": "markdown",
   "id": "e1fbf55c",
   "metadata": {},
   "source": [
    "## . Run the following code. "
   ]
  },
  {
   "cell_type": "code",
   "execution_count": null,
   "id": "6fd60d41",
   "metadata": {},
   "outputs": [],
   "source": [
    "sample_text = WordCountString(\n",
    "\"\"\"Knowledge of Python can be an added advantage in \n",
    "terms of skills, as it enables \n",
    "electrical engineers to leverage its versatility \n",
    "for a wide range of tasks the \n",
    "scope of specialized software.\"\"\")\n",
    "sample_text.words()"
   ]
  },
  {
   "cell_type": "markdown",
   "id": "55f71056",
   "metadata": {},
   "source": [
    "## 2. To learn how to modify the standard behavior of str in a custom string\u0002like class, say that you need a string class that always prints its letters in \n",
    "# uppercase. You can do this by overriding the .__str__() special method, \n",
    "# which takes care of how string objects are printed. \n",
    "# Here’s an UpperPrintString class that behaves as you need:\n"
   ]
  },
  {
   "cell_type": "code",
   "execution_count": null,
   "id": "aaf43b1b",
   "metadata": {},
   "outputs": [],
   "source": [
    "class UpperPrintString(str):\n",
    "    def __str__(self):\n",
    "        return self.upper()\n",
    "\n"
   ]
  },
  {
   "cell_type": "markdown",
   "id": "97a3740a",
   "metadata": {},
   "source": [
    "## a. Run the following code. "
   ]
  },
  {
   "cell_type": "code",
   "execution_count": null,
   "id": "73271230",
   "metadata": {},
   "outputs": [],
   "source": [
    "sample_string = UpperPrintString(\"Hello, Pythonista!\")\n",
    "print(sample_string)\n",
    "sample_string"
   ]
  },
  {
   "cell_type": "code",
   "execution_count": null,
   "id": "f9b0752b",
   "metadata": {},
   "outputs": [],
   "source": [
    "class UpperPrintString(str):\n",
    "    def __repr__(self):\n",
    "        print(\"call repr method\")\n",
    "        return self.capitalize()\n"
   ]
  },
  {
   "cell_type": "code",
   "execution_count": null,
   "id": "92834e01",
   "metadata": {},
   "outputs": [],
   "source": [
    "sample_string = UpperPrintString(\"HELLO, Pythonista!\")\n",
    "sample_string"
   ]
  },
  {
   "cell_type": "code",
   "execution_count": null,
   "id": "8f7386e2",
   "metadata": {},
   "outputs": [],
   "source": [
    "a = \"mobeen khan\"\n",
    "len(a)"
   ]
  },
  {
   "cell_type": "code",
   "execution_count": null,
   "id": "b5bc69e4",
   "metadata": {},
   "outputs": [],
   "source": [
    "class UpperPrintString(str):\n",
    "    def __repr__(self):\n",
    "        print(\"call repr method\")\n",
    "        return self.capitalize()\n",
    "\n",
    "    def count(self):\n",
    "        return len(self)\n",
    "word=UpperPrintString(\"mobeen khan\")\n",
    "word.count()\n",
    "    "
   ]
  },
  {
   "cell_type": "code",
   "execution_count": 5,
   "id": "48d6981c",
   "metadata": {},
   "outputs": [
    {
     "name": "stdout",
     "output_type": "stream",
     "text": [
      "10\n"
     ]
    },
    {
     "ename": "TypeError",
     "evalue": "__str__ returned non-string (type int)",
     "output_type": "error",
     "traceback": [
      "\u001b[1;31m---------------------------------------------------------------------------\u001b[0m",
      "\u001b[1;31mTypeError\u001b[0m                                 Traceback (most recent call last)",
      "Input \u001b[1;32mIn [5]\u001b[0m, in \u001b[0;36m<cell line: 12>\u001b[1;34m()\u001b[0m\n\u001b[0;32m     10\u001b[0m word\u001b[38;5;241m=\u001b[39mspace(\u001b[38;5;124m\"\u001b[39m\u001b[38;5;124mmobeen khan\u001b[39m\u001b[38;5;124m\"\u001b[39m)\n\u001b[0;32m     11\u001b[0m \u001b[38;5;28mprint\u001b[39m(word\u001b[38;5;241m.\u001b[39mlength())\n\u001b[1;32m---> 12\u001b[0m \u001b[38;5;28;43mprint\u001b[39;49m\u001b[43m(\u001b[49m\u001b[43mword\u001b[49m\u001b[43m)\u001b[49m\n",
      "\u001b[1;31mTypeError\u001b[0m: __str__ returned non-string (type int)"
     ]
    }
   ],
   "source": [
    "class count(str):\n",
    "    def words(self):\n",
    "        return len"
   ]
  },
  {
   "cell_type": "code",
   "execution_count": null,
   "id": "b4252434",
   "metadata": {},
   "outputs": [],
   "source": []
  }
 ],
 "metadata": {
  "kernelspec": {
   "display_name": "Python 3 (ipykernel)",
   "language": "python",
   "name": "python3"
  },
  "language_info": {
   "codemirror_mode": {
    "name": "ipython",
    "version": 3
   },
   "file_extension": ".py",
   "mimetype": "text/x-python",
   "name": "python",
   "nbconvert_exporter": "python",
   "pygments_lexer": "ipython3",
   "version": "3.9.12"
  }
 },
 "nbformat": 4,
 "nbformat_minor": 5
}
