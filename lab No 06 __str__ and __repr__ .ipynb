{
 "cells": [
  {
   "cell_type": "markdown",
   "id": "4f50c8bd",
   "metadata": {},
   "source": [
    "# Lab task "
   ]
  },
  {
   "cell_type": "markdown",
   "id": "c95c5a68",
   "metadata": {},
   "source": [
    "## Motivation:"
   ]
  },
  {
   "cell_type": "markdown",
   "id": "755e5d09",
   "metadata": {},
   "source": [
    "### 2. Consider the following class definition from the last class."
   ]
  },
  {
   "cell_type": "code",
   "execution_count": 2,
   "id": "ec37d528",
   "metadata": {},
   "outputs": [],
   "source": [
    "class Dog:\n",
    "    species = \"Canis familiaris\"\n",
    "    def __init__(self, name, age):\n",
    "        self.name = name\n",
    "        self.age = age\n",
    "        # Instance method\n",
    "    def description(self):\n",
    "        return f\"{self.name} is {self.age} years old\"\n",
    "        # Another instance method\n",
    "    def speak(self, sound):\n",
    "        return f\"{self.name} says {sound}\""
   ]
  },
  {
   "cell_type": "markdown",
   "id": "139fecd9",
   "metadata": {},
   "source": [
    "### a. Run the code: miles.description()"
   ]
  },
  {
   "cell_type": "code",
   "execution_count": 5,
   "id": "1ee6a7d7",
   "metadata": {},
   "outputs": [],
   "source": [
    "miles = Dog('asd', 3)"
   ]
  },
  {
   "cell_type": "code",
   "execution_count": 6,
   "id": "b42ecf85",
   "metadata": {},
   "outputs": [
    {
     "data": {
      "text/plain": [
       "'asd is 3 years old'"
      ]
     },
     "execution_count": 6,
     "metadata": {},
     "output_type": "execute_result"
    }
   ],
   "source": [
    "miles.description()"
   ]
  },
  {
   "cell_type": "markdown",
   "id": "759af3f1",
   "metadata": {},
   "source": [
    "### b. Run the code: print(miles)"
   ]
  },
  {
   "cell_type": "code",
   "execution_count": 7,
   "id": "77203da0",
   "metadata": {},
   "outputs": [
    {
     "name": "stdout",
     "output_type": "stream",
     "text": [
      "<__main__.Dog object at 0x0000020892CBD4D0>\n"
     ]
    }
   ],
   "source": [
    "print(miles)"
   ]
  },
  {
   "cell_type": "markdown",
   "id": "46de752e",
   "metadata": {},
   "source": [
    "### c. Copy this list to the code editor, names = [\"Fletcher\", \"David\", \"Dan\"]. Now run print(names). Note: What is the difference between the two prints, the first one prints a memory address while the second one prints the list. The second one is good and attractive."
   ]
  },
  {
   "cell_type": "code",
   "execution_count": 8,
   "id": "df5d8e82",
   "metadata": {},
   "outputs": [],
   "source": [
    " names = [\"Fletcher\", \"David\", \"Dan\"]"
   ]
  },
  {
   "cell_type": "code",
   "execution_count": 9,
   "id": "411d5950",
   "metadata": {},
   "outputs": [
    {
     "name": "stdout",
     "output_type": "stream",
     "text": [
      "['Fletcher', 'David', 'Dan']\n"
     ]
    }
   ],
   "source": [
    "print(names)"
   ]
  },
  {
   "cell_type": "markdown",
   "id": "66659a37",
   "metadata": {},
   "source": [
    "### d. Now modify the dog class as follows:"
   ]
  },
  {
   "cell_type": "code",
   "execution_count": 10,
   "id": "d1020cb2",
   "metadata": {},
   "outputs": [],
   "source": [
    "class Dog:\n",
    "    species = \"Canis familiaris\"\n",
    "    def __init__(self, name, age):\n",
    "        self.name = name\n",
    "        self.age = age\n",
    "        # Instance method\n",
    "    def __str__(self):\n",
    "        return f\"{self.name} is {self.age} years old\"\n",
    "        # Another instance method\n",
    "    def speak(self, sound):\n",
    "        return f\"{self.name} says {sound}\""
   ]
  },
  {
   "cell_type": "code",
   "execution_count": 11,
   "id": "6e2e01df",
   "metadata": {},
   "outputs": [],
   "source": [
    "miles = Dog('asd', 3)"
   ]
  },
  {
   "cell_type": "code",
   "execution_count": 12,
   "id": "64665050",
   "metadata": {},
   "outputs": [
    {
     "name": "stdout",
     "output_type": "stream",
     "text": [
      "asd is 3 years old\n"
     ]
    }
   ],
   "source": [
    "print(miles)"
   ]
  },
  {
   "cell_type": "code",
   "execution_count": 14,
   "id": "f087805f",
   "metadata": {},
   "outputs": [
    {
     "data": {
      "text/plain": [
       "'asd says aaaaaaaaaaa'"
      ]
     },
     "execution_count": 14,
     "metadata": {},
     "output_type": "execute_result"
    }
   ],
   "source": [
    "miles.speak('aaaaaaaaaaa')"
   ]
  },
  {
   "cell_type": "markdown",
   "id": "85cc1125",
   "metadata": {},
   "source": [
    "### In the above code, only the description function is replaced with a new name __str__. Now make an object/instance of the Dog class and then run the code print ()."
   ]
  },
  {
   "cell_type": "markdown",
   "id": "2c26369d",
   "metadata": {},
   "source": [
    "## Hints:"
   ]
  },
  {
   "cell_type": "markdown",
   "id": "b08e8aaf",
   "metadata": {},
   "source": [
    "### i. The. description() method defined in the above Dog class returns a string containing information about the Dog instance miles. When writing your own classes, it is a good idea to have a method that returns a string containing useful information about an instance of the class."
   ]
  },
  {
   "cell_type": "code",
   "execution_count": 15,
   "id": "13ba29c5",
   "metadata": {},
   "outputs": [],
   "source": [
    "class Dog:\n",
    "    species = \"Canis familiaris\"\n",
    "    def __init__(self, name, age):\n",
    "        self.name = name\n",
    "        self.age = age\n",
    "        # Instance method\n",
    "    def __str__(self):\n",
    "        return f\"{self.name} is {self.age} years old\"\n",
    "        # Another instance method\n",
    "    def speak(self, sound):\n",
    "        self.sound = sound\n",
    "        return f\"{self.name} says {sound}\""
   ]
  },
  {
   "cell_type": "code",
   "execution_count": 16,
   "id": "83a084b7",
   "metadata": {},
   "outputs": [],
   "source": [
    "Dog_obj = Dog(\"German shiferd\",20)"
   ]
  },
  {
   "cell_type": "code",
   "execution_count": 17,
   "id": "b3f1bcb5",
   "metadata": {},
   "outputs": [
    {
     "name": "stdout",
     "output_type": "stream",
     "text": [
      "German shiferd is 20 years old\n"
     ]
    }
   ],
   "source": [
    "print(Dog_obj)"
   ]
  },
  {
   "cell_type": "markdown",
   "id": "6231ff3c",
   "metadata": {},
   "source": [
    "## 3. Consider the car class. "
   ]
  },
  {
   "cell_type": "code",
   "execution_count": 18,
   "id": "02fa734d",
   "metadata": {},
   "outputs": [],
   "source": [
    "class Car:\n",
    "    def __init__(self, color, mileage):\n",
    "        self.color = color\n",
    "        self.mileage = mileage"
   ]
  },
  {
   "cell_type": "markdown",
   "id": "58daf303",
   "metadata": {},
   "source": [
    "### a. Define an object:my_car = Car('red', 37281)."
   ]
  },
  {
   "cell_type": "code",
   "execution_count": 19,
   "id": "a7e29782",
   "metadata": {},
   "outputs": [],
   "source": [
    "my_car = Car('red', 37281)"
   ]
  },
  {
   "cell_type": "markdown",
   "id": "65c6b9b7",
   "metadata": {},
   "source": [
    "### b. Run: print(my_car)"
   ]
  },
  {
   "cell_type": "code",
   "execution_count": 20,
   "id": "652863e2",
   "metadata": {},
   "outputs": [
    {
     "name": "stdout",
     "output_type": "stream",
     "text": [
      "<__main__.Car object at 0x0000020892CB7A10>\n"
     ]
    }
   ],
   "source": [
    "print(my_car)"
   ]
  },
  {
   "cell_type": "markdown",
   "id": "ecbe3872",
   "metadata": {},
   "source": [
    "### c. Run: my_car"
   ]
  },
  {
   "cell_type": "code",
   "execution_count": 21,
   "id": "0149dacc",
   "metadata": {},
   "outputs": [
    {
     "data": {
      "text/plain": [
       "<__main__.Car at 0x20892cb7a10>"
      ]
     },
     "execution_count": 21,
     "metadata": {},
     "output_type": "execute_result"
    }
   ],
   "source": [
    "my_car"
   ]
  },
  {
   "cell_type": "markdown",
   "id": "d96057c9",
   "metadata": {},
   "source": [
    "## 4. Modify the car class by introducing an __str__ method. "
   ]
  },
  {
   "cell_type": "code",
   "execution_count": 3,
   "id": "bdba1d9e",
   "metadata": {},
   "outputs": [],
   "source": [
    "class Car:\n",
    "    def __init__(self, color, mileage):\n",
    "        self.color = color\n",
    "        self.mileage = mileage\n",
    "    def __str__(self):\n",
    "        return f\"The {self.color} car has {self.mileage:,} miles\""
   ]
  },
  {
   "cell_type": "markdown",
   "id": "60675bac",
   "metadata": {},
   "source": [
    "### a. Define an object: my_car = Car('red', 37281)"
   ]
  },
  {
   "cell_type": "code",
   "execution_count": 23,
   "id": "bf1a6187",
   "metadata": {},
   "outputs": [],
   "source": [
    " my_car = Car('red', 37281)"
   ]
  },
  {
   "cell_type": "markdown",
   "id": "d501274a",
   "metadata": {},
   "source": [
    "### b. Run: print(my_car.color, my_car.mileage)"
   ]
  },
  {
   "cell_type": "code",
   "execution_count": 24,
   "id": "097b3fc3",
   "metadata": {},
   "outputs": [
    {
     "name": "stdout",
     "output_type": "stream",
     "text": [
      "red 37281\n"
     ]
    }
   ],
   "source": [
    "print(my_car.color, my_car.mileage)"
   ]
  },
  {
   "cell_type": "markdown",
   "id": "cad52cfd",
   "metadata": {},
   "source": [
    "### c. Run: print(my_car)"
   ]
  },
  {
   "cell_type": "code",
   "execution_count": 25,
   "id": "12f852cd",
   "metadata": {},
   "outputs": [
    {
     "name": "stdout",
     "output_type": "stream",
     "text": [
      "The red car has 37,281 miles\n"
     ]
    }
   ],
   "source": [
    "print(my_car)"
   ]
  },
  {
   "cell_type": "markdown",
   "id": "f7df0630",
   "metadata": {},
   "source": [
    "### d. Run: my_car"
   ]
  },
  {
   "cell_type": "code",
   "execution_count": 26,
   "id": "d507fde7",
   "metadata": {},
   "outputs": [
    {
     "data": {
      "text/plain": [
       "<__main__.Car at 0x20892015c10>"
      ]
     },
     "execution_count": 26,
     "metadata": {},
     "output_type": "execute_result"
    }
   ],
   "source": [
    "my_car"
   ]
  },
  {
   "cell_type": "markdown",
   "id": "3682cf1d",
   "metadata": {},
   "source": [
    "### e. Add docstrings for the class and functions."
   ]
  },
  {
   "cell_type": "code",
   "execution_count": 27,
   "id": "31bfba94",
   "metadata": {},
   "outputs": [],
   "source": [
    "def my_function():\n",
    "    '''Demonstrates triple double quotes\n",
    "    docstrings and does nothing really.'''"
   ]
  },
  {
   "cell_type": "markdown",
   "id": "b6d7e1dd",
   "metadata": {},
   "source": [
    "# f. Print the docstring using __doc__."
   ]
  },
  {
   "cell_type": "code",
   "execution_count": 28,
   "id": "2379bc3d",
   "metadata": {},
   "outputs": [
    {
     "data": {
      "text/plain": [
       "'Demonstrates triple double quotes\\n    docstrings and does nothing really.'"
      ]
     },
     "execution_count": 28,
     "metadata": {},
     "output_type": "execute_result"
    }
   ],
   "source": [
    "my_function.__doc__"
   ]
  },
  {
   "cell_type": "markdown",
   "id": "e86d353d",
   "metadata": {},
   "source": [
    "### g.Use the help function to print the class details."
   ]
  },
  {
   "cell_type": "code",
   "execution_count": 4,
   "id": "bc380844",
   "metadata": {},
   "outputs": [
    {
     "name": "stdout",
     "output_type": "stream",
     "text": [
      "Help on class Car in module __main__:\n",
      "\n",
      "class Car(builtins.object)\n",
      " |  Car(color, mileage)\n",
      " |  \n",
      " |  Methods defined here:\n",
      " |  \n",
      " |  __init__(self, color, mileage)\n",
      " |      Initialize self.  See help(type(self)) for accurate signature.\n",
      " |  \n",
      " |  __str__(self)\n",
      " |      Return str(self).\n",
      " |  \n",
      " |  ----------------------------------------------------------------------\n",
      " |  Data descriptors defined here:\n",
      " |  \n",
      " |  __dict__\n",
      " |      dictionary for instance variables (if defined)\n",
      " |  \n",
      " |  __weakref__\n",
      " |      list of weak references to the object (if defined)\n",
      "\n"
     ]
    }
   ],
   "source": [
    "help(Car)"
   ]
  },
  {
   "cell_type": "markdown",
   "id": "599ef5ac",
   "metadata": {},
   "source": [
    "## 5. Complete car class"
   ]
  },
  {
   "cell_type": "code",
   "execution_count": 5,
   "id": "e42a68a3",
   "metadata": {},
   "outputs": [],
   "source": [
    "class Car: \n",
    "    def __init__(self, color, mileage):\n",
    "        self.color = color \n",
    "        self.mileage = mileage \n",
    "    def __repr__(self):\n",
    "        return (f'{self.__class__.__name__}(' f'{self.color!r}, {self.mileage!r})') \n",
    "    def __str__(self):\n",
    "        return f'a {self.color} car'"
   ]
  },
  {
   "cell_type": "markdown",
   "id": "cfea9bdd",
   "metadata": {},
   "source": [
    "### a. Define an object: my_car = Car('red', 37281)"
   ]
  },
  {
   "cell_type": "code",
   "execution_count": 6,
   "id": "f876ec0b",
   "metadata": {},
   "outputs": [],
   "source": [
    "my_car = Car('red', 37281)"
   ]
  },
  {
   "cell_type": "markdown",
   "id": "b7d213e3",
   "metadata": {},
   "source": [
    "### b.Run: print(my_car.color, my_car.mileage)"
   ]
  },
  {
   "cell_type": "code",
   "execution_count": 7,
   "id": "d955ab8a",
   "metadata": {},
   "outputs": [
    {
     "name": "stdout",
     "output_type": "stream",
     "text": [
      "red 37281\n"
     ]
    }
   ],
   "source": [
    "print(my_car.color, my_car.mileage)"
   ]
  },
  {
   "cell_type": "markdown",
   "id": "16695c77",
   "metadata": {},
   "source": [
    "### c.Run: print(my_car)"
   ]
  },
  {
   "cell_type": "code",
   "execution_count": 8,
   "id": "25488f75",
   "metadata": {},
   "outputs": [
    {
     "name": "stdout",
     "output_type": "stream",
     "text": [
      "a red car\n"
     ]
    }
   ],
   "source": [
    "print(my_car)"
   ]
  },
  {
   "cell_type": "markdown",
   "id": "26194ca0",
   "metadata": {},
   "source": [
    "### d. Run: my_car"
   ]
  },
  {
   "cell_type": "code",
   "execution_count": 9,
   "id": "ba7153cc",
   "metadata": {},
   "outputs": [
    {
     "data": {
      "text/plain": [
       "Car('red', 37281)"
      ]
     },
     "execution_count": 9,
     "metadata": {},
     "output_type": "execute_result"
    }
   ],
   "source": [
    "my_car"
   ]
  },
  {
   "cell_type": "markdown",
   "id": "16c775e6",
   "metadata": {},
   "source": [
    "## 6.Consider the car class again. Add a new dunder method __repr__."
   ]
  },
  {
   "cell_type": "code",
   "execution_count": 13,
   "id": "b3dff1ed",
   "metadata": {},
   "outputs": [],
   "source": [
    "class Car:\n",
    "    def __init__(self, color, mileage):\n",
    "        self.color = color\n",
    "        self.mileage = mileage\n",
    "    def __repr__(self):\n",
    "        return '__repr__ for Car'\n",
    "    def __str__(self):\n",
    "        return '__str__ for Car'"
   ]
  },
  {
   "cell_type": "markdown",
   "id": "1ac5d833",
   "metadata": {},
   "source": [
    "### a. Define an object: my_car = Car('red', 37281)"
   ]
  },
  {
   "cell_type": "code",
   "execution_count": 14,
   "id": "05db8e97",
   "metadata": {},
   "outputs": [],
   "source": [
    "my_car = Car('red', 37281)"
   ]
  },
  {
   "cell_type": "markdown",
   "id": "0e6a40bc",
   "metadata": {},
   "source": [
    "### b.Run: print (my_car.color, my_car.mileage)"
   ]
  },
  {
   "cell_type": "code",
   "execution_count": 15,
   "id": "a1912196",
   "metadata": {},
   "outputs": [
    {
     "name": "stdout",
     "output_type": "stream",
     "text": [
      "red 37281\n"
     ]
    }
   ],
   "source": [
    "print (my_car.color, my_car.mileage)"
   ]
  },
  {
   "cell_type": "markdown",
   "id": "df3a0f84",
   "metadata": {},
   "source": [
    "### c.Run: print(my_car)"
   ]
  },
  {
   "cell_type": "code",
   "execution_count": 60,
   "id": "8c1b661b",
   "metadata": {},
   "outputs": [
    {
     "name": "stdout",
     "output_type": "stream",
     "text": [
      "__str__ for Car\n"
     ]
    }
   ],
   "source": [
    "print(my_car)"
   ]
  },
  {
   "cell_type": "markdown",
   "id": "d58edb9a",
   "metadata": {},
   "source": [
    "### d. Run: my_car"
   ]
  },
  {
   "cell_type": "code",
   "execution_count": 16,
   "id": "76e9909f",
   "metadata": {},
   "outputs": [
    {
     "data": {
      "text/plain": [
       "__repr__ for Car"
      ]
     },
     "execution_count": 16,
     "metadata": {},
     "output_type": "execute_result"
    }
   ],
   "source": [
    "my_car"
   ]
  },
  {
   "cell_type": "markdown",
   "id": "5fa429f4",
   "metadata": {},
   "source": [
    "### 7.Consider the following code."
   ]
  },
  {
   "cell_type": "code",
   "execution_count": 18,
   "id": "1ed67f2b",
   "metadata": {},
   "outputs": [],
   "source": [
    "import math\n",
    "class Point:\n",
    "    'Represents a point in two-dimensional geometric coordinates'\n",
    "    def __init__(self, x=0, y=0):\n",
    "        '''Initialize the position of a new point. The x and y\n",
    "        coordinates can be specified. If they are not, the\n",
    "        point defaults to the origin.'''\n",
    "        self.move(x, y)\n",
    "    def move(self, x, y):\n",
    "        '''Move the point to a new location in 2D space.'''\n",
    "        self.x = x\n",
    "        self.y = y\n",
    "    def reset(self):\n",
    "        '''Reset the point back to the geometric origin: 0, 0'''\n",
    "        self.move(0, 0)\n",
    "        def calculate_distance(self, other_point):\n",
    "            \"\"\"Calculate the distance from this point to a second\n",
    "            point passed as a parameter.\n",
    "            This function uses the Pythagorean Theorem to calculate\n",
    "            the distance between the two points. The distance is\n",
    "            returned as a float.\"\"\"\n",
    "            return math.sqrt((self.x - other_point.x)**2 +(self.y - other_point.y)**2)"
   ]
  },
  {
   "cell_type": "markdown",
   "id": "831ce857",
   "metadata": {},
   "source": [
    "## . Define an object point = Point(3, 9) and print its coordinate. "
   ]
  },
  {
   "cell_type": "code",
   "execution_count": 21,
   "id": "de6f9157",
   "metadata": {},
   "outputs": [],
   "source": [
    "point = Point(3, 9) "
   ]
  },
  {
   "cell_type": "markdown",
   "id": "c9bf41c9",
   "metadata": {},
   "source": [
    "## Print the class docstring. \n",
    "• Hints: Use the object name to access the class-level docstring by using \n",
    "__doc__. (point.__doc__)"
   ]
  },
  {
   "cell_type": "code",
   "execution_count": 28,
   "id": "d1fe31e4",
   "metadata": {},
   "outputs": [
    {
     "data": {
      "text/plain": [
       "'Represents a point in two-dimensional geometric coordinates'"
      ]
     },
     "execution_count": 28,
     "metadata": {},
     "output_type": "execute_result"
    }
   ],
   "source": [
    "point.__doc__"
   ]
  },
  {
   "cell_type": "markdown",
   "id": "7942a2c6",
   "metadata": {},
   "source": [
    "## Print different method docstring using object.meteod. __doc__\n"
   ]
  },
  {
   "cell_type": "code",
   "execution_count": 30,
   "id": "072647ad",
   "metadata": {},
   "outputs": [
    {
     "data": {
      "text/plain": [
       "'Initialize the position of a new point. The x and y\\n        coordinates can be specified. If they are not, the\\n        point defaults to the origin.'"
      ]
     },
     "execution_count": 30,
     "metadata": {},
     "output_type": "execute_result"
    }
   ],
   "source": [
    "point.__init__.__doc__"
   ]
  },
  {
   "cell_type": "code",
   "execution_count": 31,
   "id": "3ab73949",
   "metadata": {},
   "outputs": [
    {
     "data": {
      "text/plain": [
       "'Move the point to a new location in 2D space.'"
      ]
     },
     "execution_count": 31,
     "metadata": {},
     "output_type": "execute_result"
    }
   ],
   "source": [
    "point.move.__doc__"
   ]
  },
  {
   "cell_type": "code",
   "execution_count": 33,
   "id": "9d8d5b6b",
   "metadata": {},
   "outputs": [],
   "source": [
    "class Point:\n",
    "    def __init__(self, x, y):\n",
    "        print(\"Initialize the new instance of Point.\")\n",
    "        self.x = x\n",
    "        self.y = y\n",
    "    def __repr__(self) -> str:\n",
    "        return f\"{type(self).__name__}(x={self.x}, y={self.y})\""
   ]
  },
  {
   "cell_type": "code",
   "execution_count": 34,
   "id": "07eff934",
   "metadata": {},
   "outputs": [
    {
     "name": "stdout",
     "output_type": "stream",
     "text": [
      "Initialize the new instance of Point.\n"
     ]
    },
    {
     "data": {
      "text/plain": [
       "Point(x=21, y=42)"
      ]
     },
     "execution_count": 34,
     "metadata": {},
     "output_type": "execute_result"
    }
   ],
   "source": [
    "point = Point(21, 42)\n",
    "point"
   ]
  },
  {
   "cell_type": "code",
   "execution_count": 36,
   "id": "9667b9d1",
   "metadata": {},
   "outputs": [
    {
     "data": {
      "text/plain": [
       "'__main__'"
      ]
     },
     "execution_count": 36,
     "metadata": {},
     "output_type": "execute_result"
    }
   ],
   "source": [
    "__name__"
   ]
  },
  {
   "cell_type": "markdown",
   "id": "244f233a",
   "metadata": {},
   "source": [
    "## The __init__ can be called by the instance and pass value directly. Run the following code.\n"
   ]
  },
  {
   "cell_type": "code",
   "execution_count": 42,
   "id": "1b7a5b6a",
   "metadata": {},
   "outputs": [
    {
     "name": "stdout",
     "output_type": "stream",
     "text": [
      "Initialize the new instance of Point.\n"
     ]
    },
    {
     "data": {
      "text/plain": [
       "Point(x=34, y=40)"
      ]
     },
     "execution_count": 42,
     "metadata": {},
     "output_type": "execute_result"
    }
   ],
   "source": [
    "point.__init__(34,40)\n",
    "point.x\n",
    "point.y\n",
    "point"
   ]
  },
  {
   "cell_type": "code",
   "execution_count": null,
   "id": "28033c17",
   "metadata": {},
   "outputs": [],
   "source": []
  }
 ],
 "metadata": {
  "kernelspec": {
   "display_name": "Python 3 (ipykernel)",
   "language": "python",
   "name": "python3"
  },
  "language_info": {
   "codemirror_mode": {
    "name": "ipython",
    "version": 3
   },
   "file_extension": ".py",
   "mimetype": "text/x-python",
   "name": "python",
   "nbconvert_exporter": "python",
   "pygments_lexer": "ipython3",
   "version": "3.9.12"
  }
 },
 "nbformat": 4,
 "nbformat_minor": 5
}
