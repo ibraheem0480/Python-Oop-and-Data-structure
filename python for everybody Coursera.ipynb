{
 "cells": [
  {
   "cell_type": "code",
   "execution_count": null,
   "id": "17aa88d5",
   "metadata": {},
   "outputs": [],
   "source": [
    "fh=input(\"enter the houre \")\n",
    "fr=input(\"enter the rate\")\n",
    "fd=float(fh)\n",
    "fg=float(fr)\n",
    "print(fd,fg)\n",
    "if fh>40:\n",
    "    rg=fh*fr\n",
    "    rk=fh-40\n",
    "    "
   ]
  },
  {
   "cell_type": "code",
   "execution_count": null,
   "id": "18b2c89e",
   "metadata": {},
   "outputs": [],
   "source": [
    " def thing():\n",
    "        print(\"halllo\")\n",
    "        print(\"fun\")\n",
    "thing()\n",
    "print(\"zip\")"
   ]
  },
  {
   "cell_type": "code",
   "execution_count": null,
   "id": "a53b095d",
   "metadata": {},
   "outputs": [],
   "source": [
    "def sum(a,b):\n",
    "    add=a+b\n",
    "    return add\n",
    "x=sum(3,5)\n",
    "print(x)"
   ]
  },
  {
   "cell_type": "code",
   "execution_count": null,
   "id": "7a517665",
   "metadata": {},
   "outputs": [],
   "source": [
    "class exame:\n",
    "    def _init_ (self,E1,E2):\n",
    "        self.E1 = E1\n",
    "        self.E2 = E2\n",
    "e=exame(23,34)#################why why\n",
    "print(e.E1)"
   ]
  },
  {
   "cell_type": "code",
   "execution_count": null,
   "id": "f97975d0",
   "metadata": {},
   "outputs": [],
   "source": [
    "def func(x) :\n",
    "    print(x)\n",
    "\n",
    "func(10)\n",
    "func(20)"
   ]
  },
  {
   "cell_type": "code",
   "execution_count": null,
   "id": "5c500953",
   "metadata": {},
   "outputs": [],
   "source": [
    "def greet(lang):\n",
    "    if lang == 'es':\n",
    "        return 'Hola'\n",
    "    elif lang == 'fr':\n",
    "        return 'Bonjour'\n",
    "    else:\n",
    "        return 'Hello'\n",
    "\n",
    "print(greet('fr'),'Michael')"
   ]
  },
  {
   "cell_type": "code",
   "execution_count": null,
   "id": "01861ac8",
   "metadata": {},
   "outputs": [],
   "source": [
    "def addtwo(a, b):\n",
    "    added = a + b\n",
    "    return a\n",
    "\n",
    "x = addtwo(2, 7)\n",
    "print(x)"
   ]
  },
  {
   "cell_type": "code",
   "execution_count": null,
   "id": "43542fcd",
   "metadata": {},
   "outputs": [],
   "source": [
    "def addtwo(a, b):\n",
    "    added = a + b\n",
    "    return b\n",
    "\n",
    "x = addtwo(2, 7)\n",
    "print(x)"
   ]
  },
  {
   "cell_type": "code",
   "execution_count": null,
   "id": "479d85e2",
   "metadata": {},
   "outputs": [],
   "source": [
    "def computepay(h, r):\n",
    "    return 498.75\n",
    "\n",
    "hrs = input(\"Enter Hours:\")\n",
    "p = computepay(10, 20)\n",
    "print(\"Pay\", p)"
   ]
  },
  {
   "cell_type": "code",
   "execution_count": null,
   "id": "3a02d9d4",
   "metadata": {},
   "outputs": [],
   "source": [
    "def computepay(hours, rate):\n",
    "    if hours <= 40:\n",
    "        pay = hours * rate\n",
    "    else:\n",
    "        pay = 40 * rate + (hours - 40) * 1.5 * rate\n",
    "    return pay\n",
    "\n",
    "# Get user input for hours and rate per hour\n",
    "hours_str = input(\"Enter hours: \")\n",
    "rate_str = input(\"Enter rate per hour: \")\n",
    "\n",
    "# Convert input strings to numbers\n",
    "hours = float(hours_str)\n",
    "rate = float(rate_str)\n",
    "\n",
    "# Call the computepay function\n",
    "pay = computepay(hours, rate)\n",
    "\n",
    "# Display the result\n",
    "print(\"Pay:\", pay)\n"
   ]
  },
  {
   "cell_type": "code",
   "execution_count": null,
   "id": "6c91aa3c",
   "metadata": {},
   "outputs": [],
   "source": [
    "while True:\n",
    "    line=input(\"enter operater\")\n",
    "    if line==\"done\":\n",
    "        break\n",
    "    print(line)\n",
    "print(\"done!!\")"
   ]
  },
  {
   "cell_type": "code",
   "execution_count": null,
   "id": "f4c37a60",
   "metadata": {},
   "outputs": [],
   "source": [
    "while True:\n",
    "    line=input(\"enter operater\")\n",
    "    if line[0]==\"#\":\n",
    "        continue \n",
    "        print(\"halooo\")\n",
    "    if line==\"done\":\n",
    "        break\n",
    "    print(\"hal\")\n",
    "print(\"done!!\")"
   ]
  },
  {
   "cell_type": "code",
   "execution_count": null,
   "id": "f768e594",
   "metadata": {},
   "outputs": [],
   "source": [
    "friends=[\"ibraheem\",\"tayyeb\",\"ayub\",\"abbas\",\"mashal\"]\n",
    "for friend in friends:\n",
    "    print(\"how are you\",friend)"
   ]
  },
  {
   "cell_type": "code",
   "execution_count": null,
   "id": "c1fb900a",
   "metadata": {},
   "outputs": [],
   "source": [
    "larg_num=-1\n",
    "for num in [2,3,10,8,9,0,12,89,87,98,2]:\n",
    "    if num>larg_num:\n",
    "        larg_num = num\n",
    "print(larg_num)\n",
    "        "
   ]
  },
  {
   "cell_type": "code",
   "execution_count": null,
   "id": "5f0edff1",
   "metadata": {},
   "outputs": [],
   "source": [
    "larg_num=100\n",
    "for num in [2,3,10,8,9,0,12,89,87,98,2]:\n",
    "    if num>larg_num:\n",
    "        larg_num = num\n",
    "print(larg_num)"
   ]
  },
  {
   "cell_type": "code",
   "execution_count": null,
   "id": "f79be4a3",
   "metadata": {},
   "outputs": [],
   "source": [
    "larg_num=-1\n",
    "for num in [2,3,10,8,9,0,12,89,87,23,98,2]:\n",
    "    if num> larg_num:\n",
    "        larg_num =num\n",
    "        print(larg_num,num)\n",
    "print(\"after\",larg_num)"
   ]
  },
  {
   "cell_type": "code",
   "execution_count": null,
   "id": "6589e3ef",
   "metadata": {},
   "outputs": [],
   "source": [
    "num=0\n",
    "for list1 in [2,3,10,8]:\n",
    "    num=num+list1\n",
    "    print(num,list1)\n",
    "print(num)"
   ]
  },
  {
   "cell_type": "code",
   "execution_count": null,
   "id": "0ca0b96e",
   "metadata": {},
   "outputs": [],
   "source": [
    "num=0 \n",
    "count=0\n",
    "for list1 in [2,3,10,8]:\n",
    "    count=count+1\n",
    "    num=num+list1\n",
    "    print(num,list1)\n",
    "print(count)"
   ]
  },
  {
   "cell_type": "code",
   "execution_count": null,
   "id": "ef4e2eb8",
   "metadata": {},
   "outputs": [],
   "source": [
    "sum1=0 #avreage\n",
    "count=0\n",
    "for list1 in [2,4,10,8]:\n",
    "    count=count+1\n",
    "    sum1=sum1+list1\n",
    "    print(sum1,count)\n",
    "print(sum1/count)"
   ]
  },
  {
   "cell_type": "code",
   "execution_count": null,
   "id": "7ae0c33a",
   "metadata": {},
   "outputs": [],
   "source": [
    "for list1 in [2,4,146,56,5,5]:\n",
    "    if list1>20:\n",
    "        print(\"the large value\",list1)"
   ]
  },
  {
   "cell_type": "code",
   "execution_count": null,
   "id": "906ab635",
   "metadata": {},
   "outputs": [],
   "source": [
    "need= False\n",
    "for num in [1,3,4,7,8,9]:\n",
    "    if num== 4:\n",
    "        need=True \n",
    "        print(need,num)\n"
   ]
  },
  {
   "cell_type": "code",
   "execution_count": null,
   "id": "506fe1d4",
   "metadata": {},
   "outputs": [],
   "source": [
    "n = 5\n",
    "while n > 0 :\n",
    "    print(n)\n",
    "    n=n-1\n",
    "print('All done')"
   ]
  },
  {
   "cell_type": "code",
   "execution_count": null,
   "id": "8c210bdb",
   "metadata": {},
   "outputs": [],
   "source": [
    "tot = 0 \n",
    "for i in [5, 4, 3, 2, 1] :\n",
    "    tot = tot + 1\n",
    "print(tot)"
   ]
  },
  {
   "cell_type": "code",
   "execution_count": null,
   "id": "0b03da86",
   "metadata": {},
   "outputs": [],
   "source": [
    "friends = ['Joseph', 'Glenn', 'Sally']\n",
    "for friend in friends :\n",
    "     print('Happy New Year:',  friend)\n",
    "print('Done!')"
   ]
  },
  {
   "cell_type": "code",
   "execution_count": null,
   "id": "3f6141e5",
   "metadata": {},
   "outputs": [],
   "source": [
    "zork = 0\n",
    "for thing in [9, 41, 12, 3, 74, 15] :\n",
    "    zork = zork + thing\n",
    "print('After', zork)"
   ]
  },
  {
   "cell_type": "code",
   "execution_count": null,
   "id": "aec6253c",
   "metadata": {},
   "outputs": [],
   "source": [
    "smallest_so_far = -1\n",
    "for the_num in [9, 41, 12, 3, 74, 15] :\n",
    "    if the_num < smallest_so_far :\n",
    "        smallest_so_far = the_num\n",
    "print(smallest_so_far)"
   ]
  },
  {
   "cell_type": "code",
   "execution_count": null,
   "id": "43516f91",
   "metadata": {},
   "outputs": [],
   "source": [
    "smallest_so_far = None\n",
    "\n",
    "for the_num in [9, 41, 12, 3, 74, 15]:\n",
    "    if smallest_so_far is None or the_num < smallest_so_far:\n",
    "        smallest_so_far = the_num\n",
    "\n",
    "print(smallest_so_far)\n"
   ]
  },
  {
   "cell_type": "code",
   "execution_count": null,
   "id": "be21ea36",
   "metadata": {},
   "outputs": [],
   "source": [
    "n = 0\n",
    "while n > 0 :\n",
    "    print('Lather')\n",
    "    print('Rinse')\n",
    "print('Dry off!')"
   ]
  },
  {
   "cell_type": "markdown",
   "id": "21e16b89",
   "metadata": {},
   "source": [
    "# \n",
    "5.2 Write a program that repeatedly prompts a user for integer numbers until the user enters 'done'. Once 'done' is entered, print out the largest and smallest of the numbers. If the user enters anything other than a valid number catch it with a try/except and put out an appropriate message and ignore the number. Enter 7, 2, bob, 10, and 4 and match the output below."
   ]
  },
  {
   "cell_type": "code",
   "execution_count": null,
   "id": "ace22b7b",
   "metadata": {},
   "outputs": [],
   "source": [
    "largest = None\n",
    "smallest = None\n",
    "\n",
    "while True:\n",
    "    user_input = input(\"Enter an integer number or 'done' to finish: \")\n",
    "\n",
    "    if user_input.lower() == 'done':\n",
    "        break\n",
    "\n",
    "    try:\n",
    "        number = int(user_input)\n",
    "        if largest is None or number > largest:\n",
    "            largest = number\n",
    "        if smallest is None or number < smallest:\n",
    "            smallest = number\n",
    "    except ValueError:\n",
    "        print(\"Invalid input\")\n",
    "\n",
    "if largest is not None and smallest is not None:\n",
    "    print(f\"Maximum is {largest}\")\n",
    "    print(f\"Minimum is {smallest}\")\n",
    "else:\n",
    "    print(\"Invalid input\")\n",
    "\n"
   ]
  },
  {
   "cell_type": "code",
   "execution_count": 4,
   "id": "cf5ada0a",
   "metadata": {},
   "outputs": [
    {
     "name": "stdout",
     "output_type": "stream",
     "text": [
      "Sally\n"
     ]
    }
   ],
   "source": [
    "friends = [ 'Joseph', 'Glenn', 'Sally' ]\n",
    "\n",
    "print (friends[2])"
   ]
  },
  {
   "cell_type": "code",
   "execution_count": 5,
   "id": "7ba22ae5",
   "metadata": {},
   "outputs": [
    {
     "ename": "TypeError",
     "evalue": "'str' object does not support item assignment",
     "output_type": "error",
     "traceback": [
      "\u001b[1;31m---------------------------------------------------------------------------\u001b[0m",
      "\u001b[1;31mTypeError\u001b[0m                                 Traceback (most recent call last)",
      "Input \u001b[1;32mIn [5]\u001b[0m, in \u001b[0;36m<cell line: 2>\u001b[1;34m()\u001b[0m\n\u001b[0;32m      1\u001b[0m fruit \u001b[38;5;241m=\u001b[39m \u001b[38;5;124m'\u001b[39m\u001b[38;5;124mBanana\u001b[39m\u001b[38;5;124m'\u001b[39m\n\u001b[1;32m----> 2\u001b[0m fruit[\u001b[38;5;241m0\u001b[39m] \u001b[38;5;241m=\u001b[39m \u001b[38;5;124m'\u001b[39m\u001b[38;5;124mb\u001b[39m\u001b[38;5;124m'\u001b[39m\n\u001b[0;32m      3\u001b[0m \u001b[38;5;28mprint\u001b[39m(fruit)\n",
      "\u001b[1;31mTypeError\u001b[0m: 'str' object does not support item assignment"
     ]
    }
   ],
   "source": [
    "fruit = 'Banana'\n",
    "fruit[0] = 'b'\n",
    "print(fruit)"
   ]
  },
  {
   "cell_type": "code",
   "execution_count": 6,
   "id": "af3c1b4a",
   "metadata": {},
   "outputs": [
    {
     "name": "stdout",
     "output_type": "stream",
     "text": [
      "banana\n"
     ]
    }
   ],
   "source": [
    "fruit = 'Banana'\n",
    "fruit = 'b' + fruit[1:]\n",
    "print(fruit)\n"
   ]
  },
  {
   "cell_type": "code",
   "execution_count": 7,
   "id": "5f673da9",
   "metadata": {},
   "outputs": [],
   "source": [
    "x = list(range(5))\n"
   ]
  },
  {
   "cell_type": "code",
   "execution_count": 8,
   "id": "4c05974c",
   "metadata": {},
   "outputs": [
    {
     "name": "stdout",
     "output_type": "stream",
     "text": [
      "6\n"
     ]
    }
   ],
   "source": [
    "a = [1, 2, 3]\n",
    "b = [4, 5, 6]\n",
    "c = a + b\n",
    "print(len(c))"
   ]
  },
  {
   "cell_type": "code",
   "execution_count": 9,
   "id": "0c98c2bb",
   "metadata": {},
   "outputs": [
    {
     "name": "stdout",
     "output_type": "stream",
     "text": [
      "Glenn\n"
     ]
    }
   ],
   "source": [
    "friends = [ 'Joseph', 'Glenn', 'Sally' ]\n",
    "friends.sort()\n",
    "print(friends[0])"
   ]
  },
  {
   "cell_type": "code",
   "execution_count": 1,
   "id": "175d6640",
   "metadata": {},
   "outputs": [
    {
     "name": "stdout",
     "output_type": "stream",
     "text": [
      "[0, 1, 1, 2, 3, 5, 8, 13, 21, 34, 55, 89, 144, 233, 377, 610, 987, 1597, 2584, 4181, 6765, 10946]\n"
     ]
    }
   ],
   "source": [
    "#c = int(input('enter the number'))\n",
    "fb = [0,1]\n",
    "#while len(fb)< c:\n",
    "for i in range(20):\n",
    "    n = fb[-1] +fb[-2]\n",
    "    fb.append(n)\n",
    "print(fb)\n"
   ]
  },
  {
   "cell_type": "code",
   "execution_count": null,
   "id": "abc78200",
   "metadata": {},
   "outputs": [],
   "source": []
  }
 ],
 "metadata": {
  "kernelspec": {
   "display_name": "Python 3 (ipykernel)",
   "language": "python",
   "name": "python3"
  },
  "language_info": {
   "codemirror_mode": {
    "name": "ipython",
    "version": 3
   },
   "file_extension": ".py",
   "mimetype": "text/x-python",
   "name": "python",
   "nbconvert_exporter": "python",
   "pygments_lexer": "ipython3",
   "version": "3.9.12"
  }
 },
 "nbformat": 4,
 "nbformat_minor": 5
}
