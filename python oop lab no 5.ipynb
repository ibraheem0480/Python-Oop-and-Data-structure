{
 "cells": [
  {
   "cell_type": "markdown",
   "id": "76f4e779",
   "metadata": {},
   "source": [
    "# 1.\tConsider the complex number class. \n",
    "class Complex:\n",
    "    def __init__(self, realpart, imagpart):\n",
    "        self.r = realpart\n",
    "        self.i = imagpart\n",
    "a.\tDefine an object x = Complex\n",
    "b.\tDefine an object x = Complex(3.0)\n",
    "c.\tDefine an object x = Complex(3.0, -4.5)\n",
    "d.\tPrint (x.r, x.i)\n",
    "e.\tDefine an appropriate print method that can effectively print the complex number. Use it to print x. \n"
   ]
  },
  {
   "cell_type": "code",
   "execution_count": 10,
   "id": "578657bd",
   "metadata": {},
   "outputs": [
    {
     "ename": "TypeError",
     "evalue": "__init__() missing 1 required positional argument: 'imagpart'",
     "output_type": "error",
     "traceback": [
      "\u001b[1;31m---------------------------------------------------------------------------\u001b[0m",
      "\u001b[1;31mTypeError\u001b[0m                                 Traceback (most recent call last)",
      "Input \u001b[1;32mIn [10]\u001b[0m, in \u001b[0;36m<cell line: 6>\u001b[1;34m()\u001b[0m\n\u001b[0;32m      4\u001b[0m         \u001b[38;5;28mself\u001b[39m\u001b[38;5;241m.\u001b[39mi \u001b[38;5;241m=\u001b[39m imagpart\n\u001b[0;32m      5\u001b[0m x \u001b[38;5;241m=\u001b[39m Complex\n\u001b[1;32m----> 6\u001b[0m x \u001b[38;5;241m=\u001b[39m \u001b[43mComplex\u001b[49m\u001b[43m(\u001b[49m\u001b[38;5;241;43m3.0\u001b[39;49m\u001b[43m)\u001b[49m\n\u001b[0;32m      7\u001b[0m x \u001b[38;5;241m=\u001b[39m Complex(\u001b[38;5;241m3.0\u001b[39m, \u001b[38;5;241m-\u001b[39m\u001b[38;5;241m4.5\u001b[39m)\n\u001b[0;32m      8\u001b[0m \u001b[38;5;28mprint\u001b[39m (x\u001b[38;5;241m.\u001b[39mr, x\u001b[38;5;241m.\u001b[39mi)\n",
      "\u001b[1;31mTypeError\u001b[0m: __init__() missing 1 required positional argument: 'imagpart'"
     ]
    }
   ],
   "source": [
    "class Complex:\n",
    "    def __init__ (self, realpart, imagpart):\n",
    "        self.r = realpart\n",
    "        self.i = imagpart\n",
    "x = Complex\n",
    "x = Complex(3.0)\n",
    "x = Complex(3.0, -4.5)\n",
    "print (x.r, x.i)"
   ]
  },
  {
   "cell_type": "markdown",
   "id": "db33f90e",
   "metadata": {},
   "source": [
    "# 2.\tConsider the following class. When a class defines an __init__() method, class instantiation automatically invokes __init__() for the newly created class instance"
   ]
  },
  {
   "cell_type": "code",
   "execution_count": 13,
   "id": "48125bb8",
   "metadata": {},
   "outputs": [],
   "source": [
    "class MyClass:\n",
    "    \"\"\"A simple example class\"\"\"\n",
    "    i = 12345\n",
    "    def __init__(self): # non paramaterized funtion we pass only self attribute \n",
    "        self.data = 11\n",
    "\n",
    "    def f(self):\n",
    "        return 'hello world'\n",
    "\n"
   ]
  },
  {
   "cell_type": "markdown",
   "id": "c69f69d2",
   "metadata": {},
   "source": [
    "# a.\tLet's define an instance of the class and print the data attribute of it. \n"
   ]
  },
  {
   "cell_type": "code",
   "execution_count": 20,
   "id": "4d5c1159",
   "metadata": {},
   "outputs": [],
   "source": [
    "instan=MyClass()"
   ]
  },
  {
   "cell_type": "code",
   "execution_count": 21,
   "id": "68e81b80",
   "metadata": {},
   "outputs": [
    {
     "data": {
      "text/plain": [
       "12345"
      ]
     },
     "execution_count": 21,
     "metadata": {},
     "output_type": "execute_result"
    }
   ],
   "source": [
    "instan.i"
   ]
  },
  {
   "cell_type": "code",
   "execution_count": 23,
   "id": "1151d7e7",
   "metadata": {},
   "outputs": [
    {
     "name": "stdout",
     "output_type": "stream",
     "text": [
      "11\n"
     ]
    }
   ],
   "source": [
    "print(instan.data)"
   ]
  },
  {
   "cell_type": "code",
   "execution_count": 22,
   "id": "b0849b40",
   "metadata": {},
   "outputs": [
    {
     "name": "stdout",
     "output_type": "stream",
     "text": [
      "hello world\n"
     ]
    }
   ],
   "source": [
    "print(instan.f())"
   ]
  },
  {
   "cell_type": "markdown",
   "id": "a4d6552c",
   "metadata": {},
   "source": [
    "# b.\tLet pass a value in the object instantiation step like obj = MyClass(10).# \n"
   ]
  },
  {
   "cell_type": "code",
   "execution_count": 22,
   "id": "c806d593",
   "metadata": {},
   "outputs": [
    {
     "ename": "TypeError",
     "evalue": "__init__() takes 1 positional argument but 2 were given",
     "output_type": "error",
     "traceback": [
      "\u001b[1;31m---------------------------------------------------------------------------\u001b[0m",
      "\u001b[1;31mTypeError\u001b[0m                                 Traceback (most recent call last)",
      "Input \u001b[1;32mIn [22]\u001b[0m, in \u001b[0;36m<cell line: 1>\u001b[1;34m()\u001b[0m\n\u001b[1;32m----> 1\u001b[0m instan\u001b[38;5;241m=\u001b[39m\u001b[43mMyClass\u001b[49m\u001b[43m(\u001b[49m\u001b[38;5;241;43m10\u001b[39;49m\u001b[43m)\u001b[49m\n",
      "\u001b[1;31mTypeError\u001b[0m: __init__() takes 1 positional argument but 2 were given"
     ]
    }
   ],
   "source": [
    "instan=MyClass(10)"
   ]
  },
  {
   "cell_type": "markdown",
   "id": "760f6f86",
   "metadata": {},
   "source": [
    "# c.\tModify the __init__ method as: "
   ]
  },
  {
   "cell_type": "code",
   "execution_count": 26,
   "id": "d5664ba8",
   "metadata": {},
   "outputs": [],
   "source": [
    "class Myclass2: \n",
    "    def __init__(self, dt): # parametrized funtion when we give attribute \n",
    "        self.data = dt\n"
   ]
  },
  {
   "cell_type": "code",
   "execution_count": 27,
   "id": "1205f5e6",
   "metadata": {},
   "outputs": [],
   "source": [
    "instan=Myclass2(10)"
   ]
  },
  {
   "cell_type": "code",
   "execution_count": 29,
   "id": "6ab4cb6d",
   "metadata": {},
   "outputs": [
    {
     "data": {
      "text/plain": [
       "10"
      ]
     },
     "execution_count": 29,
     "metadata": {},
     "output_type": "execute_result"
    }
   ],
   "source": [
    "instan.data"
   ]
  },
  {
   "cell_type": "markdown",
   "id": "0c87831d",
   "metadata": {},
   "source": [
    "# 3.\tDog class"
   ]
  },
  {
   "cell_type": "code",
   "execution_count": 29,
   "id": "6e44479b",
   "metadata": {},
   "outputs": [],
   "source": [
    "class Dog:\n",
    "        def __init__(self, name, age):\n",
    "            self.name = name \n",
    "            self.age = age\n"
   ]
  },
  {
   "cell_type": "markdown",
   "id": "5beb56de",
   "metadata": {},
   "source": [
    "# a.\tTo instantiate an object, type the name of the class, in the original CamelCase, followed by parentheses containing any values that must be passed to the class’s .__init__() method."
   ]
  },
  {
   "cell_type": "code",
   "execution_count": 30,
   "id": "fd312845",
   "metadata": {},
   "outputs": [],
   "source": [
    "#Run the following code. \n",
    "miles = Dog(\"Miles\", 4)\n"
   ]
  },
  {
   "cell_type": "markdown",
   "id": "a7f7399f",
   "metadata": {},
   "source": [
    "# b.\tMake another object of the class Dog. The object's name is buddy while the dog's name is Buddy and age 9. "
   ]
  },
  {
   "cell_type": "code",
   "execution_count": 31,
   "id": "c0c97baf",
   "metadata": {},
   "outputs": [],
   "source": [
    "buddy=Dog(\"buddy\",9)"
   ]
  },
  {
   "cell_type": "code",
   "execution_count": 32,
   "id": "2f97c3d5",
   "metadata": {},
   "outputs": [
    {
     "name": "stdout",
     "output_type": "stream",
     "text": [
      "Miles\n"
     ]
    }
   ],
   "source": [
    "print(miles.name)"
   ]
  },
  {
   "cell_type": "code",
   "execution_count": 33,
   "id": "9c2b4c7b",
   "metadata": {},
   "outputs": [
    {
     "name": "stdout",
     "output_type": "stream",
     "text": [
      "4\n"
     ]
    }
   ],
   "source": [
    "print(miles.age)"
   ]
  },
  {
   "cell_type": "markdown",
   "id": "22cf4ef5",
   "metadata": {},
   "source": [
    "# e.\tLet if you enter the age of miles wrong and you are interested in amending it with 7, which is the correct age. You can modify it. Please modify it. After modification print the age of miles and buddy. \n"
   ]
  },
  {
   "cell_type": "code",
   "execution_count": 34,
   "id": "9b48a775",
   "metadata": {},
   "outputs": [
    {
     "name": "stdout",
     "output_type": "stream",
     "text": [
      "7\n"
     ]
    }
   ],
   "source": [
    "miles.age=7\n",
    "print(miles.age)\n"
   ]
  },
  {
   "cell_type": "code",
   "execution_count": 35,
   "id": "3de50dbc",
   "metadata": {},
   "outputs": [
    {
     "name": "stdout",
     "output_type": "stream",
     "text": [
      "9\n"
     ]
    }
   ],
   "source": [
    "print(buddy.age)"
   ]
  },
  {
   "cell_type": "markdown",
   "id": "1eeb9c42",
   "metadata": {},
   "source": [
    "# f.\tPrint all the class and instance attributes of both objects and observe. "
   ]
  },
  {
   "cell_type": "code",
   "execution_count": 36,
   "id": "1cb4aa03",
   "metadata": {},
   "outputs": [
    {
     "name": "stdout",
     "output_type": "stream",
     "text": [
      "dog name is Miles and age is 7\n"
     ]
    }
   ],
   "source": [
    "print(f\"dog name is {miles.name} and age is {miles.age}\")"
   ]
  },
  {
   "cell_type": "code",
   "execution_count": 37,
   "id": "ac85be59",
   "metadata": {},
   "outputs": [
    {
     "name": "stdout",
     "output_type": "stream",
     "text": [
      "dog name is buddy and age is 9\n"
     ]
    }
   ],
   "source": [
    "print(f\"dog name is {buddy.name} and age is {buddy.age}\")"
   ]
  },
  {
   "cell_type": "markdown",
   "id": "1d53dbda",
   "metadata": {},
   "source": [
    "# g.\tMake a new instance and print its attributes. "
   ]
  },
  {
   "cell_type": "code",
   "execution_count": 38,
   "id": "176e7be8",
   "metadata": {},
   "outputs": [
    {
     "name": "stdout",
     "output_type": "stream",
     "text": [
      "shary\n"
     ]
    }
   ],
   "source": [
    "obj=Dog(\"shary\",2)\n",
    "print(obj.name)"
   ]
  },
  {
   "cell_type": "code",
   "execution_count": 39,
   "id": "8adab521",
   "metadata": {},
   "outputs": [
    {
     "name": "stdout",
     "output_type": "stream",
     "text": [
      "2\n"
     ]
    }
   ],
   "source": [
    "print(obj.age)"
   ]
  },
  {
   "cell_type": "code",
   "execution_count": 40,
   "id": "80bcd773",
   "metadata": {},
   "outputs": [
    {
     "ename": "TypeError",
     "evalue": "__init__() missing 1 required positional argument: 'age'",
     "output_type": "error",
     "traceback": [
      "\u001b[1;31m---------------------------------------------------------------------------\u001b[0m",
      "\u001b[1;31mTypeError\u001b[0m                                 Traceback (most recent call last)",
      "Input \u001b[1;32mIn [40]\u001b[0m, in \u001b[0;36m<cell line: 1>\u001b[1;34m()\u001b[0m\n\u001b[1;32m----> 1\u001b[0m miles \u001b[38;5;241m=\u001b[39m \u001b[43mDog\u001b[49m\u001b[43m(\u001b[49m\u001b[38;5;124;43m\"\u001b[39;49m\u001b[38;5;124;43mMiles\u001b[39;49m\u001b[38;5;124;43m\"\u001b[39;49m\u001b[43m)\u001b[49m\n",
      "\u001b[1;31mTypeError\u001b[0m: __init__() missing 1 required positional argument: 'age'"
     ]
    }
   ],
   "source": [
    "miles = Dog(\"Miles\") # missing 1 required positional argument: 'age' mean here need two atrributes"
   ]
  },
  {
   "cell_type": "code",
   "execution_count": 41,
   "id": "1d626fbc",
   "metadata": {},
   "outputs": [
    {
     "ename": "TypeError",
     "evalue": "__init__() missing 1 required positional argument: 'age'",
     "output_type": "error",
     "traceback": [
      "\u001b[1;31m---------------------------------------------------------------------------\u001b[0m",
      "\u001b[1;31mTypeError\u001b[0m                                 Traceback (most recent call last)",
      "Input \u001b[1;32mIn [41]\u001b[0m, in \u001b[0;36m<cell line: 1>\u001b[1;34m()\u001b[0m\n\u001b[1;32m----> 1\u001b[0m miles \u001b[38;5;241m=\u001b[39m \u001b[43mDog\u001b[49m\u001b[43m(\u001b[49m\u001b[38;5;241;43m4\u001b[39;49m\u001b[43m)\u001b[49m\n",
      "\u001b[1;31mTypeError\u001b[0m: __init__() missing 1 required positional argument: 'age'"
     ]
    }
   ],
   "source": [
    "miles = Dog(4)"
   ]
  },
  {
   "cell_type": "code",
   "execution_count": 42,
   "id": "658498ad",
   "metadata": {},
   "outputs": [
    {
     "data": {
      "text/plain": [
       "<__main__.Dog at 0x278ec883640>"
      ]
     },
     "execution_count": 42,
     "metadata": {},
     "output_type": "execute_result"
    }
   ],
   "source": [
    "Dog(\"Miles\", 4)"
   ]
  },
  {
   "cell_type": "markdown",
   "id": "fb65fbed",
   "metadata": {},
   "source": [
    "# i.\tIn the body of the .__init__() method, there are two statements using the self variable. The first line, self.name = name, creates an instance attribute called name and assigns to it the value of the name variable that was passed to the .__init__() method. The second line creates an instance attribute called age and assigns to it the value of the age argument.\n",
    "ii.\tName and age are called instance attributes. \n",
    "iii.\tAfter the Dog instances are created, you can access their instance attributes by using dot notation:\n",
    "iv.\tThe important takeaway here is that custom objects are mutable by default. Recall that an object is mutable if it can be altered dynamically. For example, lists and dictionaries are mutable, but strings and tuples are not—they are immutable.\n"
   ]
  },
  {
   "cell_type": "code",
   "execution_count": 43,
   "id": "c8bd1a42",
   "metadata": {},
   "outputs": [],
   "source": [
    "class Dog:  # Class Attribute\n",
    "    species = \"Canis familiaris\"\n",
    "    def __init__(self, name, age):\n",
    "        self.name = name\n",
    "        self.age = age\n",
    "        \n"
   ]
  },
  {
   "cell_type": "markdown",
   "id": "d42a3296",
   "metadata": {},
   "source": [
    "# a.\tMake two objects of the Dog class. "
   ]
  },
  {
   "cell_type": "code",
   "execution_count": 44,
   "id": "ed20fab6",
   "metadata": {},
   "outputs": [
    {
     "name": "stdout",
     "output_type": "stream",
     "text": [
      "dog name is miles and age is 14\n"
     ]
    }
   ],
   "source": [
    "miles=Dog(\"miles\",14)\n",
    "buddy=Dog(\"buddy\",20)\n",
    "print(f\"dog name is {miles.name} and age is {miles.age}\")\n"
   ]
  },
  {
   "cell_type": "markdown",
   "id": "b3df2eae",
   "metadata": {},
   "source": [
    "# b.\tPrint the class attribute of both objects. "
   ]
  },
  {
   "cell_type": "code",
   "execution_count": 45,
   "id": "1c4753b7",
   "metadata": {},
   "outputs": [
    {
     "ename": "NameError",
     "evalue": "name 'obj2' is not defined",
     "output_type": "error",
     "traceback": [
      "\u001b[1;31m---------------------------------------------------------------------------\u001b[0m",
      "\u001b[1;31mNameError\u001b[0m                                 Traceback (most recent call last)",
      "Input \u001b[1;32mIn [45]\u001b[0m, in \u001b[0;36m<cell line: 1>\u001b[1;34m()\u001b[0m\n\u001b[1;32m----> 1\u001b[0m \u001b[38;5;28mprint\u001b[39m(\u001b[38;5;124mf\u001b[39m\u001b[38;5;124m\"\u001b[39m\u001b[38;5;124mdog name is \u001b[39m\u001b[38;5;132;01m{\u001b[39;00mobj2\u001b[38;5;241m.\u001b[39mname\u001b[38;5;132;01m}\u001b[39;00m\u001b[38;5;124m and age is \u001b[39m\u001b[38;5;132;01m{\u001b[39;00mobj2\u001b[38;5;241m.\u001b[39mage\u001b[38;5;132;01m}\u001b[39;00m\u001b[38;5;124m\"\u001b[39m)\n",
      "\u001b[1;31mNameError\u001b[0m: name 'obj2' is not defined"
     ]
    }
   ],
   "source": [
    "print(f\"dog name is {obj2.name} and age is {obj2.age}\")\n"
   ]
  },
  {
   "cell_type": "code",
   "execution_count": 46,
   "id": "db9b2331",
   "metadata": {},
   "outputs": [
    {
     "ename": "NameError",
     "evalue": "name 'obj1' is not defined",
     "output_type": "error",
     "traceback": [
      "\u001b[1;31m---------------------------------------------------------------------------\u001b[0m",
      "\u001b[1;31mNameError\u001b[0m                                 Traceback (most recent call last)",
      "Input \u001b[1;32mIn [46]\u001b[0m, in \u001b[0;36m<cell line: 1>\u001b[1;34m()\u001b[0m\n\u001b[1;32m----> 1\u001b[0m \u001b[38;5;28mprint\u001b[39m(\u001b[38;5;124mf\u001b[39m\u001b[38;5;124m\"\u001b[39m\u001b[38;5;124mdog name is \u001b[39m\u001b[38;5;132;01m{\u001b[39;00mobj1\u001b[38;5;241m.\u001b[39mname\u001b[38;5;132;01m}\u001b[39;00m\u001b[38;5;124m and age is \u001b[39m\u001b[38;5;132;01m{\u001b[39;00mobj1\u001b[38;5;241m.\u001b[39mage\u001b[38;5;132;01m}\u001b[39;00m\u001b[38;5;124m\"\u001b[39m)\n",
      "\u001b[1;31mNameError\u001b[0m: name 'obj1' is not defined"
     ]
    }
   ],
   "source": [
    "print(f\"dog name is {obj1.name} and age is {obj1.age}\")"
   ]
  },
  {
   "cell_type": "markdown",
   "id": "fa6223aa",
   "metadata": {},
   "source": [
    "# c.\tRun this code: buddy.species == miles.species"
   ]
  },
  {
   "cell_type": "code",
   "execution_count": 47,
   "id": "27cd6256",
   "metadata": {},
   "outputs": [
    {
     "data": {
      "text/plain": [
       "True"
      ]
     },
     "execution_count": 47,
     "metadata": {},
     "output_type": "execute_result"
    }
   ],
   "source": [
    "buddy.species == miles.species"
   ]
  },
  {
   "cell_type": "code",
   "execution_count": 48,
   "id": "4a4c04c2",
   "metadata": {},
   "outputs": [
    {
     "data": {
      "text/plain": [
       "'Canis familiaris'"
      ]
     },
     "execution_count": 48,
     "metadata": {},
     "output_type": "execute_result"
    }
   ],
   "source": [
    "Dog.species"
   ]
  },
  {
   "cell_type": "markdown",
   "id": "2a7c0052",
   "metadata": {},
   "source": [
    "# d.\tModify the class attribute by Felis silvestris. Now print it for both instances. "
   ]
  },
  {
   "cell_type": "code",
   "execution_count": 49,
   "id": "07ce5552",
   "metadata": {},
   "outputs": [],
   "source": [
    "Dog.specise=\"Felis silvestris\""
   ]
  },
  {
   "cell_type": "markdown",
   "id": "dab1001b",
   "metadata": {},
   "source": [
    "# e.\tAgain Run this code: buddy.species == miles.species"
   ]
  },
  {
   "cell_type": "code",
   "execution_count": 50,
   "id": "19625756",
   "metadata": {},
   "outputs": [
    {
     "data": {
      "text/plain": [
       "True"
      ]
     },
     "execution_count": 50,
     "metadata": {},
     "output_type": "execute_result"
    }
   ],
   "source": [
    " buddy.species == miles.species"
   ]
  },
  {
   "cell_type": "markdown",
   "id": "f7308d40",
   "metadata": {},
   "source": [
    "# 5.\tConsider the complex number class. "
   ]
  },
  {
   "cell_type": "code",
   "execution_count": 51,
   "id": "39188941",
   "metadata": {},
   "outputs": [],
   "source": [
    "class Complex:\n",
    "    def __init__(self, realpart, imagpart):\n",
    "        self.r = realpart\n",
    "        self.i = imagpart\n"
   ]
  },
  {
   "cell_type": "markdown",
   "id": "8d5eafea",
   "metadata": {},
   "source": [
    "# f.\tDefine an object x = Complex"
   ]
  },
  {
   "cell_type": "code",
   "execution_count": 54,
   "id": "c7dddb4f",
   "metadata": {},
   "outputs": [
    {
     "ename": "TypeError",
     "evalue": "__init__() missing 2 required positional arguments: 'realpart' and 'imagpart'",
     "output_type": "error",
     "traceback": [
      "\u001b[1;31m---------------------------------------------------------------------------\u001b[0m",
      "\u001b[1;31mTypeError\u001b[0m                                 Traceback (most recent call last)",
      "Input \u001b[1;32mIn [54]\u001b[0m, in \u001b[0;36m<cell line: 1>\u001b[1;34m()\u001b[0m\n\u001b[1;32m----> 1\u001b[0m x \u001b[38;5;241m=\u001b[39m \u001b[43mComplex\u001b[49m\u001b[43m(\u001b[49m\u001b[43m)\u001b[49m\n",
      "\u001b[1;31mTypeError\u001b[0m: __init__() missing 2 required positional arguments: 'realpart' and 'imagpart'"
     ]
    }
   ],
   "source": [
    "x = Complex()"
   ]
  },
  {
   "cell_type": "code",
   "execution_count": 55,
   "id": "6b3da88c",
   "metadata": {},
   "outputs": [
    {
     "ename": "TypeError",
     "evalue": "__init__() missing 1 required positional argument: 'imagpart'",
     "output_type": "error",
     "traceback": [
      "\u001b[1;31m---------------------------------------------------------------------------\u001b[0m",
      "\u001b[1;31mTypeError\u001b[0m                                 Traceback (most recent call last)",
      "Input \u001b[1;32mIn [55]\u001b[0m, in \u001b[0;36m<cell line: 1>\u001b[1;34m()\u001b[0m\n\u001b[1;32m----> 1\u001b[0m x \u001b[38;5;241m=\u001b[39m \u001b[43mComplex\u001b[49m\u001b[43m(\u001b[49m\u001b[38;5;241;43m3.0\u001b[39;49m\u001b[43m)\u001b[49m\n",
      "\u001b[1;31mTypeError\u001b[0m: __init__() missing 1 required positional argument: 'imagpart'"
     ]
    }
   ],
   "source": [
    " x = Complex(3.0)"
   ]
  },
  {
   "cell_type": "code",
   "execution_count": 56,
   "id": "8a8bfde4",
   "metadata": {},
   "outputs": [],
   "source": [
    "x = Complex(3.0, -4.5)"
   ]
  },
  {
   "cell_type": "code",
   "execution_count": 57,
   "id": "20ad1e5e",
   "metadata": {},
   "outputs": [
    {
     "name": "stdout",
     "output_type": "stream",
     "text": [
      "3.0 -4.5\n"
     ]
    }
   ],
   "source": [
    "print (x.r, x.i)"
   ]
  },
  {
   "cell_type": "markdown",
   "id": "13565e90",
   "metadata": {},
   "source": [
    "# j.\tDefine an appropriate print method that can effectively print the complex number. Use it to print x"
   ]
  },
  {
   "cell_type": "code",
   "execution_count": 73,
   "id": "269e45de",
   "metadata": {},
   "outputs": [],
   "source": [
    "class Complex:\n",
    "    def __init__(self, realpart, imagpart):\n",
    "        self.r = realpart\n",
    "        self.i = imagpart\n",
    "    def f(self):\n",
    "        return(f\"the real part is {self.r}and the imagpart is {self.i}\")\n",
    "x=Complex(5,6)  "
   ]
  },
  {
   "cell_type": "code",
   "execution_count": 74,
   "id": "32d083d3",
   "metadata": {},
   "outputs": [
    {
     "data": {
      "text/plain": [
       "'the real part is 5and the imagpart is 6'"
      ]
     },
     "execution_count": 74,
     "metadata": {},
     "output_type": "execute_result"
    }
   ],
   "source": [
    "x.f()"
   ]
  },
  {
   "cell_type": "markdown",
   "id": "d2bec7d4",
   "metadata": {},
   "source": [
    "# 6.\tConsider the following class example. "
   ]
  },
  {
   "cell_type": "code",
   "execution_count": 83,
   "id": "e21823b5",
   "metadata": {},
   "outputs": [],
   "source": [
    "class Totyota:\n",
    "    def __init__(self,name,color,model):\n",
    "        self.name=name\n",
    "        self.color=color\n",
    "        self.model=model\n",
    "\n",
    "    def printdetails(self):\n",
    "        print(f\"Car Company is: {self.name},Car Color is :{self.color},Car model is {self.model} \")\n"
   ]
  },
  {
   "cell_type": "markdown",
   "id": "6d75a24d",
   "metadata": {},
   "source": [
    "# a.\tMake an object of the class company =Totyota('Corolla')"
   ]
  },
  {
   "cell_type": "code",
   "execution_count": 84,
   "id": "535b2144",
   "metadata": {},
   "outputs": [
    {
     "ename": "TypeError",
     "evalue": "__init__() missing 2 required positional arguments: 'color' and 'model'",
     "output_type": "error",
     "traceback": [
      "\u001b[1;31m---------------------------------------------------------------------------\u001b[0m",
      "\u001b[1;31mTypeError\u001b[0m                                 Traceback (most recent call last)",
      "Input \u001b[1;32mIn [84]\u001b[0m, in \u001b[0;36m<cell line: 1>\u001b[1;34m()\u001b[0m\n\u001b[1;32m----> 1\u001b[0m company \u001b[38;5;241m=\u001b[39m\u001b[43mTotyota\u001b[49m\u001b[43m(\u001b[49m\u001b[38;5;124;43m'\u001b[39;49m\u001b[38;5;124;43mCorolla\u001b[39;49m\u001b[38;5;124;43m'\u001b[39;49m\u001b[43m)\u001b[49m\n",
      "\u001b[1;31mTypeError\u001b[0m: __init__() missing 2 required positional arguments: 'color' and 'model'"
     ]
    }
   ],
   "source": [
    "company =Totyota('Corolla')"
   ]
  },
  {
   "cell_type": "markdown",
   "id": "34a8e9c9",
   "metadata": {},
   "source": [
    "# b.\tMake an object of the class company =Totyota('Corolla','Red')"
   ]
  },
  {
   "cell_type": "code",
   "execution_count": 85,
   "id": "adef3cfe",
   "metadata": {},
   "outputs": [
    {
     "ename": "TypeError",
     "evalue": "__init__() missing 1 required positional argument: 'model'",
     "output_type": "error",
     "traceback": [
      "\u001b[1;31m---------------------------------------------------------------------------\u001b[0m",
      "\u001b[1;31mTypeError\u001b[0m                                 Traceback (most recent call last)",
      "Input \u001b[1;32mIn [85]\u001b[0m, in \u001b[0;36m<cell line: 1>\u001b[1;34m()\u001b[0m\n\u001b[1;32m----> 1\u001b[0m company \u001b[38;5;241m=\u001b[39m\u001b[43mTotyota\u001b[49m\u001b[43m(\u001b[49m\u001b[38;5;124;43m'\u001b[39;49m\u001b[38;5;124;43mCorolla\u001b[39;49m\u001b[38;5;124;43m'\u001b[39;49m\u001b[43m,\u001b[49m\u001b[38;5;124;43m'\u001b[39;49m\u001b[38;5;124;43mRed\u001b[39;49m\u001b[38;5;124;43m'\u001b[39;49m\u001b[43m)\u001b[49m\n",
      "\u001b[1;31mTypeError\u001b[0m: __init__() missing 1 required positional argument: 'model'"
     ]
    }
   ],
   "source": [
    "company =Totyota('Corolla','Red')"
   ]
  },
  {
   "cell_type": "markdown",
   "id": "db7f6d80",
   "metadata": {},
   "source": [
    "# c.\tMake an object of the class company =Totyota('Corolla','Red',2014)"
   ]
  },
  {
   "cell_type": "code",
   "execution_count": 79,
   "id": "c9fe602b",
   "metadata": {},
   "outputs": [],
   "source": [
    "company =Totyota('Corolla','Red',2014)"
   ]
  },
  {
   "cell_type": "code",
   "execution_count": 89,
   "id": "8a29a52e",
   "metadata": {},
   "outputs": [
    {
     "name": "stdout",
     "output_type": "stream",
     "text": [
      "Car Company is: Corolla,Car Color is :Red,Car model is 2014 \n",
      "None\n"
     ]
    }
   ],
   "source": [
    "print(Totyota.printdetails(company))"
   ]
  },
  {
   "cell_type": "markdown",
   "id": "9a2c8038",
   "metadata": {},
   "source": [
    "# d.\tPrint the details using the function printdetails."
   ]
  },
  {
   "cell_type": "code",
   "execution_count": 88,
   "id": "85a34250",
   "metadata": {},
   "outputs": [
    {
     "name": "stdout",
     "output_type": "stream",
     "text": [
      "Car Company is: Corolla,Car Color is :Red,Car model is 2014 \n",
      "None\n"
     ]
    }
   ],
   "source": [
    "print(Totyota.printdetails(company))"
   ]
  },
  {
   "cell_type": "markdown",
   "id": "427900b4",
   "metadata": {},
   "source": [
    "# 7.\tConsider the following class example. "
   ]
  },
  {
   "cell_type": "code",
   "execution_count": 97,
   "id": "92c43a53",
   "metadata": {},
   "outputs": [],
   "source": [
    "class Employee:\n",
    "    def __init__(self,name,role,salary):\n",
    "        self.name=name\n",
    "        self.role=role\n",
    "        self.salary=salary\n",
    "\n",
    "    def printdetails(self):\n",
    "        print( f\"Employee name: {self.name} Employee role is :{self.role} Employee salary  is {self.salary} \" )\n"
   ]
  },
  {
   "cell_type": "markdown",
   "id": "8b74024e",
   "metadata": {},
   "source": [
    "# a.\tMake an object of the class Employee = Employee (‘Ali’)"
   ]
  },
  {
   "cell_type": "code",
   "execution_count": 98,
   "id": "2d3d61f8",
   "metadata": {},
   "outputs": [
    {
     "ename": "SyntaxError",
     "evalue": "invalid character '‘' (U+2018) (3669921199.py, line 1)",
     "output_type": "error",
     "traceback": [
      "\u001b[1;36m  Input \u001b[1;32mIn [98]\u001b[1;36m\u001b[0m\n\u001b[1;33m    Employee = Employee (‘Ali’)\u001b[0m\n\u001b[1;37m                         ^\u001b[0m\n\u001b[1;31mSyntaxError\u001b[0m\u001b[1;31m:\u001b[0m invalid character '‘' (U+2018)\n"
     ]
    }
   ],
   "source": [
    "Employee = Employee (‘Ali’)"
   ]
  },
  {
   "cell_type": "markdown",
   "id": "c5a318f7",
   "metadata": {},
   "source": [
    "# b.Make an object of the class Employee = Employee (\"Ali\",\"Instructor)"
   ]
  },
  {
   "cell_type": "code",
   "execution_count": 102,
   "id": "60226906",
   "metadata": {},
   "outputs": [
    {
     "ename": "SyntaxError",
     "evalue": "EOL while scanning string literal (3037637756.py, line 1)",
     "output_type": "error",
     "traceback": [
      "\u001b[1;36m  Input \u001b[1;32mIn [102]\u001b[1;36m\u001b[0m\n\u001b[1;33m    Employee = Employee (\"Ali\",\"Instructor)\u001b[0m\n\u001b[1;37m                                           ^\u001b[0m\n\u001b[1;31mSyntaxError\u001b[0m\u001b[1;31m:\u001b[0m EOL while scanning string literal\n"
     ]
    }
   ],
   "source": [
    "Employee = Employee (\"Ali\",\"Instructor)"
   ]
  },
  {
   "cell_type": "markdown",
   "id": "9ce21137",
   "metadata": {},
   "source": [
    "# c.\tMake an object of the class Employee = Employee (\"Ali\",\"Instructor\",4000)"
   ]
  },
  {
   "cell_type": "code",
   "execution_count": 127,
   "id": "67fb2595",
   "metadata": {},
   "outputs": [],
   "source": [
    "Employee1 = Employee (\"Ali\",\"Instructor\",4000)"
   ]
  },
  {
   "cell_type": "code",
   "execution_count": 128,
   "id": "120abd8c",
   "metadata": {},
   "outputs": [
    {
     "name": "stdout",
     "output_type": "stream",
     "text": [
      "Employee name: Ali Employee role is :Instructor Employee salary  is 4000 \n",
      "None\n"
     ]
    }
   ],
   "source": [
    "print(Employee.printdetails(Employee1))"
   ]
  },
  {
   "cell_type": "markdown",
   "id": "87d87897",
   "metadata": {},
   "source": [
    "# d.\tPrint the details using the function printdetails."
   ]
  },
  {
   "cell_type": "code",
   "execution_count": 129,
   "id": "9c587569",
   "metadata": {},
   "outputs": [
    {
     "name": "stdout",
     "output_type": "stream",
     "text": [
      "Employee name: Ali Employee role is :Instructor Employee salary  is 4000 \n",
      "None\n"
     ]
    }
   ],
   "source": [
    "print(Employee. printdetails(Employee1))"
   ]
  },
  {
   "cell_type": "markdown",
   "id": "25a19ec0",
   "metadata": {},
   "source": [
    "# 8.\tUnderstand the following code. The complete code is given just run and play with the code. "
   ]
  },
  {
   "cell_type": "code",
   "execution_count": 130,
   "id": "2452b7b0",
   "metadata": {},
   "outputs": [],
   "source": [
    "class Circle:\n",
    "    def __init__(self,radius):\n",
    "        self.radius=radius\n"
   ]
  },
  {
   "cell_type": "code",
   "execution_count": null,
   "id": "0e1139fa",
   "metadata": {},
   "outputs": [],
   "source": []
  },
  {
   "cell_type": "code",
   "execution_count": 131,
   "id": "0c85f22e",
   "metadata": {},
   "outputs": [],
   "source": [
    "circle1=Circle(4)\n",
    "circle2=Circle(8)\n",
    "circle3=Circle(6)\n"
   ]
  },
  {
   "cell_type": "markdown",
   "id": "38f79ca3",
   "metadata": {},
   "source": [
    "# a.\tPrint radius using dot operator."
   ]
  },
  {
   "cell_type": "code",
   "execution_count": 132,
   "id": "e0406d55",
   "metadata": {},
   "outputs": [
    {
     "name": "stdout",
     "output_type": "stream",
     "text": [
      "Circle1 radius is  4\n",
      "Circle 2 radius is 8\n",
      "Circle3 radius is  6\n"
     ]
    }
   ],
   "source": [
    "print(\"Circle1 radius is \",circle1.radius)\n",
    "print(\"Circle 2 radius is\",circle2.radius)\n",
    "print(\"Circle3 radius is \",circle3.radius)\n"
   ]
  },
  {
   "cell_type": "markdown",
   "id": "1e1b78c6",
   "metadata": {},
   "source": [
    "# b.\tPrint the object directly like print(Circle1). "
   ]
  },
  {
   "cell_type": "code",
   "execution_count": 133,
   "id": "d5e4779e",
   "metadata": {},
   "outputs": [
    {
     "name": "stdout",
     "output_type": "stream",
     "text": [
      "<__main__.Circle object at 0x00000278EDE4CB80>\n"
     ]
    }
   ],
   "source": [
    " print(circle1)"
   ]
  },
  {
   "cell_type": "markdown",
   "id": "87caa440",
   "metadata": {},
   "source": [
    "# c.\tDefine a method that can print radius by directly calling by the circle object. "
   ]
  },
  {
   "cell_type": "code",
   "execution_count": 134,
   "id": "030678c8",
   "metadata": {},
   "outputs": [],
   "source": [
    "class Circle:\n",
    "    def __init__(self,radius):\n",
    "        self.radius=radius\n",
    "    def call1(self):\n",
    "        return(f\"the circle radius is {self.radius}\" )"
   ]
  },
  {
   "cell_type": "code",
   "execution_count": 136,
   "id": "2d202eaf",
   "metadata": {},
   "outputs": [
    {
     "ename": "AttributeError",
     "evalue": "'Circle' object has no attribute 'call1'",
     "output_type": "error",
     "traceback": [
      "\u001b[1;31m---------------------------------------------------------------------------\u001b[0m",
      "\u001b[1;31mAttributeError\u001b[0m                            Traceback (most recent call last)",
      "Input \u001b[1;32mIn [136]\u001b[0m, in \u001b[0;36m<cell line: 1>\u001b[1;34m()\u001b[0m\n\u001b[1;32m----> 1\u001b[0m \u001b[43mcircle1\u001b[49m\u001b[38;5;241;43m.\u001b[39;49m\u001b[43mcall1\u001b[49m(\u001b[38;5;241m4\u001b[39m)\n",
      "\u001b[1;31mAttributeError\u001b[0m: 'Circle' object has no attribute 'call1'"
     ]
    }
   ],
   "source": [
    "circle1.call1(4)"
   ]
  },
  {
   "cell_type": "markdown",
   "id": "3b6318b7",
   "metadata": {},
   "source": [
    "# 9.\tConsider the following class definition. "
   ]
  },
  {
   "cell_type": "code",
   "execution_count": 137,
   "id": "7e0153d3",
   "metadata": {},
   "outputs": [],
   "source": [
    "class Point:\n",
    "    pass\n"
   ]
  },
  {
   "cell_type": "markdown",
   "id": "ea218e69",
   "metadata": {},
   "source": [
    "# a.\tMake two instances named p1 and p2."
   ]
  },
  {
   "cell_type": "code",
   "execution_count": 138,
   "id": "18c876b2",
   "metadata": {},
   "outputs": [],
   "source": [
    "p1=Point()\n",
    "p2=Point()"
   ]
  },
  {
   "cell_type": "markdown",
   "id": "183667f3",
   "metadata": {},
   "source": [
    "# b.\tNow, we have a basic class, but it's fairly useless. It doesn't contain any data, and it doesn't do anything. What do we have to do to assign an attribute to a given object?\n",
    "It turns out that we don't have to do anything special in the class definition. We can set arbitrary attributes on an instantiated object using the dot notation:\n"
   ]
  },
  {
   "cell_type": "code",
   "execution_count": 139,
   "id": "8a8d86f6",
   "metadata": {},
   "outputs": [],
   "source": [
    "p1 = Point()\n",
    "p2 = Point()\n",
    "p1.x = 5\n",
    "p1.y = 4\n",
    "p2.x = 3\n",
    "p2.y = 6"
   ]
  },
  {
   "cell_type": "markdown",
   "id": "e2003a20",
   "metadata": {},
   "source": [
    "# c.\tTry different names for objects, instead of p1 and p2. Also, use different attribute names. \n",
    "Note:\n",
    "•\tThe value (here 5, 4, 3, and 6) can be anything: a Python primitive, a built-in data type, or another object. It can even be a function or another class!\n"
   ]
  },
  {
   "cell_type": "code",
   "execution_count": 140,
   "id": "ca316051",
   "metadata": {},
   "outputs": [],
   "source": [
    "j1= Point()\n",
    "j2 = Point()\n",
    "j1.x = 5\n",
    "j2.y = 4\n",
    "j1.x = 3\n",
    "j2.y = 6"
   ]
  },
  {
   "cell_type": "markdown",
   "id": "07f02a34",
   "metadata": {},
   "source": [
    "# 10.\tThe Python initialization method is the same as any other method, except it has a special name, __init__.\n",
    "Consider the point class below. \n"
   ]
  },
  {
   "cell_type": "code",
   "execution_count": 147,
   "id": "aca7fb5a",
   "metadata": {},
   "outputs": [],
   "source": [
    "class Point:\n",
    "    def move(self, x, y):\n",
    "        self.x = x\n",
    "        self.y = y\n",
    "    def reset(self):\n",
    "        self.move(0, 0)\n"
   ]
  },
  {
   "cell_type": "markdown",
   "id": "13e3708a",
   "metadata": {},
   "source": [
    "# Modify the above class by adding __init__ method. "
   ]
  },
  {
   "cell_type": "code",
   "execution_count": 142,
   "id": "e78a4957",
   "metadata": {},
   "outputs": [],
   "source": [
    "class Point:\n",
    "    def __init__(self, x, y):\n",
    "        self.move(x, y)\n",
    "    def move(self, x, y):\n",
    "        self.x = x\n",
    "        self.y = y\n",
    "    def reset(self):\n",
    "        self.move(0, 0)\n",
    "print"
   ]
  },
  {
   "cell_type": "markdown",
   "id": "3d3dd077",
   "metadata": {},
   "source": [
    "# a.\tConstructing an instance/ object using point = Point(3, 5)"
   ]
  },
  {
   "cell_type": "code",
   "execution_count": 129,
   "id": "47665b4a",
   "metadata": {},
   "outputs": [],
   "source": [
    "point = Point(3, 5)"
   ]
  },
  {
   "cell_type": "code",
   "execution_count": null,
   "id": "6123ca5a",
   "metadata": {},
   "outputs": [],
   "source": []
  },
  {
   "cell_type": "markdown",
   "id": "15f64499",
   "metadata": {},
   "source": [
    "# b.\tPrint the attributes."
   ]
  },
  {
   "cell_type": "code",
   "execution_count": 132,
   "id": "cc61102a",
   "metadata": {},
   "outputs": [
    {
     "name": "stdout",
     "output_type": "stream",
     "text": [
      "3\n"
     ]
    }
   ],
   "source": [
    "print(point.x)"
   ]
  },
  {
   "cell_type": "markdown",
   "id": "97888adf",
   "metadata": {},
   "source": [
    "# 11.\tConsider "
   ]
  },
  {
   "cell_type": "code",
   "execution_count": 166,
   "id": "e2a55692",
   "metadata": {},
   "outputs": [],
   "source": [
    "# point.py\n",
    "\n",
    "class Point:\n",
    "    def __init__(self, x, y):\n",
    "        print(\"Initialize the new instance of Point.\")\n",
    "        self.x = x\n",
    "        self.y = y\n",
    "\n",
    "    def print1(self):\n",
    "        return f\"{type(self).__name__}(x={self.x}, y={self.y})\"\n"
   ]
  },
  {
   "cell_type": "markdown",
   "id": "e587a3e3",
   "metadata": {},
   "source": [
    "# a.\tRun the following code: "
   ]
  },
  {
   "cell_type": "code",
   "execution_count": 167,
   "id": "fc40ef52",
   "metadata": {},
   "outputs": [
    {
     "name": "stdout",
     "output_type": "stream",
     "text": [
      "Initialize the new instance of Point.\n",
      "Point(x=21, y=42)\n"
     ]
    }
   ],
   "source": [
    "point = Point(21, 42)\n",
    "print(point.print1())\n"
   ]
  },
  {
   "cell_type": "markdown",
   "id": "ed91487a",
   "metadata": {},
   "source": [
    "# b.\tThe __init__ can be called by the instance and pass value directly. Run the following code."
   ]
  },
  {
   "cell_type": "code",
   "execution_count": 168,
   "id": "f8025438",
   "metadata": {},
   "outputs": [
    {
     "name": "stdout",
     "output_type": "stream",
     "text": [
      "Initialize the new instance of Point.\n",
      "<__main__.Point object at 0x00000278ED695F70>\n"
     ]
    }
   ],
   "source": [
    "point.__init__(34, 45)\n",
    "point.x\n",
    "point.y\n",
    "print(point)\n"
   ]
  },
  {
   "cell_type": "markdown",
   "id": "6746c4b4",
   "metadata": {},
   "source": [
    "# 12.\tRectangle class "
   ]
  },
  {
   "cell_type": "code",
   "execution_count": 136,
   "id": "a8e964c9",
   "metadata": {},
   "outputs": [],
   "source": [
    "class Rectangle:\n",
    "    def __init__(self, width, height):\n",
    "        self.width = width\n",
    "        self.height = height\n"
   ]
  },
  {
   "cell_type": "markdown",
   "id": "fa200010",
   "metadata": {},
   "source": [
    "# a.\tDefine an object by passing the parameters and the print them. For printing use the instance variable and dot operator. "
   ]
  },
  {
   "cell_type": "code",
   "execution_count": null,
   "id": "d7bdc658",
   "metadata": {},
   "outputs": [],
   "source": []
  },
  {
   "cell_type": "markdown",
   "id": "d62175a9",
   "metadata": {},
   "source": [
    "# b.\tReturning some thing from the __init__ method. Run the following code and observe the result.  "
   ]
  },
  {
   "cell_type": "code",
   "execution_count": 171,
   "id": "f9fb4739",
   "metadata": {},
   "outputs": [
    {
     "ename": "TypeError",
     "evalue": "__init__() should return None, not 'int'",
     "output_type": "error",
     "traceback": [
      "\u001b[1;31m---------------------------------------------------------------------------\u001b[0m",
      "\u001b[1;31mTypeError\u001b[0m                                 Traceback (most recent call last)",
      "Input \u001b[1;32mIn [171]\u001b[0m, in \u001b[0;36m<cell line: 7>\u001b[1;34m()\u001b[0m\n\u001b[0;32m      4\u001b[0m         \u001b[38;5;28mself\u001b[39m\u001b[38;5;241m.\u001b[39mheight \u001b[38;5;241m=\u001b[39m height\n\u001b[0;32m      5\u001b[0m         \u001b[38;5;28;01mreturn\u001b[39;00m \u001b[38;5;241m42\u001b[39m\n\u001b[1;32m----> 7\u001b[0m rectangle \u001b[38;5;241m=\u001b[39m \u001b[43mRectangle\u001b[49m\u001b[43m(\u001b[49m\u001b[38;5;241;43m23\u001b[39;49m\u001b[43m,\u001b[49m\u001b[38;5;241;43m56\u001b[39;49m\u001b[43m)\u001b[49m\n",
      "\u001b[1;31mTypeError\u001b[0m: __init__() should return None, not 'int'"
     ]
    }
   ],
   "source": [
    "class Rectangle:\n",
    "    def __init__(self, width, height):\n",
    "        self.width = width\n",
    "        self.height = height\n",
    "        return 42\n",
    "\n",
    "rectangle = Rectangle(23,56)\n"
   ]
  },
  {
   "cell_type": "markdown",
   "id": "7260701e",
   "metadata": {},
   "source": [
    "# c.\tNow run the following code and observe the result. "
   ]
  },
  {
   "cell_type": "code",
   "execution_count": 173,
   "id": "a40ff262",
   "metadata": {},
   "outputs": [],
   "source": [
    "class Rectangle:\n",
    "    def __init__(self, width, height):\n",
    "        self.width = width\n",
    "        self.height = height\n",
    "        return None\n",
    "\n",
    "rectangle = Rectangle(21, 42)\n",
    "\n"
   ]
  },
  {
   "cell_type": "markdown",
   "id": "27f8143a",
   "metadata": {},
   "source": [
    "# d.\tIn .__init__(), you can also run any transformation over the input arguments to properly initialize the instance attributes. For example, if your users will use Rectangle directly, then you might want to validate the supplied width and height and make sure that they’re correct before initializing the corresponding attributes:\n",
    "Run the following code and observe the result while supplying different combinations of input.  Furthermore, to enhance the exception further is highly recommended. \n"
   ]
  },
  {
   "cell_type": "code",
   "execution_count": 183,
   "id": "5ef1335e",
   "metadata": {},
   "outputs": [],
   "source": [
    "class Rectangle:\n",
    "    def __init__(self, width, height):\n",
    "        if not (isinstance(width, (int, float)) and width > 0):\n",
    "            raise ValueError(f\"positive width expected, got {width}\")\n",
    "        self.width = width\n",
    "        if not (isinstance(height, (int, float)) and height > 0):\n",
    "            raise ValueError(f\"positive height expected, got {height}\")\n",
    "        self.height = height\n",
    "\n",
    "rectangle = Rectangle(21, 1)\n"
   ]
  },
  {
   "cell_type": "code",
   "execution_count": null,
   "id": "e38aa95d",
   "metadata": {},
   "outputs": [],
   "source": []
  },
  {
   "cell_type": "markdown",
   "id": "9938acb7",
   "metadata": {},
   "source": [
    "# 13.\tOptional arguments allow you to write classes in which the constructor accepts different sets of input arguments at instantiation time. Which arguments to use at a given time will depend on your specific needs and context.\n",
    "Consider the following code. \n"
   ]
  },
  {
   "cell_type": "code",
   "execution_count": 184,
   "id": "bade8de2",
   "metadata": {},
   "outputs": [],
   "source": [
    "class Greeter:\n",
    "    def __init__(self, name, formal=False):\n",
    "        self.name = name\n",
    "        self.formal = formal\n",
    "\n",
    "    def greet(self):\n",
    "        if self.formal:\n",
    "            print(f\"Good morning, {self.name}!\")\n",
    "        else:\n",
    "            print(f\"Hello, {self.name}!\")\n"
   ]
  },
  {
   "cell_type": "markdown",
   "id": "2c143d34",
   "metadata": {},
   "source": [
    "# a.\tIn the following example, you create an informal_greeter object by passing a value to the name argument and relying on the default value of formal. You get an informal greeting on your screen when you call .greet() on the informal_greeter object."
   ]
  },
  {
   "cell_type": "code",
   "execution_count": 143,
   "id": "7304db80",
   "metadata": {},
   "outputs": [
    {
     "name": "stdout",
     "output_type": "stream",
     "text": [
      "Hello, Pythonista!\n"
     ]
    }
   ],
   "source": [
    "informal_greeter = Greeter(\"Pythonista\")\n",
    "informal_greeter.greet()\n"
   ]
  },
  {
   "cell_type": "markdown",
   "id": "f5b33198",
   "metadata": {},
   "source": [
    "# b.\tSimilarly, in the following example, you use a name and a formal argument to instantiate Greeter. Because formal is True, the result of calling .greet() is a formal greeting."
   ]
  },
  {
   "cell_type": "code",
   "execution_count": 144,
   "id": "22aca4b1",
   "metadata": {},
   "outputs": [
    {
     "name": "stdout",
     "output_type": "stream",
     "text": [
      "Good morning, Pythonista!\n"
     ]
    }
   ],
   "source": [
    "formal_greeter = Greeter(\"Pythonista\", formal=True)\n",
    "formal_greeter.greet()\n"
   ]
  },
  {
   "cell_type": "markdown",
   "id": "5129e86e",
   "metadata": {},
   "source": [
    "# 14.\tDefault arguments\n",
    "i.\tConsider the point class below.\n"
   ]
  },
  {
   "cell_type": "code",
   "execution_count": 145,
   "id": "36bd9f6b",
   "metadata": {},
   "outputs": [],
   "source": [
    "class Point:\n",
    "    def __init__(self, x, y):\n",
    "        self.move(x, y)\n",
    "    def move(self, x, y):\n",
    "        self.x = x\n",
    "        self.y = y\n",
    "    def reset(self):\n",
    "        self.move(0, 0)\n"
   ]
  },
  {
   "cell_type": "markdown",
   "id": "b0d67ab8",
   "metadata": {},
   "source": [
    "# Modify the above class by modifying the argument list of __init__ using default arguments. "
   ]
  },
  {
   "cell_type": "code",
   "execution_count": 146,
   "id": "0aa5ff0b",
   "metadata": {},
   "outputs": [],
   "source": [
    "class Point:\n",
    "    def __init__(self, x=0, y=0):\n",
    "        self.move(x, y)\n",
    "    def move(self, x, y):\n",
    "        self.x = x\n",
    "        self.y = y\n",
    "    def reset(self):\n",
    "        self.move(0, 0)\n"
   ]
  },
  {
   "cell_type": "markdown",
   "id": "52a5b046",
   "metadata": {},
   "source": [
    "# a.\tMake an instance of the class point, point = Point(3, 5). Print the point."
   ]
  },
  {
   "cell_type": "code",
   "execution_count": 148,
   "id": "eabd3a61",
   "metadata": {},
   "outputs": [],
   "source": [
    "point = Point(3, 5)"
   ]
  },
  {
   "cell_type": "code",
   "execution_count": null,
   "id": "aabd96ad",
   "metadata": {},
   "outputs": [],
   "source": []
  }
 ],
 "metadata": {
  "kernelspec": {
   "display_name": "Python 3 (ipykernel)",
   "language": "python",
   "name": "python3"
  },
  "language_info": {
   "codemirror_mode": {
    "name": "ipython",
    "version": 3
   },
   "file_extension": ".py",
   "mimetype": "text/x-python",
   "name": "python",
   "nbconvert_exporter": "python",
   "pygments_lexer": "ipython3",
   "version": "3.9.12"
  }
 },
 "nbformat": 4,
 "nbformat_minor": 5
}
