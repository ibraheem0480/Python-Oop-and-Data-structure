{
 "cells": [
  {
   "cell_type": "markdown",
   "id": "f6c8a096",
   "metadata": {},
   "source": [
    " # Manipulating Strings"
   ]
  },
  {
   "cell_type": "code",
   "execution_count": null,
   "id": "bf10d25b",
   "metadata": {},
   "outputs": [],
   "source": [
    "a=\"hallo\"\n",
    "b=\"world\"\n",
    "c=a + b\n",
    "print(c)"
   ]
  },
  {
   "cell_type": "code",
   "execution_count": null,
   "id": "48fa4e84",
   "metadata": {},
   "outputs": [],
   "source": [
    "fruit=\"banana\" \n",
    "a in fruit"
   ]
  },
  {
   "cell_type": "code",
   "execution_count": null,
   "id": "d717fa15",
   "metadata": {},
   "outputs": [],
   "source": [
    "\"a\" in fruit"
   ]
  },
  {
   "cell_type": "code",
   "execution_count": null,
   "id": "280eb11a",
   "metadata": {},
   "outputs": [],
   "source": [
    "great=\"ibraheem khan\"\n",
    "print(type(great))"
   ]
  },
  {
   "cell_type": "code",
   "execution_count": null,
   "id": "c8ba8b87",
   "metadata": {},
   "outputs": [],
   "source": [
    "dir(great)"
   ]
  },
  {
   "cell_type": "code",
   "execution_count": null,
   "id": "dedc946c",
   "metadata": {},
   "outputs": [],
   "source": [
    "great.capitalize()"
   ]
  },
  {
   "cell_type": "code",
   "execution_count": null,
   "id": "6354eb96",
   "metadata": {},
   "outputs": [],
   "source": [
    "great.find(\"br\")"
   ]
  },
  {
   "cell_type": "code",
   "execution_count": null,
   "id": "b1e8e838",
   "metadata": {},
   "outputs": [],
   "source": [
    "great.find(\"m\")"
   ]
  },
  {
   "cell_type": "code",
   "execution_count": null,
   "id": "2b6eb3e3",
   "metadata": {},
   "outputs": [],
   "source": [
    "great.find(\"z\")"
   ]
  },
  {
   "cell_type": "code",
   "execution_count": null,
   "id": "f35cc6ac",
   "metadata": {},
   "outputs": [],
   "source": [
    "great.upper()"
   ]
  },
  {
   "cell_type": "code",
   "execution_count": null,
   "id": "d8698e5f",
   "metadata": {},
   "outputs": [],
   "source": [
    "great.replace(\"ee\",\"i\")"
   ]
  },
  {
   "cell_type": "markdown",
   "id": "e9c0d281",
   "metadata": {},
   "source": [
    "#  stripping whitespace"
   ]
  },
  {
   "cell_type": "code",
   "execution_count": null,
   "id": "e8f104a6",
   "metadata": {},
   "outputs": [],
   "source": [
    "great1=\"        ibraheem khan    \"\n",
    "great1.strip()  #stripping whitespace from both side"
   ]
  },
  {
   "cell_type": "code",
   "execution_count": null,
   "id": "3e7f428b",
   "metadata": {},
   "outputs": [],
   "source": [
    "great1.rstrip()  #whitespece from right side"
   ]
  },
  {
   "cell_type": "code",
   "execution_count": null,
   "id": "d03a0fc9",
   "metadata": {},
   "outputs": [],
   "source": [
    "great1.lstrip() #whitespece from lift side"
   ]
  },
  {
   "cell_type": "markdown",
   "id": "64748fb5",
   "metadata": {},
   "source": [
    " # prefix"
   ]
  },
  {
   "cell_type": "code",
   "execution_count": 60,
   "id": "8482bc86",
   "metadata": {},
   "outputs": [
    {
     "data": {
      "text/plain": [
       "False"
      ]
     },
     "execution_count": 60,
     "metadata": {},
     "output_type": "execute_result"
    }
   ],
   "source": [
    "line=\"i am from swabi\"\n",
    "line.startswith(\"from\")"
   ]
  },
  {
   "cell_type": "code",
   "execution_count": 61,
   "id": "1e8b0f9b",
   "metadata": {},
   "outputs": [
    {
     "data": {
      "text/plain": [
       "True"
      ]
     },
     "execution_count": 61,
     "metadata": {},
     "output_type": "execute_result"
    }
   ],
   "source": [
    "line.startswith(\"i\")"
   ]
  },
  {
   "cell_type": "code",
   "execution_count": 62,
   "id": "c7d41325",
   "metadata": {},
   "outputs": [
    {
     "data": {
      "text/plain": [
       "False"
      ]
     },
     "execution_count": 62,
     "metadata": {},
     "output_type": "execute_result"
    }
   ],
   "source": [
    "line.startswith(\"a\")"
   ]
  },
  {
   "cell_type": "markdown",
   "id": "a1d42949",
   "metadata": {},
   "source": [
    " # prasing and extracting "
   ]
  },
  {
   "cell_type": "code",
   "execution_count": 63,
   "id": "12990d28",
   "metadata": {},
   "outputs": [
    {
     "name": "stdout",
     "output_type": "stream",
     "text": [
      "16\n"
     ]
    }
   ],
   "source": [
    "line1=\"ibraheemmasroor9@gmail.come nov 21/11/2023\"\n",
    "atpos=line1.find(\"@\")\n",
    "print(atpos)"
   ]
  },
  {
   "cell_type": "code",
   "execution_count": 64,
   "id": "fae32ad8",
   "metadata": {},
   "outputs": [
    {
     "name": "stdout",
     "output_type": "stream",
     "text": [
      "27\n"
     ]
    }
   ],
   "source": [
    "sppos=line1.find(\" \",atpos)\n",
    "print(sppos)"
   ]
  },
  {
   "cell_type": "code",
   "execution_count": 65,
   "id": "4b82311e",
   "metadata": {},
   "outputs": [
    {
     "name": "stdout",
     "output_type": "stream",
     "text": [
      "gmail.come\n"
     ]
    }
   ],
   "source": [
    "host=line1[atpos+1:sppos]\n",
    "print(host)"
   ]
  },
  {
   "cell_type": "code",
   "execution_count": null,
   "id": "ed48644e",
   "metadata": {},
   "outputs": [],
   "source": [
    "line=\"hallo\\nworld\" #line breaking \\n\n",
    "print(line)"
   ]
  },
  {
   "cell_type": "code",
   "execution_count": null,
   "id": "be94c91c",
   "metadata": {},
   "outputs": [],
   "source": [
    "handle=open(\"Details of the OOP lab preparation.txt\")\n",
    "return handle"
   ]
  },
  {
   "cell_type": "code",
   "execution_count": null,
   "id": "2264198b",
   "metadata": {},
   "outputs": [],
   "source": [
    "handle=open(\"professor playlist coding.txt\")\n",
    "result=handle.read()\n",
    "print(result)"
   ]
  },
  {
   "cell_type": "code",
   "execution_count": 67,
   "id": "7843ffb7",
   "metadata": {},
   "outputs": [
    {
     "name": "stdout",
     "output_type": "stream",
     "text": [
      "[12, 3, 4, 5, 6, 7, 8, 9, 32, 3]\n"
     ]
    }
   ],
   "source": [
    "x=[12,3,4,5,6,7,8,9,32,3]\n",
    "print(x)"
   ]
  },
  {
   "cell_type": "code",
   "execution_count": 68,
   "id": "c9cb57c1",
   "metadata": {},
   "outputs": [
    {
     "name": "stdout",
     "output_type": "stream",
     "text": [
      "[12, 3, 34, 5, 6, 7, 8, 9, 32, 3]\n"
     ]
    }
   ],
   "source": [
    "x[2]=34\n",
    "print(x)"
   ]
  },
  {
   "cell_type": "code",
   "execution_count": 76,
   "id": "26b5c214",
   "metadata": {},
   "outputs": [
    {
     "name": "stdout",
     "output_type": "stream",
     "text": [
      "['ibraheem', 'khan', 'swabi', 'uet']\n"
     ]
    }
   ],
   "source": [
    "x=[\"ibraheem\",\"khan\",\"swabi\",\"uet\"]\n",
    "print(x)"
   ]
  },
  {
   "cell_type": "code",
   "execution_count": 77,
   "id": "be4f7719",
   "metadata": {},
   "outputs": [
    {
     "name": "stdout",
     "output_type": "stream",
     "text": [
      "['ayub', 'khan', 'swabi', 'uet']\n"
     ]
    }
   ],
   "source": [
    "x[0]=\"ayub\"\n",
    "print(x)"
   ]
  },
  {
   "cell_type": "code",
   "execution_count": 78,
   "id": "b4c52967",
   "metadata": {},
   "outputs": [
    {
     "name": "stdout",
     "output_type": "stream",
     "text": [
      "4\n"
     ]
    }
   ],
   "source": [
    "print(len(x))"
   ]
  },
  {
   "cell_type": "code",
   "execution_count": 72,
   "id": "cac161f4",
   "metadata": {},
   "outputs": [
    {
     "name": "stdout",
     "output_type": "stream",
     "text": [
      "range(0, 4)\n"
     ]
    }
   ],
   "source": [
    "print(range(len(x)))"
   ]
  },
  {
   "cell_type": "code",
   "execution_count": null,
   "id": "c469d0be",
   "metadata": {},
   "outputs": [],
   "source": [
    "print(range(4))"
   ]
  },
  {
   "cell_type": "code",
   "execution_count": null,
   "id": "ea1642ce",
   "metadata": {},
   "outputs": [],
   "source": [
    "x=[2,3,4,5,5]\n",
    "print(sum(x))"
   ]
  },
  {
   "cell_type": "code",
   "execution_count": null,
   "id": "45e6fb50",
   "metadata": {},
   "outputs": [],
   "source": [
    "print(sum(x)/len(x))"
   ]
  },
  {
   "cell_type": "code",
   "execution_count": null,
   "id": "40a56820",
   "metadata": {},
   "outputs": [],
   "source": [
    "total=0\n",
    "count=0\n",
    "while True:\n",
    "    inp=input(\"enter the number:\")\n",
    "    if inp ==\"done\":\n",
    "        break\n",
    "    value=float(inp)\n",
    "    total=total+value\n",
    "    count=count+1\n",
    "avrage= total/count\n",
    "print(\"the avrage is:\",avrage)\n",
    "    "
   ]
  },
  {
   "cell_type": "code",
   "execution_count": null,
   "id": "95a8e610",
   "metadata": {},
   "outputs": [],
   "source": [
    "numlist=list()\n",
    "while True:\n",
    "    inp=input(\"enter the number:\")\n",
    "    if inp ==\"done\":\n",
    "        break\n",
    "    value=float(inp)\n",
    "    numlist.append(value)\n",
    "avrage= sum(numlist)/len(numlist)\n",
    "print(\"the avrage is:\",avrage)\n",
    "    "
   ]
  },
  {
   "cell_type": "code",
   "execution_count": null,
   "id": "be65f7ae",
   "metadata": {},
   "outputs": [],
   "source": [
    "line=\"ibraheem khan from         swabi\"\n",
    "line2=line.split()\n",
    "print(line2)"
   ]
  },
  {
   "cell_type": "code",
   "execution_count": null,
   "id": "445a009b",
   "metadata": {},
   "outputs": [],
   "source": [
    "line=\"ibraheem;khan;from;swabi\"\n",
    "line2=line.split(\";\")\n",
    "print(line2)"
   ]
  },
  {
   "cell_type": "code",
   "execution_count": null,
   "id": "47fc46ab",
   "metadata": {},
   "outputs": [],
   "source": [
    "line=\"ibraheem;khan;from;swabi\"\n",
    "line2=line.split()\n",
    "print( len(line2))"
   ]
  },
  {
   "cell_type": "code",
   "execution_count": null,
   "id": "f5d2811c",
   "metadata": {},
   "outputs": [],
   "source": [
    "line=\"ibraheem;khan;from;swabi\"\n",
    "line2=line.split(\";\")\n",
    "print(line2)"
   ]
  },
  {
   "cell_type": "code",
   "execution_count": null,
   "id": "e9f26e97",
   "metadata": {},
   "outputs": [],
   "source": [
    "line=\"ibraheem;khan;from;swabi\"\n",
    "line2=line.split(\";\")\n",
    "print(len(line2))"
   ]
  },
  {
   "cell_type": "code",
   "execution_count": null,
   "id": "cd4079a4",
   "metadata": {},
   "outputs": [],
   "source": [
    "file=open(\"untitled.txt\")\n",
    "file2=file.read()\n",
    "print(file)"
   ]
  },
  {
   "cell_type": "code",
   "execution_count": null,
   "id": "e5704081",
   "metadata": {},
   "outputs": [],
   "source": []
  },
  {
   "cell_type": "code",
   "execution_count": null,
   "id": "1ba8f97e",
   "metadata": {},
   "outputs": [],
   "source": [
    "fname = input(\"Enter file name: \")\n",
    "fh = open(fname)\n",
    "lst = list()\n",
    "for line in fh:\n",
    "    print(line.rstrip())\n"
   ]
  },
  {
   "cell_type": "code",
   "execution_count": null,
   "id": "508460bf",
   "metadata": {},
   "outputs": [],
   "source": [
    "# Open the file\n",
    "file_path = \"path/to/romeo.txt\"  # Replace with the actual path to your file\n",
    "\n",
    "try:\n",
    "    with open(file_path, 'r') as file:\n",
    "        # Initialize an empty list to store words\n",
    "        words_list = []\n",
    "\n",
    "        # Read the file line by line\n",
    "        for line in file:\n",
    "            # Split the line into a list of words\n",
    "            words = line.split()\n",
    "\n",
    "            # Iterate through the words in the current line\n",
    "            for word in words:\n",
    "                # Check if the word is not already in the list and append it\n",
    "                if word not in words_list:\n",
    "                    words_list.append(word)\n",
    "\n",
    "        # Sort the list of words\n",
    "        words_list.sort()\n",
    "\n",
    "        # Print the resulting words\n",
    "        for word in words_list:\n",
    "            print(word)\n",
    "\n",
    "except FileNotFoundError:"
   ]
  },
  {
   "cell_type": "code",
   "execution_count": null,
   "id": "31ea9815",
   "metadata": {},
   "outputs": [],
   "source": [
    "# Open the file\n",
    "file_path = \"path/to/romeo.txt\"  # Replace with the actual path to your file\n",
    "\n",
    "try:\n",
    "    with open(file_path, 'r') as file:\n",
    "        # Initialize an empty list to store words\n",
    "        words_list = []\n",
    "\n",
    "        # Read the file line by line\n",
    "        for line in file:\n",
    "            # Split the line into a list of words\n",
    "            words = line.split()\n",
    "\n",
    "            # Iterate through the words in the current line\n",
    "            for word in words:\n",
    "                # Check if the word is not already in the list and append it\n",
    "                if word not in words_list:\n",
    "                    words_list.append(word)\n",
    "\n",
    "        # Sort the list of words\n",
    "        words_list.sort()\n",
    "\n",
    "        # Print the resulting words\n",
    "        for word in words_list:\n",
    "            print(word)\n",
    "\n",
    "except FileNotFoundError:\n",
    "    print(f\"File not found: {file_path}\")\n",
    "except Exception as e:\n",
    "    print(f\"An error occurred: {e}\")\n"
   ]
  },
  {
   "cell_type": "code",
   "execution_count": null,
   "id": "e2e7fb3c",
   "metadata": {},
   "outputs": [],
   "source": [
    "stuff = dict()\n",
    "print(stuff['candy'])"
   ]
  },
  {
   "cell_type": "code",
   "execution_count": null,
   "id": "613734bb",
   "metadata": {},
   "outputs": [],
   "source": [
    "stuff = dict()\n",
    "print(stuff.get('candy',-1))"
   ]
  },
  {
   "cell_type": "code",
   "execution_count": null,
   "id": "2b0e0ce3",
   "metadata": {},
   "outputs": [],
   "source": [
    "if key in counts:\n",
    "    counts[key] = counts[key] + 1\n",
    "else:\n",
    "    counts[key] = 1"
   ]
  },
  {
   "cell_type": "code",
   "execution_count": null,
   "id": "f0c04255",
   "metadata": {},
   "outputs": [],
   "source": [
    "\n",
    "counts[key] = counts.get(key,0) + 1"
   ]
  },
  {
   "cell_type": "code",
   "execution_count": null,
   "id": "e2c1a38a",
   "metadata": {},
   "outputs": [],
   "source": [
    "x = dict()\n",
    "...\n",
    "for y in x :\n",
    "     ..."
   ]
  },
  {
   "cell_type": "code",
   "execution_count": null,
   "id": "ef6dd157",
   "metadata": {},
   "outputs": [],
   "source": [
    "x = {\"a\": 1, \"b\": 2, \"c\": 3}\n",
    "list_of_values = x.values()\n",
    "print(list_of_values)"
   ]
  },
  {
   "cell_type": "code",
   "execution_count": null,
   "id": "0d787b50",
   "metadata": {},
   "outputs": [],
   "source": [
    "# List (Mutable)\n",
    "my_list = [1, 2, 3]\n",
    "my_list[0] = 10  # Modifying the first element\n"
   ]
  },
  {
   "cell_type": "code",
   "execution_count": null,
   "id": "956ffe64",
   "metadata": {},
   "outputs": [],
   "source": [
    "# Tuple (Immutable)\n",
    "my_tuple = (1, 2, 3)\n",
    "# The following line would result in an error:\n",
    "# my_tuple[0] = 10  # Trying to modify the first element\n"
   ]
  },
  {
   "cell_type": "code",
   "execution_count": null,
   "id": "66daef28",
   "metadata": {},
   "outputs": [],
   "source": [
    "my_list = [1, 2, 3]\n",
    "print(my_list[0])  # Accessing the first element of the list\n"
   ]
  },
  {
   "cell_type": "code",
   "execution_count": null,
   "id": "643da41b",
   "metadata": {},
   "outputs": [],
   "source": [
    "my_tuple = (1, 2, 3)\n",
    "print(my_tuple[0])  # Accessing the first element of the tuple\n"
   ]
  },
  {
   "cell_type": "code",
   "execution_count": null,
   "id": "42292519",
   "metadata": {},
   "outputs": [],
   "source": [
    "Mutability: Lists are mutable, which means you can modify their content (add, remove, or change elements) after they are created. Tuples, on the other hand, are immutable, meaning their elements cannot be changed after the tuple is created."
   ]
  },
  {
   "cell_type": "code",
   "execution_count": null,
   "id": "4632796d",
   "metadata": {},
   "outputs": [],
   "source": [
    "x , y = 3, 4"
   ]
  },
  {
   "cell_type": "code",
   "execution_count": null,
   "id": "92ec860e",
   "metadata": {},
   "outputs": [],
   "source": [
    "x = { 'chuck' : 1 , 'fred' : 42, 'jan': 100}\n",
    "y = x.items()\n",
    "print(y)"
   ]
  },
  {
   "cell_type": "markdown",
   "id": "515fffd8",
   "metadata": {},
   "source": [
    " # Dictionaries"
   ]
  },
  {
   "cell_type": "code",
   "execution_count": null,
   "id": "dd5e302e",
   "metadata": {},
   "outputs": [],
   "source": [
    "name=dict()\n",
    "name[\"ibrahem\"]=480\n",
    "name[\"ayub\"]=470\n",
    "name[\"mashal\"]=466\n",
    "name[\"tayyab\"]=223\n",
    "print(name)"
   ]
  },
  {
   "cell_type": "code",
   "execution_count": null,
   "id": "3b01526d",
   "metadata": {},
   "outputs": [],
   "source": [
    "print(name[\"ayub\"])"
   ]
  },
  {
   "cell_type": "code",
   "execution_count": null,
   "id": "f5dd58e3",
   "metadata": {},
   "outputs": [],
   "source": [
    "print(name.items())"
   ]
  },
  {
   "cell_type": "code",
   "execution_count": null,
   "id": "9e84c122",
   "metadata": {},
   "outputs": [],
   "source": [
    "print(name.keys())"
   ]
  },
  {
   "cell_type": "code",
   "execution_count": null,
   "id": "df9b0669",
   "metadata": {},
   "outputs": [],
   "source": [
    "name[\"mashal\"]=name[\"mashal\"]+2"
   ]
  },
  {
   "cell_type": "code",
   "execution_count": null,
   "id": "ed29bf45",
   "metadata": {},
   "outputs": [],
   "source": [
    "print(name[\"mashal\"])"
   ]
  },
  {
   "cell_type": "code",
   "execution_count": null,
   "id": "f3c9be27",
   "metadata": {},
   "outputs": [],
   "source": [
    "print(name)"
   ]
  },
  {
   "cell_type": "markdown",
   "id": "3942b338",
   "metadata": {},
   "source": [
    "# comparing list and dict"
   ]
  },
  {
   "cell_type": "code",
   "execution_count": null,
   "id": "d8242e93",
   "metadata": {},
   "outputs": [],
   "source": [
    "lst=list()\n",
    "lst.append(24)"
   ]
  },
  {
   "cell_type": "code",
   "execution_count": null,
   "id": "184be386",
   "metadata": {},
   "outputs": [],
   "source": [
    "print(lst)"
   ]
  },
  {
   "cell_type": "code",
   "execution_count": null,
   "id": "baa3748f",
   "metadata": {},
   "outputs": [],
   "source": [
    "add=dict()\n",
    "add[\"ibraheem\"]=480\n",
    "add[\"ayub\"]=470\n",
    "print(add)"
   ]
  },
  {
   "cell_type": "code",
   "execution_count": null,
   "id": "b8d23b2e",
   "metadata": {},
   "outputs": [],
   "source": [
    "\"ibraheem\" in add"
   ]
  },
  {
   "cell_type": "code",
   "execution_count": null,
   "id": "3a80c7de",
   "metadata": {},
   "outputs": [],
   "source": [
    "count =dict()\n",
    "names=[\"ibraheem\",\"ayub\",\"mashal\",\"tayyab\",\"abbas\",\"mobeen\",\"mashal\",\"ayub\"]\n",
    "for name in names:\n",
    "    if name not in count:\n",
    "        count[name]=1\n",
    "    else:\n",
    "        count[name]=count[name]+1\n",
    "print(count)"
   ]
  },
  {
   "cell_type": "code",
   "execution_count": null,
   "id": "994bb7bc",
   "metadata": {},
   "outputs": [],
   "source": [
    "count =dict()\n",
    "names=[\"ibraheem\",\"ayub\",\"mashal\",\"tayyab\",\"abbas\",\"mobeen\",\"mashal\",\"ayub\"]\n",
    "count[\"mashal\"]=4\n",
    "for name in names:\n",
    "    count[name]=count.get(name,0) +1\n",
    "print(count)"
   ]
  },
  {
   "cell_type": "code",
   "execution_count": 4,
   "id": "d2ebde92",
   "metadata": {},
   "outputs": [
    {
     "name": "stdout",
     "output_type": "stream",
     "text": [
      "enter the text\n",
      " ibraheem khan from swabi\n",
      "word: ['ibraheem', 'khan', 'from', 'swabi']\n",
      "count: {'i': 2, 'b': 2, 'r': 2, 'a': 3, 'h': 2, 'e': 2, 'm': 2, ' ': 3, 'k': 1, 'n': 1, 'f': 1, 'o': 1, 's': 1, 'w': 1}\n"
     ]
    }
   ],
   "source": [
    "count=dict()\n",
    "print(\"enter the text\")\n",
    "line=input(\" \")\n",
    "words=line.split()\n",
    "print(\"word:\",words)\n",
    "for name in line:\n",
    "    count[name]=count.get(name,0) +1\n",
    "print(\"count:\",count)"
   ]
  },
  {
   "cell_type": "code",
   "execution_count": 14,
   "id": "00ae0fd5",
   "metadata": {},
   "outputs": [
    {
     "name": "stdout",
     "output_type": "stream",
     "text": [
      "ibraheem 3\n",
      "ayub 4\n",
      "mashal 5\n",
      "tayyab 2\n",
      "abbas 6\n",
      "mobeen 45\n",
      "fahad 67\n"
     ]
    }
   ],
   "source": [
    "\n",
    "names={\"ibraheem\":3,\"ayub\":4,\"mashal\":5,\"tayyab\":2,\"abbas\":6,\"mobeen\":45,\"mashal\":5,\"fahad\":67}\n",
    "for name in names :\n",
    "    print(name,names[name])\n"
   ]
  },
  {
   "cell_type": "code",
   "execution_count": 15,
   "id": "af64e967",
   "metadata": {},
   "outputs": [
    {
     "name": "stdout",
     "output_type": "stream",
     "text": [
      "['ibraheem', 'ayub', 'mashal', 'tayyab', 'abbas', 'mobeen', 'fahad']\n"
     ]
    }
   ],
   "source": [
    "names={\"ibraheem\":3,\"ayub\":4,\"mashal\":5,\"tayyab\":2,\"abbas\":6,\"mobeen\":45,\"mashal\":5,\"fahad\":67}\n",
    "result=list(names)\n",
    "print(result)"
   ]
  },
  {
   "cell_type": "code",
   "execution_count": 17,
   "id": "765e6a05",
   "metadata": {},
   "outputs": [
    {
     "data": {
      "text/plain": [
       "dict_keys(['ibraheem', 'ayub', 'mashal', 'tayyab', 'abbas', 'mobeen', 'fahad'])"
      ]
     },
     "execution_count": 17,
     "metadata": {},
     "output_type": "execute_result"
    }
   ],
   "source": [
    "names.keys()"
   ]
  },
  {
   "cell_type": "code",
   "execution_count": 24,
   "id": "1075dbe0",
   "metadata": {},
   "outputs": [
    {
     "data": {
      "text/plain": [
       "dict_values([3, 4, 5, 2, 6, 45, 67])"
      ]
     },
     "execution_count": 24,
     "metadata": {},
     "output_type": "execute_result"
    }
   ],
   "source": [
    "names.values()"
   ]
  },
  {
   "cell_type": "code",
   "execution_count": 25,
   "id": "68544cfe",
   "metadata": {},
   "outputs": [
    {
     "data": {
      "text/plain": [
       "dict_items([('ibraheem', 3), ('ayub', 4), ('mashal', 5), ('tayyab', 2), ('abbas', 6), ('mobeen', 45), ('fahad', 67)])"
      ]
     },
     "execution_count": 25,
     "metadata": {},
     "output_type": "execute_result"
    }
   ],
   "source": [
    "names.items()"
   ]
  },
  {
   "cell_type": "markdown",
   "id": "f543fdba",
   "metadata": {},
   "source": [
    " # tuple"
   ]
  },
  {
   "cell_type": "code",
   "execution_count": 29,
   "id": "e8f9e892",
   "metadata": {},
   "outputs": [
    {
     "name": "stdout",
     "output_type": "stream",
     "text": [
      "12\n"
     ]
    }
   ],
   "source": [
    "#tuple\n",
    "(a,b)=(12,34)\n",
    "print(a)"
   ]
  },
  {
   "cell_type": "code",
   "execution_count": 30,
   "id": "9622f3c7",
   "metadata": {},
   "outputs": [
    {
     "name": "stdout",
     "output_type": "stream",
     "text": [
      "ayub\n"
     ]
    }
   ],
   "source": [
    "(a,d)=(23,\"ayub\")\n",
    "print(d)"
   ]
  },
  {
   "cell_type": "code",
   "execution_count": 37,
   "id": "9d574ea0",
   "metadata": {},
   "outputs": [
    {
     "name": "stdout",
     "output_type": "stream",
     "text": [
      "ibraheem 480\n",
      "ayub 470\n",
      "tayyab 223\n"
     ]
    }
   ],
   "source": [
    "d=dict()\n",
    "d[\"ibraheem\"]=480\n",
    "d[\"ayub\"]=470\n",
    "d[\"tayyab\"]=223\n",
    "for (k,v) in d.items():\n",
    "    print(k,v)"
   ]
  },
  {
   "cell_type": "code",
   "execution_count": 38,
   "id": "0081f2bd",
   "metadata": {},
   "outputs": [
    {
     "name": "stdout",
     "output_type": "stream",
     "text": [
      "ibraheem 480\n",
      "ayub 470\n",
      "tayyab 223\n",
      "dict_items([('ibraheem', 480), ('ayub', 470), ('tayyab', 223)])\n"
     ]
    }
   ],
   "source": [
    "d=dict()\n",
    "d[\"ibraheem\"]=480\n",
    "d[\"ayub\"]=470\n",
    "d[\"tayyab\"]=223\n",
    "for (k,v) in d.items():\n",
    "    print(k,v)\n",
    "tups=d.items()\n",
    "print(tups)"
   ]
  },
  {
   "cell_type": "code",
   "execution_count": 40,
   "id": "c7967b61",
   "metadata": {},
   "outputs": [
    {
     "data": {
      "text/plain": [
       "['__add__',\n",
       " '__class__',\n",
       " '__class_getitem__',\n",
       " '__contains__',\n",
       " '__delattr__',\n",
       " '__dir__',\n",
       " '__doc__',\n",
       " '__eq__',\n",
       " '__format__',\n",
       " '__ge__',\n",
       " '__getattribute__',\n",
       " '__getitem__',\n",
       " '__getnewargs__',\n",
       " '__gt__',\n",
       " '__hash__',\n",
       " '__init__',\n",
       " '__init_subclass__',\n",
       " '__iter__',\n",
       " '__le__',\n",
       " '__len__',\n",
       " '__lt__',\n",
       " '__mul__',\n",
       " '__ne__',\n",
       " '__new__',\n",
       " '__reduce__',\n",
       " '__reduce_ex__',\n",
       " '__repr__',\n",
       " '__rmul__',\n",
       " '__setattr__',\n",
       " '__sizeof__',\n",
       " '__str__',\n",
       " '__subclasshook__',\n",
       " 'count',\n",
       " 'index']"
      ]
     },
     "execution_count": 40,
     "metadata": {},
     "output_type": "execute_result"
    }
   ],
   "source": [
    "d=tuple()\n",
    "dir(d)"
   ]
  },
  {
   "cell_type": "code",
   "execution_count": 43,
   "id": "a606c4c5",
   "metadata": {},
   "outputs": [
    {
     "data": {
      "text/plain": [
       "True"
      ]
     },
     "execution_count": 43,
     "metadata": {},
     "output_type": "execute_result"
    }
   ],
   "source": [
    "(1,2,3,4)<(5,6,7,8)"
   ]
  },
  {
   "cell_type": "code",
   "execution_count": 53,
   "id": "f1750447",
   "metadata": {},
   "outputs": [
    {
     "data": {
      "text/plain": [
       "True"
      ]
     },
     "execution_count": 53,
     "metadata": {},
     "output_type": "execute_result"
    }
   ],
   "source": [
    "(\"ibraheem\",\"masroor\")>(\"ayub\",\"khan\") #iteration look to alphabts"
   ]
  },
  {
   "cell_type": "code",
   "execution_count": 57,
   "id": "c03f9edf",
   "metadata": {},
   "outputs": [
    {
     "name": "stdout",
     "output_type": "stream",
     "text": [
      "[('abbas', 6), ('ayub', 4), ('fahad', 67), ('ibraheem', 3), ('mashal', 5), ('mobeen', 45), ('tayyab', 2)]\n"
     ]
    }
   ],
   "source": [
    "names={\"ibraheem\":3,\"ayub\":4,\"mashal\":5,\"tayyab\":2,\"abbas\":6,\"mobeen\":45,\"mashal\":5,\"fahad\":67}\n",
    "result=sorted([(k,v) for k,v in names.items() ])\n",
    "print(result)\n",
    "#sorted by its key"
   ]
  },
  {
   "cell_type": "code",
   "execution_count": 59,
   "id": "47f38b80",
   "metadata": {},
   "outputs": [
    {
     "name": "stdout",
     "output_type": "stream",
     "text": [
      "[(2, 'tayyab'), (3, 'ibraheem'), (4, 'ayub'), (5, 'mashal'), (6, 'abbas'), (45, 'mobeen'), (67, 'fahad')]\n"
     ]
    }
   ],
   "source": [
    "names={\"ibraheem\":3,\"ayub\":4,\"mashal\":5,\"tayyab\":2,\"abbas\":6,\"mobeen\":45,\"mashal\":5,\"fahad\":67}\n",
    "result=sorted([(v,k) for k,v in names.items() ])\n",
    "print(result)  \n",
    "#sorted by its value"
   ]
  },
  {
   "cell_type": "code",
   "execution_count": null,
   "id": "91881340",
   "metadata": {},
   "outputs": [],
   "source": []
  }
 ],
 "metadata": {
  "kernelspec": {
   "display_name": "Python 3 (ipykernel)",
   "language": "python",
   "name": "python3"
  },
  "language_info": {
   "codemirror_mode": {
    "name": "ipython",
    "version": 3
   },
   "file_extension": ".py",
   "mimetype": "text/x-python",
   "name": "python",
   "nbconvert_exporter": "python",
   "pygments_lexer": "ipython3",
   "version": "3.9.12"
  }
 },
 "nbformat": 4,
 "nbformat_minor": 5
}
