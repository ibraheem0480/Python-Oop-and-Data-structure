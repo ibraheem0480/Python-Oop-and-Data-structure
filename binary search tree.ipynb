{
 "cells": [
  {
   "cell_type": "markdown",
   "id": "59cb9920",
   "metadata": {},
   "source": [
    "# AIM:"
   ]
  },
  {
   "cell_type": "markdown",
   "id": "79824ad6",
   "metadata": {},
   "source": [
    "### AIM:To understand the fundamental of tree and Binary Tree that how tree works and how we insert or delete data form a tree "
   ]
  },
  {
   "cell_type": "markdown",
   "id": "d3c253a5",
   "metadata": {},
   "source": [
    "## INTRODUCTION:\n",
    "Binary Tree is defined as a tree data structure where each node has at most 2 children. Since each element in a binary tree can have only 2 children, we typically name them the left and right child.\n"
   ]
  },
  {
   "cell_type": "markdown",
   "id": "22897eb3",
   "metadata": {},
   "source": [
    "## LAB REPORT TASK:"
   ]
  },
  {
   "cell_type": "markdown",
   "id": "f7fcc8a7",
   "metadata": {},
   "source": [
    "### Run the following code and use different methods for searching inserting and treversal method.b"
   ]
  },
  {
   "cell_type": "code",
   "execution_count": 24,
   "id": "d6076065",
   "metadata": {},
   "outputs": [
    {
     "name": "stdout",
     "output_type": "stream",
     "text": [
      "4\n",
      "6\n",
      "7\n",
      "8\n",
      "9\n",
      "10\n",
      "14\n"
     ]
    }
   ],
   "source": [
    "class BST:\n",
    "    def __init__(self, key):\n",
    "        self. key=key\n",
    "        self. lchild=None\n",
    "        self. rchild=None\n",
    "        \n",
    "    def insert(self, data):\n",
    "        if self.key is None:\n",
    "            self.key=data\n",
    "            return \n",
    "        if self.key>data:\n",
    "            if self.lchild:\n",
    "                self.lchild.insert(data)\n",
    "            else:\n",
    "                self.lchild=BST(data) \n",
    "        else:\n",
    "            if self.rchild:\n",
    "                self.rchild. insert(data)\n",
    "            else:\n",
    "                self.rchild=BST(data) \n",
    "               \n",
    "    def search(self, data) :\n",
    "        if self.key==data:\n",
    "            print('Node is found') \n",
    "            return \n",
    "        if data< self.key:\n",
    "            if self.lchild:\n",
    "                self. lchild.search(data) \n",
    "            else:\n",
    "                print('Node is not present' ) \n",
    "                         \n",
    "        else:\n",
    "            if self.rchild:\n",
    "                self.rchild.search(data) \n",
    "            else:\n",
    "                print(' Node is not present')\n",
    "\n",
    "    def preorder(self) :\n",
    "        print(self.key)\n",
    "        if self. lchild:\n",
    "            self. lchild. preorder()\n",
    "        if self. rchild:\n",
    "            self.rchild.preorder()\n",
    "            \n",
    "    def inorder(self) :\n",
    "        if self. lchild:\n",
    "            self. lchild.inorder()  \n",
    "        print(self.key)\n",
    "        if self. rchild:\n",
    "            self. rchild. inorder() \n",
    "        \n",
    "root= BST(10)\n",
    "list1=[6,7,8,9,4,14]\n",
    "for i in list1:\n",
    "    root.insert(i) \n",
    "root. inorder()\n"
   ]
  },
  {
   "cell_type": "markdown",
   "id": "3cbb52fa",
   "metadata": {},
   "source": [
    "## LAB WORK TASK:"
   ]
  },
  {
   "cell_type": "markdown",
   "id": "24d2ab63",
   "metadata": {},
   "source": [
    "## 1.\tCREATE A BST(BINARY SEARCH TREE)  CLASS:"
   ]
  },
  {
   "cell_type": "markdown",
   "id": "951bdcff",
   "metadata": {},
   "source": [
    "### •\tWhile creating a BST class it use as a node. A node which is use for as a Root node."
   ]
  },
  {
   "cell_type": "markdown",
   "id": "08305b8a",
   "metadata": {},
   "source": [
    "### i.\tRun the following code."
   ]
  },
  {
   "cell_type": "code",
   "execution_count": 16,
   "id": "0a76c572",
   "metadata": {},
   "outputs": [],
   "source": [
    "class BST:\n",
    "    def __init__(self, key) :\n",
    "        self. key=key\n",
    "        self. lchild=None\n",
    "        self. rchild=None"
   ]
  },
  {
   "cell_type": "markdown",
   "id": "5302520a",
   "metadata": {},
   "source": [
    "### a)\tIt is a class which has three attributes key, which represent data and Leftchild (lchild) , Rightchild (rchild), which are declared as None ."
   ]
  },
  {
   "cell_type": "markdown",
   "id": "cc1adb7b",
   "metadata": {},
   "source": [
    "## 2.\tCREATE A METHOD FOR INSERTION OF NODES IN TREE:"
   ]
  },
  {
   "cell_type": "code",
   "execution_count": 19,
   "id": "5e0e206c",
   "metadata": {},
   "outputs": [],
   "source": [
    "    def insert(self, data) :\n",
    "        if self.key is None:\n",
    "            self.key=data\n",
    "            return \n",
    "        if self.key>data:\n",
    "            if self.lchild:\n",
    "                self.lchild.insert(data)\n",
    "            else:\n",
    "                self.lchild=BST(data) \n",
    "        else:\n",
    "            if self.rchild:\n",
    "                self.rchild. insert(data)\n",
    "            else:\n",
    "                self.rchild=BST(data) "
   ]
  },
  {
   "cell_type": "markdown",
   "id": "85a2e7ce",
   "metadata": {},
   "source": [
    "### b)\tThis Method shows the three conditions."
   ]
  },
  {
   "cell_type": "markdown",
   "id": "d37d7e27",
   "metadata": {},
   "source": [
    "### •\tFirst if Tree is empty it store the key or root value to data value\n",
    "if self.key is None\n",
    "self.key==data\n",
    "            return\n"
   ]
  },
  {
   "cell_type": "code",
   "execution_count": null,
   "id": "dce6a354",
   "metadata": {},
   "outputs": [],
   "source": [
    "if self.key is None:\n",
    "    self.key==data\n",
    "    return\n"
   ]
  },
  {
   "cell_type": "markdown",
   "id": "dce9cbf3",
   "metadata": {},
   "source": [
    "# •\tIf insert data is greater  then key or root value then we insert it in left child only if there is leftchild present and it has not data in it then we use "
   ]
  },
  {
   "cell_type": "code",
   "execution_count": 20,
   "id": "29741ccb",
   "metadata": {},
   "outputs": [
    {
     "ename": "IndentationError",
     "evalue": "expected an indented block (3014252826.py, line 1)",
     "output_type": "error",
     "traceback": [
      "\u001b[1;36m  Input \u001b[1;32mIn [20]\u001b[1;36m\u001b[0m\n\u001b[1;33m    if self.key>data:\u001b[0m\n\u001b[1;37m                     ^\u001b[0m\n\u001b[1;31mIndentationError\u001b[0m\u001b[1;31m:\u001b[0m expected an indented block\n"
     ]
    }
   ],
   "source": [
    " if self.key>data:"
   ]
  },
  {
   "cell_type": "markdown",
   "id": "b594f6a7",
   "metadata": {},
   "source": [
    "\n",
    "## 3.\tCREATE A SEARCH METHOD TO SEARCH IF NODE IS PRESENT OR NOT.\n"
   ]
  },
  {
   "cell_type": "markdown",
   "id": "d2a25457",
   "metadata": {},
   "source": [
    "### a)\tRun the following code."
   ]
  },
  {
   "cell_type": "code",
   "execution_count": 23,
   "id": "3a64aa9e",
   "metadata": {},
   "outputs": [],
   "source": [
    "  def search(self, data) :\n",
    "        if self.key==data:\n",
    "            print('Node is found') \n",
    "            return \n",
    "        if data< self.key:\n",
    "            if self.lchild:\n",
    "                self. lchild.search(data) \n",
    "            else:\n",
    "                print('Node is not preesent' ) \n",
    "                         \n",
    "        else:\n",
    "            if self.rchild:\n",
    "                self.rchild.search(data) \n",
    "            else:\n",
    "                print(' Node is not present')"
   ]
  },
  {
   "cell_type": "markdown",
   "id": "ba3be43e",
   "metadata": {},
   "source": [
    "### i.\tIn search method we define three condition with recursion.\n",
    "\n",
    "### ii.\tFirst we check the item is equal to root then print Node is present.\n",
    "\n",
    "### iii.\tSecond we check the item is lesser then root node(data) then search the Leftchild side of the tree by recursion.\n",
    "\n",
    "### iv.\tThird we check the item is greater then root node(data) then check the Rightchild side of the tree by recursion .\n"
   ]
  },
  {
   "cell_type": "markdown",
   "id": "cc2090f0",
   "metadata": {},
   "source": [
    "# 4.\tTRAVERSAL METHODS IN TREE:\n",
    "i.\tPreorder Treversal\n",
    "ii.\tPostorder Treversal\n",
    "iii.\tIn-order Treversal\n"
   ]
  },
  {
   "cell_type": "markdown",
   "id": "47e2d9d8",
   "metadata": {},
   "source": [
    "## 1.\tPreorder Traversal:\n",
    "i.\tIn preorder treversal first the root will print then left side of the root node and then right side of root node. Recursion is used for multiple Leftchild and Rchild nodes.\n"
   ]
  },
  {
   "cell_type": "markdown",
   "id": "cfbcacc6",
   "metadata": {},
   "source": [
    "### a)\tRun the code with contact of above code.    "
   ]
  },
  {
   "cell_type": "code",
   "execution_count": 26,
   "id": "6b399270",
   "metadata": {},
   "outputs": [],
   "source": [
    " def preorder(self) :\n",
    "        print(self.key)\n",
    "        if self. lchild:\n",
    "            self. lchild. preorder()\n",
    "        if self. rchild:\n",
    "            self.rchild.preorder()"
   ]
  },
  {
   "cell_type": "markdown",
   "id": "f94f4445",
   "metadata": {},
   "source": [
    "## 2.\tPostorder Treversal:\n",
    "ii.\tIn postorder treversal first the Leftchild’s of binary tree will print then the Righchild’s of the tree and the root of the binary tree will print.\n"
   ]
  },
  {
   "cell_type": "markdown",
   "id": "5ce63e6f",
   "metadata": {},
   "source": [
    "### a)\tRun the following code "
   ]
  },
  {
   "cell_type": "code",
   "execution_count": 29,
   "id": "ed7b1f4a",
   "metadata": {},
   "outputs": [],
   "source": [
    "  def inorder(self) :\n",
    "        if self. lchild:\n",
    "            self. lchild.inorder()  \n",
    "        print(self.key)\n",
    "        if self. rchild:\n",
    "            self. rchild. inorder() "
   ]
  },
  {
   "cell_type": "markdown",
   "id": "97d3b7de",
   "metadata": {},
   "source": [
    "## 3.\tInorder Treversal:\n",
    "iii.\tIn Inorder treversal first the Left side of the tree then the root key and then Right side of the tree .\n"
   ]
  },
  {
   "cell_type": "code",
   "execution_count": 30,
   "id": "7fd71a43",
   "metadata": {},
   "outputs": [
    {
     "name": "stdout",
     "output_type": "stream",
     "text": [
      "4\n",
      "6\n",
      "7\n",
      "8\n",
      "9\n",
      "10\n",
      "14\n"
     ]
    }
   ],
   "source": [
    "root= BST(10)\n",
    "list1=[6,7,8,9,4,14]\n",
    "for i in list1:\n",
    "    root.insert(i) \n",
    "root. inorder()"
   ]
  },
  {
   "cell_type": "code",
   "execution_count": null,
   "id": "0dd02046",
   "metadata": {},
   "outputs": [],
   "source": []
  },
  {
   "cell_type": "code",
   "execution_count": null,
   "id": "02f9af1e",
   "metadata": {},
   "outputs": [],
   "source": []
  }
 ],
 "metadata": {
  "kernelspec": {
   "display_name": "Python 3 (ipykernel)",
   "language": "python",
   "name": "python3"
  },
  "language_info": {
   "codemirror_mode": {
    "name": "ipython",
    "version": 3
   },
   "file_extension": ".py",
   "mimetype": "text/x-python",
   "name": "python",
   "nbconvert_exporter": "python",
   "pygments_lexer": "ipython3",
   "version": "3.9.12"
  }
 },
 "nbformat": 4,
 "nbformat_minor": 5
}
