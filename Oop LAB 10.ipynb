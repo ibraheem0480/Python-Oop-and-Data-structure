{
 "cells": [
  {
   "cell_type": "markdown",
   "id": "6d2148b6",
   "metadata": {},
   "source": [
    "# Lab work tasks:"
   ]
  },
  {
   "cell_type": "markdown",
   "id": "3be49ad5",
   "metadata": {},
   "source": [
    "## 1. Creating Modules "
   ]
  },
  {
   "cell_type": "code",
   "execution_count": 1,
   "id": "1b85ac10",
   "metadata": {},
   "outputs": [],
   "source": [
    "def add(x, y):\n",
    "    return x + y "
   ]
  },
  {
   "cell_type": "markdown",
   "id": "6186083e",
   "metadata": {},
   "source": [
    "### a. Save the file as adder.py in a new directory called myproject/ somewhere on your computer. "
   ]
  },
  {
   "cell_type": "markdown",
   "id": "ae76918f",
   "metadata": {},
   "source": [
    "## a. Use this module as given below. "
   ]
  },
  {
   "cell_type": "code",
   "execution_count": 2,
   "id": "cc5549d0",
   "metadata": {},
   "outputs": [
    {
     "name": "stdout",
     "output_type": "stream",
     "text": [
      "4\n"
     ]
    }
   ],
   "source": [
    "import adder\n",
    "value = adder.add(2, 2)\n",
    "print(value) "
   ]
  },
  {
   "cell_type": "markdown",
   "id": "9f1ab34b",
   "metadata": {},
   "source": [
    "## b. Add another function to double a given value. "
   ]
  },
  {
   "cell_type": "code",
   "execution_count": 3,
   "id": "fe9d2ec0",
   "metadata": {},
   "outputs": [],
   "source": [
    "def double(x):\n",
    "    return x + x "
   ]
  },
  {
   "cell_type": "markdown",
   "id": "7e0ee5da",
   "metadata": {},
   "source": [
    "## ▪ Run the following code.  "
   ]
  },
  {
   "cell_type": "code",
   "execution_count": 4,
   "id": "3d60f7e7",
   "metadata": {},
   "outputs": [
    {
     "name": "stdout",
     "output_type": "stream",
     "text": [
      "8\n"
     ]
    }
   ],
   "source": [
    "import adder \n",
    "value = adder.add(2, 2) \n",
    "double_value = adder.double(value)  \n",
    "print(double_value) "
   ]
  },
  {
   "cell_type": "markdown",
   "id": "0d19556c",
   "metadata": {},
   "source": [
    "## c. import <module> as <other_name>"
   ]
  },
  {
   "cell_type": "code",
   "execution_count": 7,
   "id": "426bf170",
   "metadata": {},
   "outputs": [],
   "source": [
    "import adder as ad \n"
   ]
  },
  {
   "cell_type": "markdown",
   "id": "5d30519a",
   "metadata": {},
   "source": [
    "### ▪ When you import a module this way, the module’s namespace is accessed through <other_name> instead of <module>. "
   ]
  },
  {
   "cell_type": "markdown",
   "id": "b3746233",
   "metadata": {},
   "source": [
    "## i. Run the following code and note what you observe and why this happened. "
   ]
  },
  {
   "cell_type": "code",
   "execution_count": 11,
   "id": "58411284",
   "metadata": {},
   "outputs": [
    {
     "name": "stdout",
     "output_type": "stream",
     "text": [
      "8\n"
     ]
    }
   ],
   "source": [
    "import adder as a # <-- Change this line \n",
    "# Leave the code below unchanged \n",
    "value = a.add(2, 2) \n",
    "double_value = a.double(value) \n",
    "print(double_value) "
   ]
  },
  {
   "cell_type": "markdown",
   "id": "9c62ff51",
   "metadata": {},
   "source": [
    "### ii. Run the following code and note what you observe and why this happened. "
   ]
  },
  {
   "cell_type": "code",
   "execution_count": 17,
   "id": "05cdab54",
   "metadata": {},
   "outputs": [
    {
     "name": "stdout",
     "output_type": "stream",
     "text": [
      "8\n"
     ]
    }
   ],
   "source": [
    "import adder as a \n",
    "value = a.add(2, 2) # <-- Change this line \n",
    "double_value = a.double(value) # <-- Change this line, too \n",
    "print(double_value)"
   ]
  },
  {
   "cell_type": "markdown",
   "id": "cec3c083",
   "metadata": {},
   "source": [
    "### d. from <module> import <name> "
   ]
  },
  {
   "cell_type": "code",
   "execution_count": 18,
   "id": "c5281f0d",
   "metadata": {},
   "outputs": [
    {
     "ename": "SyntaxError",
     "evalue": "invalid syntax (1479945954.py, line 1)",
     "output_type": "error",
     "traceback": [
      "\u001b[1;36m  Input \u001b[1;32mIn [18]\u001b[1;36m\u001b[0m\n\u001b[1;33m    import <name>\u001b[0m\n\u001b[1;37m           ^\u001b[0m\n\u001b[1;31mSyntaxError\u001b[0m\u001b[1;31m:\u001b[0m invalid syntax\n"
     ]
    }
   ],
   "source": [
    " import <name>"
   ]
  },
  {
   "cell_type": "markdown",
   "id": "7462780b",
   "metadata": {},
   "source": [
    "### Instead of importing the entire namespace, you can import only a specific name from a module. "
   ]
  },
  {
   "cell_type": "markdown",
   "id": "a5a5abff",
   "metadata": {},
   "source": [
    "## ▪ Run the following code. "
   ]
  },
  {
   "cell_type": "code",
   "execution_count": 19,
   "id": "57acac7f",
   "metadata": {},
   "outputs": [
    {
     "name": "stdout",
     "output_type": "stream",
     "text": [
      "82\n"
     ]
    }
   ],
   "source": [
    "from adder import add # <-- Change this line \n",
    "value = adder.add(80, 2) \n",
    "print(value) "
   ]
  },
  {
   "cell_type": "markdown",
   "id": "55dbaa27",
   "metadata": {},
   "source": [
    "### ▪ Run the following code and note what you observe and why this happened. "
   ]
  },
  {
   "cell_type": "code",
   "execution_count": 20,
   "id": "8fd4a7ac",
   "metadata": {},
   "outputs": [
    {
     "name": "stdout",
     "output_type": "stream",
     "text": [
      "4\n"
     ]
    }
   ],
   "source": [
    "from adder import add # <-- Change this line \n",
    "value = adder.add(2, 2) \n",
    "double_value = adder.double(2) \n",
    "print(double_value)"
   ]
  },
  {
   "cell_type": "markdown",
   "id": "5d42fc2f",
   "metadata": {},
   "source": [
    "### ▪ Run the following code and note what you observe and why this happened. "
   ]
  },
  {
   "cell_type": "code",
   "execution_count": 21,
   "id": "2bdab24b",
   "metadata": {},
   "outputs": [
    {
     "name": "stdout",
     "output_type": "stream",
     "text": [
      "8\n"
     ]
    }
   ],
   "source": [
    "from adder import add, double # <-- Change this line \n",
    "# Leave the code below unchanged \n",
    "value = add(2, 2) \n",
    "double_value = double(value) \n",
    "print(double_value)"
   ]
  },
  {
   "cell_type": "markdown",
   "id": "53f2a07c",
   "metadata": {},
   "source": [
    "### 2. Master the above different ways of importing.  Sometimes, modules contain a single function or class that has the same name as the  module. For example, there is a module in the Python standard library called datetime that contains a class called datetime. "
   ]
  },
  {
   "cell_type": "markdown",
   "id": "3efe156d",
   "metadata": {},
   "source": [
    "### a. Run the following code and understand how different ways of importing are important.  "
   ]
  },
  {
   "cell_type": "code",
   "execution_count": 22,
   "id": "db743db7",
   "metadata": {},
   "outputs": [
    {
     "data": {
      "text/plain": [
       "datetime.datetime(2020, 2, 2, 0, 0)"
      ]
     },
     "execution_count": 22,
     "metadata": {},
     "output_type": "execute_result"
    }
   ],
   "source": [
    "import datetime \n",
    "datetime.datetime(2020, 2, 2) "
   ]
  },
  {
   "cell_type": "markdown",
   "id": "2b78316e",
   "metadata": {},
   "source": [
    "### b. Run the following code and understand how different ways of importing are important. "
   ]
  },
  {
   "cell_type": "code",
   "execution_count": 32,
   "id": "e34a9492",
   "metadata": {},
   "outputs": [
    {
     "data": {
      "text/plain": [
       "datetime.datetime(2020, 2, 2, 0, 0)"
      ]
     },
     "execution_count": 32,
     "metadata": {},
     "output_type": "execute_result"
    }
   ],
   "source": [
    "import datetime as dt \n",
    "dt.datetime(2020, 2, 2) "
   ]
  },
  {
   "cell_type": "markdown",
   "id": "7a513115",
   "metadata": {},
   "source": [
    "### c. Run the following code and understand how different ways of importing are important. "
   ]
  },
  {
   "cell_type": "code",
   "execution_count": 33,
   "id": "b3e0a156",
   "metadata": {},
   "outputs": [
    {
     "data": {
      "text/plain": [
       "datetime.datetime(2020, 2, 2, 0, 0)"
      ]
     },
     "execution_count": 33,
     "metadata": {},
     "output_type": "execute_result"
    }
   ],
   "source": [
    "from datetime import datetime \n",
    "datetime(2020, 2, 2) "
   ]
  },
  {
   "cell_type": "markdown",
   "id": "b34d713b",
   "metadata": {},
   "source": [
    "# 3. Creating Packages "
   ]
  },
  {
   "cell_type": "markdown",
   "id": "a24bd680",
   "metadata": {},
   "source": [
    "### A package is a folder that contains one or more Python modules. It must also contain a special module called __init__.py. Here is an example of a package so that you can see this structure:"
   ]
  },
  {
   "cell_type": "markdown",
   "id": "73645338",
   "metadata": {},
   "source": [
    "## • Open a script and save. "
   ]
  },
  {
   "cell_type": "markdown",
   "id": "b8324df3",
   "metadata": {},
   "source": [
    "### • Make module1.py and save in the same folder. "
   ]
  },
  {
   "cell_type": "code",
   "execution_count": 6,
   "id": "f5b6cf84",
   "metadata": {},
   "outputs": [],
   "source": [
    "#module1 \n",
    "def great(name):\n",
    "    print(f'hallo,{name}!')"
   ]
  },
  {
   "cell_type": "markdown",
   "id": "e3bb2b2a",
   "metadata": {},
   "source": [
    "### • Make module2.py and save in the same folder.  "
   ]
  },
  {
   "cell_type": "code",
   "execution_count": 7,
   "id": "279ed257",
   "metadata": {},
   "outputs": [],
   "source": [
    "# module2.py \n",
    "def depart(name): \n",
    "    print(f\"Goodbye, {name}!\") "
   ]
  },
  {
   "cell_type": "markdown",
   "id": "d186d554",
   "metadata": {},
   "source": [
    "### b. Run the following code and observe what happens and why. "
   ]
  },
  {
   "cell_type": "code",
   "execution_count": null,
   "id": "b877d2b4",
   "metadata": {},
   "outputs": [],
   "source": []
  },
  {
   "cell_type": "code",
   "execution_count": 1,
   "id": "bc50a4de",
   "metadata": {},
   "outputs": [],
   "source": [
    "import mypackage"
   ]
  },
  {
   "cell_type": "code",
   "execution_count": 2,
   "id": "1f16c16a",
   "metadata": {},
   "outputs": [
    {
     "name": "stdout",
     "output_type": "stream",
     "text": [
      "Help on package mypackage:\n",
      "\n",
      "NAME\n",
      "    mypackage - # coding: utf-8\n",
      "\n",
      "PACKAGE CONTENTS\n",
      "    module1\n",
      "    module2\n",
      "\n",
      "FILE\n",
      "    c:\\users\\hp\\onedrive\\python work  oop labs\\lab no # 10\\mypackage\\__init__.py\n",
      "\n",
      "\n"
     ]
    }
   ],
   "source": [
    "help(mypackage)"
   ]
  },
  {
   "cell_type": "code",
   "execution_count": 3,
   "id": "05c72b2a",
   "metadata": {},
   "outputs": [],
   "source": [
    "from mypackage import module1"
   ]
  },
  {
   "cell_type": "code",
   "execution_count": 4,
   "id": "bab7f348",
   "metadata": {},
   "outputs": [
    {
     "name": "stdout",
     "output_type": "stream",
     "text": [
      "Help on module mypackage.module1 in mypackage:\n",
      "\n",
      "NAME\n",
      "    mypackage.module1 - # coding: utf-8\n",
      "\n",
      "FUNCTIONS\n",
      "    great(name)\n",
      "        #module1\n",
      "\n",
      "FILE\n",
      "    c:\\users\\hp\\onedrive\\python work  oop labs\\lab no # 10\\mypackage\\module1.py\n",
      "\n",
      "\n"
     ]
    }
   ],
   "source": [
    "help(module1)"
   ]
  },
  {
   "cell_type": "code",
   "execution_count": 5,
   "id": "0d861927",
   "metadata": {},
   "outputs": [
    {
     "name": "stdout",
     "output_type": "stream",
     "text": [
      "Help on module mypackage.module1 in mypackage:\n",
      "\n",
      "NAME\n",
      "    mypackage.module1 - # coding: utf-8\n",
      "\n",
      "FUNCTIONS\n",
      "    great(name)\n",
      "        #module1\n",
      "\n",
      "FILE\n",
      "    c:\\users\\hp\\onedrive\\python work  oop labs\\lab no # 10\\mypackage\\module1.py\n",
      "\n",
      "\n"
     ]
    }
   ],
   "source": [
    "help(module1)"
   ]
  },
  {
   "cell_type": "code",
   "execution_count": 6,
   "id": "0cad9883",
   "metadata": {},
   "outputs": [],
   "source": [
    "import mypackage"
   ]
  },
  {
   "cell_type": "code",
   "execution_count": 7,
   "id": "cba8036e",
   "metadata": {},
   "outputs": [],
   "source": [
    "from mypackage import module2"
   ]
  },
  {
   "cell_type": "code",
   "execution_count": 9,
   "id": "decd8de3",
   "metadata": {},
   "outputs": [
    {
     "name": "stdout",
     "output_type": "stream",
     "text": [
      "hallo,Pythonista!\n",
      "Goodbye, Pythonista!\n"
     ]
    }
   ],
   "source": [
    "import mypackage \n",
    "mypackage.module1.great(\"Pythonista\") \n",
    "mypackage.module2.depart(\"Pythonista\")"
   ]
  },
  {
   "cell_type": "markdown",
   "id": "66ea8db0",
   "metadata": {},
   "source": [
    "### c. Run the following code and observe what happens and why. "
   ]
  },
  {
   "cell_type": "code",
   "execution_count": 10,
   "id": "7026a537",
   "metadata": {},
   "outputs": [
    {
     "name": "stdout",
     "output_type": "stream",
     "text": [
      "hallo,Pythonista!\n",
      "Goodbye, Pythonista!\n"
     ]
    }
   ],
   "source": [
    "import mypackage.module1 # <-- Change this line \n",
    "# Leave the below code unchanged \n",
    "mypackage.module1.great(\"Pythonista\") \n",
    "mypackage.module2.depart(\"Pythonista\")"
   ]
  },
  {
   "cell_type": "markdown",
   "id": "f97797bb",
   "metadata": {},
   "source": [
    "### d. Run the following code and observe what happens and why."
   ]
  },
  {
   "cell_type": "code",
   "execution_count": 12,
   "id": "4fba0ff6",
   "metadata": {},
   "outputs": [
    {
     "name": "stdout",
     "output_type": "stream",
     "text": [
      "hallo,Pythonista!\n",
      "Goodbye, Pythonista!\n"
     ]
    }
   ],
   "source": [
    "import mypackage.module1 \n",
    "import mypackage.module2 # <-- Add this line \n",
    "# Leave the below code unchanged \n",
    "mypackage.module1.great(\"Pythonista\") \n",
    "mypackage.module2.depart(\"Pythonista\")"
   ]
  },
  {
   "cell_type": "code",
   "execution_count": null,
   "id": "d3011933",
   "metadata": {},
   "outputs": [],
   "source": []
  }
 ],
 "metadata": {
  "kernelspec": {
   "display_name": "Python 3 (ipykernel)",
   "language": "python",
   "name": "python3"
  },
  "language_info": {
   "codemirror_mode": {
    "name": "ipython",
    "version": 3
   },
   "file_extension": ".py",
   "mimetype": "text/x-python",
   "name": "python",
   "nbconvert_exporter": "python",
   "pygments_lexer": "ipython3",
   "version": "3.9.12"
  }
 },
 "nbformat": 4,
 "nbformat_minor": 5
}
