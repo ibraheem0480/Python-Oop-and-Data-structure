{
 "cells": [
  {
   "cell_type": "markdown",
   "id": "c17e94a8",
   "metadata": {},
   "source": [
    "# INTRODUCTION:\n",
    "### A queue is a fundamental data structure in computer science that follows the First-In-First-Out (FIFO) principle. In a queue, elements are added at the rear (enqueue) and removed from the front (dequeue). This ensures that the oldest element in the queue is the first to be processed.\n"
   ]
  },
  {
   "cell_type": "code",
   "execution_count": 66,
   "id": "584bbcaa",
   "metadata": {},
   "outputs": [],
   "source": [
    "import tensorflow"
   ]
  },
  {
   "cell_type": "markdown",
   "id": "65094c93",
   "metadata": {},
   "source": [
    "# TYPES OF QUEUE:\n",
    "1.\tList Queue\n",
    "2.\tDeque Queue\n",
    "3.\tNode base Queue.\n"
   ]
  },
  {
   "cell_type": "markdown",
   "id": "0ccd0b59",
   "metadata": {},
   "source": [
    "## 1.\tLIST QUEUE:\n",
    "a.\tRun this Code:\n"
   ]
  },
  {
   "cell_type": "code",
   "execution_count": 2,
   "id": "75fd9d78",
   "metadata": {},
   "outputs": [],
   "source": [
    "class Queue:\n",
    "    def __init__(self):\n",
    "        self.items=[]\n",
    "        \n",
    "    def is_empty(self):\n",
    "        return self.items is None"
   ]
  },
  {
   "cell_type": "markdown",
   "id": "1b4649e0",
   "metadata": {},
   "source": [
    "## i.\t__init__(self):This is the constructor method that initializes a new instance of the Queue class. It creates an empty list (self.items) to store the elements of the queue\n",
    "## ii.\tis_empty(self): This method returns True if the queue is empty.\n",
    " ## (i.e., it has no elements), and False otherwise. It checks the length of the list (self.items) to determine if the queue is empty.\n"
   ]
  },
  {
   "cell_type": "markdown",
   "id": "98c2f38f",
   "metadata": {},
   "source": [
    "## b.\tRun the Following Code:"
   ]
  },
  {
   "cell_type": "code",
   "execution_count": 9,
   "id": "e3cf76fa",
   "metadata": {},
   "outputs": [],
   "source": [
    "def enquee(self,item):\n",
    "    self.items.append(item)\n",
    "        "
   ]
  },
  {
   "cell_type": "markdown",
   "id": "b4b2927c",
   "metadata": {},
   "source": [
    "### iii.\tenqueue(self, item): This method adds an item to the rear of the queue. It appends the specified item to the end of the list (self.items), effectively adding it to the rear of the queue."
   ]
  },
  {
   "cell_type": "markdown",
   "id": "99a7ac17",
   "metadata": {},
   "source": [
    "## c.\tNow Run this Code:"
   ]
  },
  {
   "cell_type": "code",
   "execution_count": 80,
   "id": "208e4ba6",
   "metadata": {},
   "outputs": [],
   "source": [
    "def dequeue(self):\n",
    "        if  not self.is_empty():\n",
    "            self.items.pop(0)\n",
    "        else:\n",
    "            print(\"Queue is empty\")"
   ]
  },
  {
   "cell_type": "markdown",
   "id": "29edc318",
   "metadata": {},
   "source": [
    "## iv.\tdequeue(self): This method removes and returns the item from the front of the queue. It uses the pop(0) method to remove and return the first element in the list. Before attempting to dequeue, it checks if the queue is empty using the is_empty method to avoid errors."
   ]
  },
  {
   "cell_type": "markdown",
   "id": "8f8481f8",
   "metadata": {},
   "source": [
    "## d.\tNow Run this code:"
   ]
  },
  {
   "cell_type": "code",
   "execution_count": 81,
   "id": "5869c12a",
   "metadata": {},
   "outputs": [
    {
     "name": "stdout",
     "output_type": "stream",
     "text": [
      "Dequeue: [2, 3]\n",
      "Dequeue: [3]\n",
      "is the queue emty? False\n"
     ]
    }
   ],
   "source": [
    "my_queue=Queue()\n",
    "\n",
    "my_queue.enqueue(1)\n",
    "my_queue.enqueue(2)\n",
    "my_queue.enqueue(3)\n",
    "\n",
    "print(\"Dequeue:\",my_queue.dequeue())\n",
    "print(\"Dequeue:\",my_queue.dequeue())\n",
    "\n",
    "print(\"is the queue emty?\",my_queue.is_empty())"
   ]
  },
  {
   "cell_type": "code",
   "execution_count": 28,
   "id": "679a5b95",
   "metadata": {},
   "outputs": [],
   "source": [
    "class Queue:\n",
    "    def __init__(self):\n",
    "        self.items=[]\n",
    "        \n",
    "    def is_empty(self):\n",
    "        return self.items is None\n",
    "    \n",
    "    def enqueue(self,item):\n",
    "        self.items.append(item)\n",
    "        \n",
    "    def dequeue(self):\n",
    "        if  not self.is_empty():\n",
    "            self.items.pop(0)\n",
    "            return self.items\n",
    "        else:\n",
    "            print(\"Queue is empty\")\n",
    "            \n",
    "            \n",
    "            "
   ]
  },
  {
   "cell_type": "code",
   "execution_count": 29,
   "id": "15f83b5c",
   "metadata": {},
   "outputs": [
    {
     "name": "stdout",
     "output_type": "stream",
     "text": [
      "Dequeue: [3]\n"
     ]
    }
   ],
   "source": [
    "my_queue=Queue()\n",
    "\n",
    "my_queue.enqueue(1)\n",
    "my_queue.enqueue(3)\n",
    "print(\"Dequeue:\",my_queue.dequeue())"
   ]
  },
  {
   "cell_type": "code",
   "execution_count": 30,
   "id": "39e2ae4d",
   "metadata": {},
   "outputs": [
    {
     "name": "stdout",
     "output_type": "stream",
     "text": [
      "Dequeue: [5, 9]\n"
     ]
    }
   ],
   "source": [
    "my_queue.enqueue(5)\n",
    "my_queue.enqueue(9)\n",
    "print(\"Dequeue:\",my_queue.dequeue())\n"
   ]
  },
  {
   "cell_type": "code",
   "execution_count": 31,
   "id": "39eb60b1",
   "metadata": {},
   "outputs": [
    {
     "name": "stdout",
     "output_type": "stream",
     "text": [
      "Dequeue: [3]\n",
      "Dequeue: [5, 9]\n"
     ]
    }
   ],
   "source": [
    "my_queue=Queue()\n",
    "\n",
    "my_queue.enqueue(1)\n",
    "my_queue.enqueue(3)\n",
    "print(\"Dequeue:\",my_queue.dequeue())\n",
    "\n",
    "my_queue.enqueue(5)\n",
    "my_queue.enqueue(9)\n",
    "\n",
    "print(\"Dequeue:\",my_queue.dequeue())"
   ]
  },
  {
   "cell_type": "code",
   "execution_count": null,
   "id": "0e1d42b5",
   "metadata": {},
   "outputs": [],
   "source": []
  },
  {
   "cell_type": "code",
   "execution_count": null,
   "id": "b5d59d98",
   "metadata": {},
   "outputs": [],
   "source": []
  },
  {
   "cell_type": "code",
   "execution_count": 36,
   "id": "a0b94613",
   "metadata": {},
   "outputs": [
    {
     "name": "stdout",
     "output_type": "stream",
     "text": [
      "Dequeue: [3, 7, 9]\n"
     ]
    }
   ],
   "source": [
    "my_queue=Queue()\n",
    "\n",
    "my_queue.enqueue(5)\n",
    "my_queue.enqueue(1)\n",
    "my_queue.enqueue(3)\n",
    "my_queue.enqueue(7)\n",
    "my_queue.enqueue(9)\n",
    "\n",
    "my_queue.dequeue()\n",
    "\n",
    "print(\"Dequeue:\",my_queue.dequeue())\n"
   ]
  },
  {
   "cell_type": "code",
   "execution_count": null,
   "id": "48e161e2",
   "metadata": {},
   "outputs": [],
   "source": []
  },
  {
   "cell_type": "code",
   "execution_count": 44,
   "id": "a4cdf79f",
   "metadata": {},
   "outputs": [],
   "source": [
    "queue=[]"
   ]
  },
  {
   "cell_type": "code",
   "execution_count": 51,
   "id": "d97cb6da",
   "metadata": {},
   "outputs": [],
   "source": [
    "queue.append(5)\n",
    "queue.append(1)\n",
    "queue.append(3)\n",
    "queue.append(7)\n",
    "queue.append(9)"
   ]
  },
  {
   "cell_type": "code",
   "execution_count": 48,
   "id": "b4799c56",
   "metadata": {},
   "outputs": [
    {
     "data": {
      "text/plain": [
       "5"
      ]
     },
     "execution_count": 48,
     "metadata": {},
     "output_type": "execute_result"
    }
   ],
   "source": [
    "queue.pop(0)"
   ]
  },
  {
   "cell_type": "code",
   "execution_count": 50,
   "id": "f67bb204",
   "metadata": {},
   "outputs": [
    {
     "data": {
      "text/plain": [
       "1"
      ]
     },
     "execution_count": 50,
     "metadata": {},
     "output_type": "execute_result"
    }
   ],
   "source": [
    "queue.pop(0)"
   ]
  },
  {
   "cell_type": "code",
   "execution_count": null,
   "id": "d0934059",
   "metadata": {},
   "outputs": [],
   "source": []
  },
  {
   "cell_type": "markdown",
   "id": "3247be96",
   "metadata": {},
   "source": [
    "# 2.\tDEQUE QUEUE:\n"
   ]
  },
  {
   "cell_type": "code",
   "execution_count": 96,
   "id": "8b8a9f89",
   "metadata": {},
   "outputs": [],
   "source": [
    "from collections  import deque\n",
    "\n",
    "class DequeQueue:\n",
    "    def __init__(self):\n",
    "        self.items=deque()\n",
    "    def is_empty(self):\n",
    "        return (self.items) == 0\n",
    "    \n",
    "    def enqueue(self,item):\n",
    "        self.items.append(item)\n",
    "             \n",
    "    def dequeue(self):\n",
    "        if  not self.is_empty():\n",
    "            return self.items.popleft()\n",
    "        else:\n",
    "            print(\"Queue is empty.cannot dequeue.\")\n",
    "             "
   ]
  },
  {
   "cell_type": "markdown",
   "id": "7d0843a6",
   "metadata": {},
   "source": [
    "## i.\t__init__(self): The constructor initializes a new instance of the DequeQueue class. It creates an empty deque (self.items) to store the elements of the queue.\n"
   ]
  },
  {
   "cell_type": "code",
   "execution_count": 38,
   "id": "a7462ea8",
   "metadata": {},
   "outputs": [],
   "source": [
    "  def __init__(self):\n",
    "        self.items=deque()"
   ]
  },
  {
   "cell_type": "markdown",
   "id": "cae34a3e",
   "metadata": {},
   "source": [
    "## i.\tis_empty(self): This method returns True if the queue is empty (i.e., it has no elements), and False otherwise. It checks the length of the deque (self.items) to determine if the queue is empty."
   ]
  },
  {
   "cell_type": "code",
   "execution_count": 40,
   "id": "7133a7a5",
   "metadata": {},
   "outputs": [],
   "source": [
    " def is_empty(self):\n",
    "        return (self.items) == 0"
   ]
  },
  {
   "cell_type": "markdown",
   "id": "4b74c381",
   "metadata": {},
   "source": [
    "## ii.\tenqueue(self, item): This method adds an item to the rear of the queue. It uses the append method of the deque to add the specified item to the end, effectively enqueueing it."
   ]
  },
  {
   "cell_type": "code",
   "execution_count": 43,
   "id": "b8042e57",
   "metadata": {},
   "outputs": [],
   "source": [
    " def enqueue(self,item):\n",
    "        self.items.append(item)"
   ]
  },
  {
   "cell_type": "markdown",
   "id": "5425b341",
   "metadata": {},
   "source": [
    "## iii.\tdequeue(self): This method removes and returns the item from the front of the queue. It uses the popleft method of the deque to remove and return the leftmost element. Before attempting to dequeue, it checks if the queue is empty using the is_empty method to avoid errors."
   ]
  },
  {
   "cell_type": "code",
   "execution_count": 45,
   "id": "fd762f3e",
   "metadata": {},
   "outputs": [],
   "source": [
    "  def dequeue(self):\n",
    "        if  not self.is_empty():\n",
    "            return self.items.popleft()\n",
    "        else:\n",
    "            print(\"Queue is empty.cannot dequeue.\")\n",
    "             "
   ]
  },
  {
   "cell_type": "markdown",
   "id": "dff729d0",
   "metadata": {},
   "source": [
    "## Now, let's create instances and demonstrate the usage:\n",
    "iv.\tThis creates a DequeQueue object, enqueues three elements, prints the queue, dequeues two elements, and checks if the queue is empty. The output should demonstrate the basic functionality of the deque-based queu\n"
   ]
  },
  {
   "cell_type": "code",
   "execution_count": 78,
   "id": "edfea391",
   "metadata": {},
   "outputs": [
    {
     "name": "stdout",
     "output_type": "stream",
     "text": [
      "enqueue: None\n"
     ]
    },
    {
     "ename": "AttributeError",
     "evalue": "'Node' object has no attribute 'next'",
     "output_type": "error",
     "traceback": [
      "\u001b[1;31m---------------------------------------------------------------------------\u001b[0m",
      "\u001b[1;31mAttributeError\u001b[0m                            Traceback (most recent call last)",
      "Input \u001b[1;32mIn [78]\u001b[0m, in \u001b[0;36m<cell line: 11>\u001b[1;34m()\u001b[0m\n\u001b[0;32m      6\u001b[0m my_queue\u001b[38;5;241m.\u001b[39menqueue(\u001b[38;5;241m3\u001b[39m)\n\u001b[0;32m      8\u001b[0m \u001b[38;5;28mprint\u001b[39m(\u001b[38;5;124m\"\u001b[39m\u001b[38;5;124menqueue:\u001b[39m\u001b[38;5;124m\"\u001b[39m,my_queue\u001b[38;5;241m.\u001b[39menqueue(\u001b[38;5;241m1\u001b[39m))\n\u001b[1;32m---> 11\u001b[0m \u001b[38;5;28mprint\u001b[39m(\u001b[38;5;124m\"\u001b[39m\u001b[38;5;124mdequeue:\u001b[39m\u001b[38;5;124m\"\u001b[39m,\u001b[43mmy_node_queue\u001b[49m\u001b[38;5;241;43m.\u001b[39;49m\u001b[43mdequeue\u001b[49m\u001b[43m(\u001b[49m\u001b[43m)\u001b[49m)\n\u001b[0;32m     12\u001b[0m \u001b[38;5;28mprint\u001b[39m(\u001b[38;5;124m\"\u001b[39m\u001b[38;5;124mdequeue:\u001b[39m\u001b[38;5;124m\"\u001b[39m,my_node_queue\u001b[38;5;241m.\u001b[39mdequeue())\n\u001b[0;32m     14\u001b[0m \u001b[38;5;28mprint\u001b[39m(\u001b[38;5;124m\"\u001b[39m\u001b[38;5;124mis the queue is empty? \u001b[39m\u001b[38;5;124m\"\u001b[39m, my_node_queue\u001b[38;5;241m.\u001b[39mis_empty())\n",
      "Input \u001b[1;32mIn [65]\u001b[0m, in \u001b[0;36mNodeQueue.dequeue\u001b[1;34m(self)\u001b[0m\n\u001b[0;32m     26\u001b[0m \u001b[38;5;28;01melse\u001b[39;00m:\n\u001b[0;32m     27\u001b[0m     remove_data\u001b[38;5;241m=\u001b[39m\u001b[38;5;28mself\u001b[39m\u001b[38;5;241m.\u001b[39mfront\u001b[38;5;241m.\u001b[39mdata\n\u001b[1;32m---> 28\u001b[0m     \u001b[38;5;28mself\u001b[39m\u001b[38;5;241m.\u001b[39mfront\u001b[38;5;241m=\u001b[39m\u001b[38;5;28;43mself\u001b[39;49m\u001b[38;5;241;43m.\u001b[39;49m\u001b[43mfront\u001b[49m\u001b[38;5;241;43m.\u001b[39;49m\u001b[43mnext\u001b[49m\n\u001b[0;32m     29\u001b[0m     \u001b[38;5;28;01mif\u001b[39;00m \u001b[38;5;28mself\u001b[39m\u001b[38;5;241m.\u001b[39mfront \u001b[38;5;129;01mis\u001b[39;00m \u001b[38;5;28;01mNone\u001b[39;00m:\n\u001b[0;32m     30\u001b[0m         \u001b[38;5;28mself\u001b[39m\u001b[38;5;241m.\u001b[39mrear\u001b[38;5;241m=\u001b[39m\u001b[38;5;28;01mNone\u001b[39;00m\n",
      "\u001b[1;31mAttributeError\u001b[0m: 'Node' object has no attribute 'next'"
     ]
    }
   ],
   "source": [
    "my_queue=DequeQueue()\n",
    "\n",
    "\n",
    "my_queue.enqueue(1)\n",
    "my_queue.enqueue(2)\n",
    "my_queue.enqueue(3)\n",
    "\n",
    "\n",
    "print(\"enqueue:\",my_queue.enqueue())\n",
    "\n",
    "print(\"dequeue:\",my_node_queue.dequeue())\n",
    "print(\"dequeue:\",my_node_queue.dequeue())\n",
    "\n",
    "print(\"is the queue is empty? \", my_node_queue.is_empty())"
   ]
  },
  {
   "cell_type": "code",
   "execution_count": 98,
   "id": "69262697",
   "metadata": {},
   "outputs": [
    {
     "ename": "AttributeError",
     "evalue": "'Node' object has no attribute 'next'",
     "output_type": "error",
     "traceback": [
      "\u001b[1;31m---------------------------------------------------------------------------\u001b[0m",
      "\u001b[1;31mAttributeError\u001b[0m                            Traceback (most recent call last)",
      "Input \u001b[1;32mIn [98]\u001b[0m, in \u001b[0;36m<cell line: 28>\u001b[1;34m()\u001b[0m\n\u001b[0;32m     22\u001b[0m my_queue\u001b[38;5;241m.\u001b[39menqueue(\u001b[38;5;241m2\u001b[39m)\n\u001b[0;32m     23\u001b[0m my_queue\u001b[38;5;241m.\u001b[39menqueue(\u001b[38;5;241m3\u001b[39m)\n\u001b[1;32m---> 28\u001b[0m \u001b[38;5;28mprint\u001b[39m(\u001b[38;5;124m\"\u001b[39m\u001b[38;5;124mdequeue:\u001b[39m\u001b[38;5;124m\"\u001b[39m,\u001b[43mmy_node_queue\u001b[49m\u001b[38;5;241;43m.\u001b[39;49m\u001b[43mdequeue\u001b[49m\u001b[43m(\u001b[49m\u001b[43m)\u001b[49m)\n\u001b[0;32m     29\u001b[0m \u001b[38;5;28mprint\u001b[39m(\u001b[38;5;124m\"\u001b[39m\u001b[38;5;124mdequeue:\u001b[39m\u001b[38;5;124m\"\u001b[39m,my_node_queue\u001b[38;5;241m.\u001b[39mdequeue())\n\u001b[0;32m     31\u001b[0m \u001b[38;5;28mprint\u001b[39m(\u001b[38;5;124m\"\u001b[39m\u001b[38;5;124mis the queue is empty? \u001b[39m\u001b[38;5;124m\"\u001b[39m, my_queue\u001b[38;5;241m.\u001b[39mis_empty())\n",
      "Input \u001b[1;32mIn [65]\u001b[0m, in \u001b[0;36mNodeQueue.dequeue\u001b[1;34m(self)\u001b[0m\n\u001b[0;32m     26\u001b[0m \u001b[38;5;28;01melse\u001b[39;00m:\n\u001b[0;32m     27\u001b[0m     remove_data\u001b[38;5;241m=\u001b[39m\u001b[38;5;28mself\u001b[39m\u001b[38;5;241m.\u001b[39mfront\u001b[38;5;241m.\u001b[39mdata\n\u001b[1;32m---> 28\u001b[0m     \u001b[38;5;28mself\u001b[39m\u001b[38;5;241m.\u001b[39mfront\u001b[38;5;241m=\u001b[39m\u001b[38;5;28;43mself\u001b[39;49m\u001b[38;5;241;43m.\u001b[39;49m\u001b[43mfront\u001b[49m\u001b[38;5;241;43m.\u001b[39;49m\u001b[43mnext\u001b[49m\n\u001b[0;32m     29\u001b[0m     \u001b[38;5;28;01mif\u001b[39;00m \u001b[38;5;28mself\u001b[39m\u001b[38;5;241m.\u001b[39mfront \u001b[38;5;129;01mis\u001b[39;00m \u001b[38;5;28;01mNone\u001b[39;00m:\n\u001b[0;32m     30\u001b[0m         \u001b[38;5;28mself\u001b[39m\u001b[38;5;241m.\u001b[39mrear\u001b[38;5;241m=\u001b[39m\u001b[38;5;28;01mNone\u001b[39;00m\n",
      "\u001b[1;31mAttributeError\u001b[0m: 'Node' object has no attribute 'next'"
     ]
    }
   ],
   "source": [
    "from collections  import deque\n",
    "\n",
    "class DequeQueue:\n",
    "    def __init__(self):\n",
    "        self.items=deque()\n",
    "    def is_empty(self):\n",
    "        return (self.items) == 0\n",
    "    def enqueue(self,item):\n",
    "        self.items.append(item)\n",
    "             \n",
    "    def dequeue(self):\n",
    "        if  not self.is_empty():\n",
    "            return self.items.popleft()\n",
    "        else:\n",
    "            print(\"Queue is empty.cannot dequeue.\")\n",
    "\n",
    "\n",
    "my_queue=DequeQueue()\n",
    "\n",
    "\n",
    "my_queue.enqueue(1)\n",
    "my_queue.enqueue(2)\n",
    "my_queue.enqueue(3)\n",
    "\n",
    "\n",
    "\n",
    "\n",
    "print(\"dequeue:\",my_node_queue.dequeue())\n",
    "print(\"dequeue:\",my_node_queue.dequeue())\n",
    "\n",
    "print(\"is the queue is empty? \", my_queue.is_empty())"
   ]
  },
  {
   "cell_type": "markdown",
   "id": "db64594e",
   "metadata": {},
   "source": [
    "# 3.\tNODE BASE QUEUE:"
   ]
  },
  {
   "cell_type": "code",
   "execution_count": 99,
   "id": "af3b4f11",
   "metadata": {},
   "outputs": [],
   "source": [
    "class Node:\n",
    "    def __init__(self,data):\n",
    "        self.data=data\n",
    "        self.ref=None\n",
    "class NodeQueue:\n",
    "    def __init__(slef):\n",
    "        self.front=None\n",
    "        self.rear=None\n",
    "        \n",
    "    def is_empty(self):\n",
    "        return self.front is None\n",
    "    \n",
    "    def enqueue(self,data):\n",
    "        new_node=Node(data)\n",
    "        if self.rear is None:\n",
    "            self.front=self.rear=new_node\n",
    "        else:\n",
    "            self.rear.next=new_node\n",
    "            self.rear=new_node\n",
    "    \n",
    "    def dequeue(slef):\n",
    "        if self.is_empty():\n",
    "            print(\"Queue is empty.cannot dequeue\")\n",
    "            return None\n",
    "        else:\n",
    "            remove_data=self.front.data\n",
    "            self.front=self.front.next\n",
    "            if self.front is None:\n",
    "                self.rear=None\n",
    "            return remove_data"
   ]
  },
  {
   "cell_type": "code",
   "execution_count": 100,
   "id": "2de7ead0",
   "metadata": {},
   "outputs": [],
   "source": [
    "class NodeQueue:\n",
    "    def __init__(slef):\n",
    "        self.front=None\n",
    "        self.rear=None\n",
    "        \n",
    "    def is_empty(self):\n",
    "        return self.front is None\n",
    "    \n",
    "    def enqueue(self,data):\n",
    "        new_node=Node(data)\n",
    "        if self.rear is None:\n",
    "            self.front=self.rear=new_node\n",
    "        else:\n",
    "            self.rear.next=new_node\n",
    "            self.rear=new_node\n",
    "    \n",
    "    def dequeue(slef):\n",
    "        if self.is_empty():\n",
    "            print(\"Queue is empty.cannot dequeue\")\n",
    "            return None\n",
    "        else:\n",
    "            remove_data=self.front.data\n",
    "            self.front=self.front.next\n",
    "            if self.front is None:\n",
    "                self.rear=None\n",
    "            return remove_data\n",
    "        "
   ]
  },
  {
   "cell_type": "markdown",
   "id": "970f5e80",
   "metadata": {},
   "source": [
    "## i.\tNode class: This class represents a node in the queue. Each node contains data and a reference to the next node in the queue."
   ]
  },
  {
   "cell_type": "code",
   "execution_count": 101,
   "id": "f7292287",
   "metadata": {},
   "outputs": [],
   "source": [
    "class Node:\n",
    "    def __init__(self,data):\n",
    "        self.data=data\n",
    "        self.ref=None"
   ]
  },
  {
   "cell_type": "markdown",
   "id": "1a2db97f",
   "metadata": {},
   "source": [
    "## ii.\t__init__(self): The constructor initializes a new instance of the NodeQueue class. It sets both the front and rear pointers to None because the queue is initially empty."
   ]
  },
  {
   "cell_type": "code",
   "execution_count": 102,
   "id": "9c816295",
   "metadata": {},
   "outputs": [],
   "source": [
    "class NodeQueue:\n",
    "    def __init__(slef):\n",
    "        self.front=None\n",
    "        self.rear=None"
   ]
  },
  {
   "cell_type": "markdown",
   "id": "e8e86aed",
   "metadata": {},
   "source": [
    "## iii.\tis_empty(self): This method returns True if the queue is empty (i.e., front is None), and False otherwise."
   ]
  },
  {
   "cell_type": "code",
   "execution_count": 103,
   "id": "750f0bf6",
   "metadata": {},
   "outputs": [],
   "source": [
    "      \n",
    "    def is_empty(self):\n",
    "        return self.front is None\n",
    "    "
   ]
  },
  {
   "cell_type": "markdown",
   "id": "1cc80c59",
   "metadata": {},
   "source": [
    "## iv.\tenqueue(self, data): This method adds a new node with the given data to the rear of the queue. If the queue is empty, both the front and rear pointers are set to the new node."
   ]
  },
  {
   "cell_type": "code",
   "execution_count": 104,
   "id": "426e3164",
   "metadata": {},
   "outputs": [],
   "source": [
    "\n",
    "    def enqueue(self,data):\n",
    "        new_node=Node(data)\n",
    "        if self.rear is None:\n",
    "            self.front=self.rear=new_node\n",
    "        else:\n",
    "            self.rear.next=new_node\n",
    "            self.rear=new_node\n",
    "    "
   ]
  },
  {
   "cell_type": "markdown",
   "id": "4d3f851e",
   "metadata": {},
   "source": [
    "## v.\tdequeue(self): This method removes and returns the data from the front of the queue. If the queue becomes empty after dequeue, the rear pointer is also updated to None."
   ]
  },
  {
   "cell_type": "code",
   "execution_count": 105,
   "id": "87ced386",
   "metadata": {},
   "outputs": [],
   "source": [
    "  def dequeue(slef):\n",
    "        if self.is_empty():\n",
    "            print(\"Queue is empty.cannot dequeue\")\n",
    "            return None\n",
    "        else:\n",
    "            remove_data=self.front.data\n",
    "            self.front=self.front.next\n",
    "            if self.front is None:\n",
    "                self.rear=None\n",
    "            return remove_data"
   ]
  },
  {
   "cell_type": "markdown",
   "id": "58cb444b",
   "metadata": {},
   "source": [
    "## vi.\tThis  creates a NodeQueue object, enqueues three elements, prints  the queue, dequeues two elements, and checks if the queue is empty. The output should demonstrate the basic functionality of the node-based queue.\n"
   ]
  },
  {
   "cell_type": "code",
   "execution_count": 106,
   "id": "f51ecb18",
   "metadata": {},
   "outputs": [
    {
     "ename": "NameError",
     "evalue": "name 'self' is not defined",
     "output_type": "error",
     "traceback": [
      "\u001b[1;31m---------------------------------------------------------------------------\u001b[0m",
      "\u001b[1;31mNameError\u001b[0m                                 Traceback (most recent call last)",
      "Input \u001b[1;32mIn [106]\u001b[0m, in \u001b[0;36m<cell line: 1>\u001b[1;34m()\u001b[0m\n\u001b[1;32m----> 1\u001b[0m my_node_queue\u001b[38;5;241m=\u001b[39m\u001b[43mNodeQueue\u001b[49m\u001b[43m(\u001b[49m\u001b[43m)\u001b[49m\n\u001b[0;32m      3\u001b[0m my_node_queue\u001b[38;5;241m.\u001b[39menqueue(\u001b[38;5;241m1\u001b[39m)\n\u001b[0;32m      4\u001b[0m my_node_queue\u001b[38;5;241m.\u001b[39menqueue(\u001b[38;5;241m2\u001b[39m)\n",
      "Input \u001b[1;32mIn [102]\u001b[0m, in \u001b[0;36mNodeQueue.__init__\u001b[1;34m(slef)\u001b[0m\n\u001b[0;32m      2\u001b[0m \u001b[38;5;28;01mdef\u001b[39;00m \u001b[38;5;21m__init__\u001b[39m(slef):\n\u001b[1;32m----> 3\u001b[0m     \u001b[38;5;28;43mself\u001b[39;49m\u001b[38;5;241m.\u001b[39mfront\u001b[38;5;241m=\u001b[39m\u001b[38;5;28;01mNone\u001b[39;00m\n\u001b[0;32m      4\u001b[0m     \u001b[38;5;28mself\u001b[39m\u001b[38;5;241m.\u001b[39mrear\u001b[38;5;241m=\u001b[39m\u001b[38;5;28;01mNone\u001b[39;00m\n",
      "\u001b[1;31mNameError\u001b[0m: name 'self' is not defined"
     ]
    }
   ],
   "source": [
    "my_node_queue=NodeQueue()\n",
    "\n",
    "my_node_queue.enqueue(1)\n",
    "my_node_queue.enqueue(2)\n",
    "my_node_queue.enqueue(3)\n",
    "\n",
    "print(\"dequeue:\",my_node_queue.enqueue())\n",
    "print(\"dequeue:\",my_node_queue.enqueue())\n",
    "\n",
    "print(\"is the queue is empty? \", my_node_queue.is_empty())"
   ]
  },
  {
   "cell_type": "code",
   "execution_count": 107,
   "id": "057ecd8e",
   "metadata": {},
   "outputs": [
    {
     "name": "stdout",
     "output_type": "stream",
     "text": [
      "dequeue: 1\n",
      "dequeue: 2\n",
      "is the queue is empty?  False\n"
     ]
    }
   ],
   "source": [
    "class Node:\n",
    "    def __init__(self,data):\n",
    "        self.data=data\n",
    "        self.ref=None\n",
    "        \n",
    "class NodeQueue:\n",
    "    def __init__(self):\n",
    "        self.front=None\n",
    "        self.rear=None\n",
    "        \n",
    "    def is_empty(self):\n",
    "        return self.front is None\n",
    "    \n",
    "    def enqueue(self,data):\n",
    "        new_node=Node(data)\n",
    "        if self.rear is None:\n",
    "            self.front=self.rear=new_node\n",
    "        else:\n",
    "            self.rear.next=new_node\n",
    "            self.rear=new_node\n",
    "    \n",
    "    def dequeue(self):\n",
    "        if self.is_empty():\n",
    "            print(\"Queue is empty.cannot dequeue\")\n",
    "            return None\n",
    "        else:\n",
    "            remove_data=self.front.data\n",
    "            self.front=self.front.next\n",
    "            if self.front is None:\n",
    "                self.rear=None\n",
    "            return remove_data\n",
    "my_node_queue=NodeQueue()\n",
    "\n",
    "my_node_queue.enqueue(1)\n",
    "my_node_queue.enqueue(2)\n",
    "my_node_queue.enqueue(3)\n",
    "\n",
    "print(\"dequeue:\",my_node_queue.dequeue())\n",
    "print(\"dequeue:\",my_node_queue.dequeue())\n",
    "\n",
    "print(\"is the queue is empty? \", my_node_queue.is_empty())       "
   ]
  },
  {
   "cell_type": "code",
   "execution_count": 3,
   "id": "a3720033",
   "metadata": {},
   "outputs": [],
   "source": [
    "from collections import deque\n",
    "\n",
    "# Creating a deque\n",
    "my_deque = deque([1, 2, 3])\n",
    "\n",
    "# Adding elements\n",
    "my_deque.append(4)          # Adds 4 to the right end\n",
    "my_deque.appendleft(0)      # Adds 0 to the left end\n",
    "\n",
    "# Removing elements\n",
    "element = my_deque.pop()    # Removes and returns the rightmost element\n",
    "left_element = my_deque.popleft()  # Removes and returns the leftmost element\n",
    "\n",
    "# Other operations\n",
    "length = len(my_deque)      # Get the length of the deque\n",
    "is_empty = not my_deque    # Check if the deque is empty\n",
    "\n",
    "# Accessing elements\n",
    "first_element = my_deque[0]  # Access the leftmost element\n",
    "last_element = my_deque[-1]  # Access the rightmost element\n"
   ]
  },
  {
   "cell_type": "code",
   "execution_count": 5,
   "id": "4a79d734",
   "metadata": {},
   "outputs": [
    {
     "ename": "AttributeError",
     "evalue": "'int' object has no attribute 'element'",
     "output_type": "error",
     "traceback": [
      "\u001b[1;31m---------------------------------------------------------------------------\u001b[0m",
      "\u001b[1;31mAttributeError\u001b[0m                            Traceback (most recent call last)",
      "Input \u001b[1;32mIn [5]\u001b[0m, in \u001b[0;36m<cell line: 1>\u001b[1;34m()\u001b[0m\n\u001b[1;32m----> 1\u001b[0m \u001b[38;5;28mprint\u001b[39m(\u001b[43mfirst_element\u001b[49m\u001b[38;5;241;43m.\u001b[39;49m\u001b[43melement\u001b[49m)\n",
      "\u001b[1;31mAttributeError\u001b[0m: 'int' object has no attribute 'element'"
     ]
    }
   ],
   "source": [
    "print(first_element.element)"
   ]
  },
  {
   "cell_type": "code",
   "execution_count": null,
   "id": "19a4310e",
   "metadata": {},
   "outputs": [],
   "source": []
  },
  {
   "cell_type": "code",
   "execution_count": 60,
   "id": "143c4124",
   "metadata": {},
   "outputs": [],
   "source": [
    "class Queue:\n",
    "    def __init__(self):\n",
    "        self.items=[]\n",
    "        \n",
    "    def is_empty(self):\n",
    "        return self.items is None\n",
    "    \n",
    "    def enqueue(self,item):\n",
    "        self.items.append(item)\n",
    "        \n",
    "    def dequeue(self):\n",
    "        if  not self.is_empty():\n",
    "            self.items.pop(0)\n",
    "            return self.items\n",
    "        else:\n",
    "            print(\"Queue is empty\")\n",
    "    def display(self):\n",
    "        return self.items\n",
    "            \n",
    "            "
   ]
  },
  {
   "cell_type": "code",
   "execution_count": 61,
   "id": "59913ec9",
   "metadata": {},
   "outputs": [],
   "source": [
    "my_queue=Queue()"
   ]
  },
  {
   "cell_type": "code",
   "execution_count": 62,
   "id": "56263ae1",
   "metadata": {},
   "outputs": [],
   "source": [
    "for z in range(10):\n",
    "    if z==0:\n",
    "        pass\n",
    "    elif z%3==0:\n",
    "        my_queue.enqueue(z)"
   ]
  },
  {
   "cell_type": "code",
   "execution_count": 63,
   "id": "868be41a",
   "metadata": {},
   "outputs": [
    {
     "data": {
      "text/plain": [
       "[3, 6, 9]"
      ]
     },
     "execution_count": 63,
     "metadata": {},
     "output_type": "execute_result"
    }
   ],
   "source": [
    "my_queue.display()"
   ]
  },
  {
   "cell_type": "code",
   "execution_count": null,
   "id": "eb1ed6d4",
   "metadata": {},
   "outputs": [],
   "source": []
  }
 ],
 "metadata": {
  "kernelspec": {
   "display_name": "Python 3 (ipykernel)",
   "language": "python",
   "name": "python3"
  },
  "language_info": {
   "codemirror_mode": {
    "name": "ipython",
    "version": 3
   },
   "file_extension": ".py",
   "mimetype": "text/x-python",
   "name": "python",
   "nbconvert_exporter": "python",
   "pygments_lexer": "ipython3",
   "version": "3.9.12"
  }
 },
 "nbformat": 4,
 "nbformat_minor": 5
}
