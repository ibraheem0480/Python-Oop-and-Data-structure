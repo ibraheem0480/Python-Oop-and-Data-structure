{
 "cells": [
  {
   "cell_type": "markdown",
   "id": "98051d80",
   "metadata": {},
   "source": [
    "# Operators\n"
   ]
  },
  {
   "cell_type": "markdown",
   "id": "bd8d91a3",
   "metadata": {},
   "source": [
    "# Arthematic operators"
   ]
  },
  {
   "cell_type": "code",
   "execution_count": null,
   "id": "32856342",
   "metadata": {},
   "outputs": [],
   "source": [
    "#Example 1\n",
    "a=int(input(\"enter the first number \"))\n",
    "\n",
    "b=input(\"enter the second number\")\n",
    "b=int(b)\n",
    "print(f\"addition of two number {a+b}\")\n",
    "print(f\"subtraction of two number {a-b}\")\n",
    "print(f\"division of two number {a/b}\")\n",
    "print(f\"multiplication of two number {a*b}\")\n",
    "print(f\"reminder of two number {a%b}\")\n",
    "print(f\"a power b {a**b}\")\n",
    "print(f\"quotient of two number {a//b}\")"
   ]
  },
  {
   "cell_type": "code",
   "execution_count": null,
   "id": "86d89d90",
   "metadata": {},
   "outputs": [],
   "source": [
    "#Example 2\n",
    "a=input(\"enter the first number \")\n",
    "a=int(a)\n",
    "b=input(\"enter the second number\")\n",
    "b=int(b)\n",
    "print(f\"addition of two number {a+b}\")\n",
    "print(f\"subtraction of two number {a-b}\")\n",
    "print(f\"division of two number {a/b}\")\n",
    "print(f\"multiplication of two number {a*b}\")\n",
    "print(f\"reminder of two number {a%b}\")\n",
    "print(f\"a power b {a**b}\")\n",
    "print(f\"quotient of two number {a//b}\")"
   ]
  },
  {
   "cell_type": "code",
   "execution_count": null,
   "id": "d625639d",
   "metadata": {},
   "outputs": [],
   "source": [
    "#Example 3\n",
    "a=input(\"enter the first number \")\n",
    "a=int(a)\n",
    "b=input(\"enter the second number\")\n",
    "b=int(b)\n",
    "print(f\"addition of two number {a+b}\")\n",
    "print(f\"subtraction of two number {a-b}\")\n",
    "print(f\"division of two number {a/b}\")\n",
    "print(f\"multiplication of two number {a*b}\")\n",
    "print(f\"reminder of two number {a%b}\")\n",
    "print(f\"a power b {a**b}\")\n",
    "print(f\"quotient of two number {a//b}\")"
   ]
  },
  {
   "cell_type": "markdown",
   "id": "493eea5a",
   "metadata": {},
   "source": [
    "# assingment operators"
   ]
  },
  {
   "cell_type": "code",
   "execution_count": null,
   "id": "8c26a43d",
   "metadata": {},
   "outputs": [],
   "source": [
    "#Example 1\n",
    "c=a+b\n",
    "d=a-b\n",
    "e=a*b\n",
    "f=a/b\n",
    "g=a%b\n",
    "h=a**b\n",
    "i=a//b\n",
    "print(f\"addition of two number assign to c {c}\")\n",
    "print(f\"subtraction of two number assign to d {d}\")\n",
    "print(f\"multiplication of two number assign to e {e}\")\n",
    "print(f\"division  of two number assign to f {f}\")\n",
    "print(f\"reminder of two number assign to g {g}\")\n",
    "print(f\"power of two number assign to h {h}\")\n",
    "print(f\"quoteint of two number assign to i {i}\")"
   ]
  },
  {
   "cell_type": "code",
   "execution_count": 1,
   "id": "e8a9ad2c",
   "metadata": {},
   "outputs": [
    {
     "name": "stdout",
     "output_type": "stream",
     "text": [
      "enter the number5\n",
      "increment in the i 0\n",
      "assigning the incremented value of i to i\n",
      "increment in the i 1\n",
      "assigning the incremented value of i to i\n",
      "increment in the i 2\n",
      "assigning the incremented value of i to i\n",
      "increment in the i 3\n",
      "assigning the incremented value of i to i\n",
      "increment in the i 4\n",
      "assigning the incremented value of i to i\n",
      "increment in the i 5\n",
      "assigning the incremented value of i to i\n"
     ]
    }
   ],
   "source": [
    "#Example 2\n",
    "i=0\n",
    "k=int(input(\"enter the number\"))\n",
    "while(i<=k):\n",
    "    print(f\"increment in the i {i}\")\n",
    "    \n",
    "    i=i+1\n",
    "    print(\"assigning the incremented value of i to i\")"
   ]
  },
  {
   "cell_type": "markdown",
   "id": "dee9e332",
   "metadata": {},
   "source": [
    "# comparision operators\n",
    "\n"
   ]
  },
  {
   "cell_type": "code",
   "execution_count": null,
   "id": "2da8d05f",
   "metadata": {},
   "outputs": [],
   "source": [
    "#Example 1\n",
    "w=9\n",
    "v=10\n",
    "print(w < v)\n",
    "print(\"w is less than v so it is true\")"
   ]
  },
  {
   "cell_type": "code",
   "execution_count": null,
   "id": "8ac45e7f",
   "metadata": {},
   "outputs": [],
   "source": [
    "#Example 2\n",
    "w = 9\n",
    "v = 10\n",
    "print(w>v)\n",
    "print(\"w is less than v so it is false\")"
   ]
  },
  {
   "cell_type": "code",
   "execution_count": null,
   "id": "c7d40e6c",
   "metadata": {},
   "outputs": [],
   "source": [
    "#Example 3\n",
    "w=1\n",
    "v=10\n",
    "print(w == v)\n",
    "print(\"w is less than v so it is true\")"
   ]
  },
  {
   "cell_type": "markdown",
   "id": "e3aa64e9",
   "metadata": {},
   "source": [
    "# identity operator"
   ]
  },
  {
   "cell_type": "code",
   "execution_count": null,
   "id": "2b7b384e",
   "metadata": {},
   "outputs": [],
   "source": [
    "#Example 1\n",
    "s=10\n",
    "q=12\n",
    "print(s is q)\n",
    "print(\"s is not eqaul to q\" )"
   ]
  },
  {
   "cell_type": "code",
   "execution_count": null,
   "id": "04ea6d61",
   "metadata": {},
   "outputs": [],
   "source": [
    "#Example 2\n",
    "j=2\n",
    "l=2\n",
    "print(j is l)\n",
    "print(f\"{j} is eqaul to {l}\" )"
   ]
  },
  {
   "cell_type": "code",
   "execution_count": null,
   "id": "9b2c99e5",
   "metadata": {},
   "outputs": [],
   "source": [
    "#example 3\n",
    "x=12\n",
    "z=13\n",
    "print(x is not z)\n",
    "print(\"x is not equal to z\")"
   ]
  },
  {
   "cell_type": "markdown",
   "id": "3b33973a",
   "metadata": {},
   "source": [
    "# Membership operators"
   ]
  },
  {
   "cell_type": "code",
   "execution_count": null,
   "id": "c43aa904",
   "metadata": {},
   "outputs": [],
   "source": [
    "#example 1\n",
    "list1 =(1,2,3,4,5,6,7)\n",
    "print(1 in list1)\n",
    "print(\"i is in the list\")\n"
   ]
  },
  {
   "cell_type": "code",
   "execution_count": null,
   "id": "91a2cecf",
   "metadata": {},
   "outputs": [],
   "source": [
    "#Example 2\n",
    "list2=(0,9,8,76,5,4,3)\n",
    "print(10 in list2)\n",
    "print(\"10 is not in the list\")\n"
   ]
  },
  {
   "cell_type": "code",
   "execution_count": null,
   "id": "746e398e",
   "metadata": {},
   "outputs": [],
   "source": [
    "#Example 3\n",
    "list3=(10,11,12,13,14)\n",
    "print(10 not in list3)\n",
    "print(\" 10 is in the list\")"
   ]
  },
  {
   "cell_type": "markdown",
   "id": "2fd4ddf0",
   "metadata": {},
   "source": [
    "# string"
   ]
  },
  {
   "cell_type": "code",
   "execution_count": null,
   "id": "afbca998",
   "metadata": {},
   "outputs": [],
   "source": [
    "s='my name is ayub'\n",
    "print(s.capitalize())\n",
    "print(\"captilize the first letter of string\")\n",
    "print(f\" shows the lenght of the string which is {len(s)}\")"
   ]
  },
  {
   "cell_type": "code",
   "execution_count": null,
   "id": "c535d69a",
   "metadata": {},
   "outputs": [],
   "source": [
    "q=\"i am in uet peshawar electrical engineering\"\n",
    "print(q.upper())\n",
    "#print(\"captilize the all alphabets of string\")\n",
    "#print(f\" shows the lenght of the string which is {len(q)}\")"
   ]
  },
  {
   "cell_type": "code",
   "execution_count": null,
   "id": "9c88b623",
   "metadata": {},
   "outputs": [],
   "source": [
    "l='''I GOT 3.85 CGPA IN THE 2ND SEMMESTER '''\n",
    "print(l.lower())\n",
    "#print(\"convert  the all alphabets of string to lower case\")\n",
    "#print(f\" shows the lenght of the string which is {len(l)}\")"
   ]
  },
  {
   "cell_type": "code",
   "execution_count": null,
   "id": "4d598269",
   "metadata": {},
   "outputs": [],
   "source": [
    "h=\"i have done my Fsc from orbit college hill view campus swab\"\n",
    "print(h.replace('i','a'))\n",
    "print(\"i have change the i to a\")\n",
    "print(f\" shows the lenght of the string which is {len(h)}\")\n",
    "h.find('m')\n",
    "\n"
   ]
  },
  {
   "cell_type": "code",
   "execution_count": null,
   "id": "9be4a997",
   "metadata": {},
   "outputs": [],
   "source": [
    "n='i have done my matric from the sahib zada model school '\n",
    "print(f\"numbers of i in the string is {n.count('i')}\")\n",
    "print(f\"numbers of o in the string is {n.count('o')}\")\n",
    "print(f\"numbers of m in the string is {n.count('m')}\")\n",
    "print(f\" shows the lenght of the string which is {len(n)}\")\n"
   ]
  },
  {
   "cell_type": "code",
   "execution_count": null,
   "id": "5bf56c7f",
   "metadata": {},
   "outputs": [],
   "source": [
    "j='i got 968 marks in the matric'\n",
    "print(f\"find the index number of c {j.find('c')}\")\n",
    "print(f\"find the index number of 8 {j.find('m')}\")\n",
    "print(f\"find the index number of i {j.find('i')}\")\n",
    "print(f\"find the index number of o {j.find('o')}\")\n",
    "print(f\" shows the lenght of the string which is {len(j)}\")\n",
    "\n",
    "j[3]"
   ]
  },
  {
   "cell_type": "markdown",
   "id": "5e6194a5",
   "metadata": {},
   "source": [
    "\n",
    "# list"
   ]
  },
  {
   "cell_type": "code",
   "execution_count": null,
   "id": "dbc568d1",
   "metadata": {},
   "outputs": [],
   "source": [
    "#Example 1\n",
    "list3=[1, 1, 2,3,4,5,6,7,8]\n",
    "print(list3[0])\n",
    "list3.append('100')\n",
    "print(f\"added 100 in the last of the list3 {list3}\")\n",
    "print(f\"count the numbers of ones in the list3 {list3.count(1)}\")\n",
    "print(f\"index number of  is {list3.index(1)}\")\n",
    "list3.pop(8)\n",
    "print(f\"delete the 8 from the list {list3}\")\n",
    "list3.remove(3)\n",
    "print(f\"remove the 3 from thr list3 {list3}\")\n",
    "list3.reverse()\n",
    "print(f\" the sequence of the list is reverse {list3}\")\n",
    "list4=[3,5,6,7,4,1,100,0]\n",
    "list4.sort()\n",
    "print(f\" the sequnce of the list is in ascending order {list4}\")\n",
    "#print(f\" shows the lenght of the list which is {len(list4)}\")\n",
    "list4.reverse()\n",
    "print(list4)"
   ]
  },
  {
   "cell_type": "code",
   "execution_count": null,
   "id": "5a5d551f",
   "metadata": {},
   "outputs": [],
   "source": [
    "#Example 2\n",
    "list5=[4,3,5,3,5,62]\n",
    "list5.append(10)\n",
    "print(f\"added 10 in the last of the list3 {list5}\")\n",
    "print(f\"count the numbers of ones in the list3 {list5.count(1)}\")\n",
    "print(f\"index number of 8 is {list5.index(5)}\")\n",
    "list5.pop(4)\n",
    "print(f\"delete the 8 from the list {list5}\")\n",
    "list5.remove(3)\n",
    "print(f\"remove the 3 from thr list3 {list5}\")\n",
    "list5.reverse()\n",
    "print(f\" the sequence of the list is reverse {list5}\")\n",
    "list6=[4,5,8,9,0,2,45,87]\n",
    "list6.sort()\n",
    "print(f\" the sequnce of the list is in ascending order {list6}\")\n",
    "print(f\" shows the lenght of the list which is {len(list6)}\")\n"
   ]
  },
  {
   "cell_type": "markdown",
   "id": "971c8196",
   "metadata": {},
   "source": [
    "# Tuple"
   ]
  },
  {
   "cell_type": "code",
   "execution_count": null,
   "id": "231f2d9d",
   "metadata": {},
   "outputs": [],
   "source": [
    "tu=(1,2,2,2,3,4,5)\n",
    "print(f\" shows: the number of twos in the tuple which are {tu.count(2)} ayub khan{tu}\")\n",
    "print(f\" shows the index number of 5 which is {tu.index(5)}\")\n",
    "print(f\" shows the lenght of the tuple which is {len(tu)}\")\n",
    "\n"
   ]
  },
  {
   "cell_type": "code",
   "execution_count": null,
   "id": "27fedc27",
   "metadata": {},
   "outputs": [],
   "source": [
    "tu1=(9,9,9,9,8,7,6,5,4)\n",
    "print(f\" shows the number of nine in the tuple which are {tu1.count(9)}\")\n",
    "print(f\" shows the index number of 5 which is {tu1.index(8)}\")\n",
    "print(f\" shows the lenght of the tuple which is {len(tu1)}\")"
   ]
  },
  {
   "cell_type": "markdown",
   "id": "3f089ee0",
   "metadata": {},
   "source": [
    "# logical operators"
   ]
  },
  {
   "cell_type": "code",
   "execution_count": 4,
   "id": "a0cb4600",
   "metadata": {},
   "outputs": [
    {
     "name": "stdout",
     "output_type": "stream",
     "text": [
      "enter a Digit: a\n",
      "A\n",
      "zero\n"
     ]
    }
   ],
   "source": [
    "name = str(input(\"enter a Digit: \"))\n",
    "name = name.upper()\n",
    "print(name)\n",
    "if (name==\"A\"):\n",
    "    print(\"zero\")\n",
    "elif(name == \"b\"):\n",
    "    print(\"one\")\n",
    "else:\n",
    "    print(\"inva.3lid\")"
   ]
  },
  {
   "cell_type": "markdown",
   "id": "c0996bdf",
   "metadata": {},
   "source": [
    "# grading system "
   ]
  },
  {
   "cell_type": "code",
   "execution_count": null,
   "id": "4c63a432",
   "metadata": {},
   "outputs": [],
   "source": [
    "print(\" Welcome to the grading system in which you have to enter the total marks and obtain marks /n;\")\n",
    "print(\"And we will calculate your percentage and also your grade\")\n",
    "\n",
    "\n",
    "t_marks = int(input(\"enter your total marks : \"))\n",
    "o_marks = int(input(\"enter your obtain marks : \"))\n",
    "per = (o_marks/t_marks)*100\n",
    "if(o_marks > t_marks):\n",
    "    print(\"incoorect marks\")\n",
    "elif( per >= 90 ):\n",
    "    print(f\"your percentage is {per} and your grade is A+\")\n",
    "elif( per >= 80):\n",
    "          print(f\"your percentage is {per} and your grade is A\")\n",
    "elif( per >= 70 ):\n",
    "    print(f\"your percentage is {per} and your grade is B \")\n",
    "elif( per >= 60 ):\n",
    "    print(f\"your percentage is {per} and your grade is C \")\n",
    "elif( per >= 40 ):\n",
    "    print(f\"your percentage is {per} and your grade is D \")\n",
    "elif( per <= 40 ):\n",
    "    print(f\"your percentage is {per} and your grade is F\")\n",
    "       \n",
    "    \n"
   ]
  },
  {
   "cell_type": "code",
   "execution_count": 1,
   "id": "7fbe7d66",
   "metadata": {},
   "outputs": [
    {
     "name": "stdout",
     "output_type": "stream",
     "text": [
      "enter the alphabet A\n",
      "The alphabet you enter is the wovel\n"
     ]
    }
   ],
   "source": [
    "w=str(input(\"enter the alphabet \"))\n",
    "w = w.lower()\n",
    "if len(w) >1:\n",
    "    print(\"Enter only one Alphabet\")\n",
    "elif(w=='a'):\n",
    "    print(\"The alphabet you enter is the wovel\")\n",
    "elif(w == 'e'):\n",
    "    print(\"the alphabet you enter is the wovel\")\n",
    "elif(w == 'i'):\n",
    "    print(\"the alphabet you enter is the wovel\")\n",
    "elif(w == 'o'):\n",
    "    print(\"the alphabet you enter is the wovel\")\n",
    "elif(w == 'u'):\n",
    "    print(\"the alphabet you enter is the wovel\")\n",
    "else:\n",
    "    print(\"The alphabet you enter is the consonant\")"
   ]
  },
  {
   "cell_type": "markdown",
   "id": "7dfe4fec",
   "metadata": {},
   "source": [
    "# Dictionary of abrivations"
   ]
  },
  {
   "cell_type": "code",
   "execution_count": null,
   "id": "c21b7f17",
   "metadata": {},
   "outputs": [],
   "source": [
    "dic={\"computer\":\"common operating machine purposely used for technological and educational research\",\"rom\":\"read only memory\",\"ram\":\"random access memory\" , \"cpu\":\"central processing unit\", \"hdd\":\"hard disk drive\",\"ssd\":\"solid state drive\"}\n"
   ]
  },
  {
   "cell_type": "code",
   "execution_count": null,
   "id": "131bb97b",
   "metadata": {},
   "outputs": [],
   "source": [
    "print(f\" it will show the item in the dictionary \")\n",
    "dic.items()"
   ]
  },
  {
   "cell_type": "code",
   "execution_count": null,
   "id": "0d6f17f5",
   "metadata": {},
   "outputs": [],
   "source": [
    "print(\"it will shows us the keys used in the dictionary \")\n",
    "dic.keys()\n"
   ]
  },
  {
   "cell_type": "code",
   "execution_count": null,
   "id": "dc71d21a",
   "metadata": {},
   "outputs": [],
   "source": [
    "print(\"it will shows the valus in the dictionary\")\n",
    "dic.values()\n"
   ]
  },
  {
   "cell_type": "code",
   "execution_count": null,
   "id": "6c890910",
   "metadata": {},
   "outputs": [],
   "source": [
    "print (\"it will create the copy of dictionary\")\n",
    "dic.copy()"
   ]
  },
  {
   "cell_type": "code",
   "execution_count": null,
   "id": "c704447d",
   "metadata": {},
   "outputs": [],
   "source": [
    "dic.fromkeys()"
   ]
  },
  {
   "cell_type": "code",
   "execution_count": null,
   "id": "f7d01fe1",
   "metadata": {},
   "outputs": [],
   "source": [
    "print (\"it will print the value\")\n",
    "dic.get(\"rom\")"
   ]
  },
  {
   "cell_type": "code",
   "execution_count": null,
   "id": "5682f87b",
   "metadata": {},
   "outputs": [],
   "source": [
    "print (\"welcome to the abrevational dictionary of computer\")\n",
    "key=str(input(\"enter the key \"))\n",
    "a=key.lower()\n",
    "print(f\"the abrevation is : {dic[a]}\")"
   ]
  },
  {
   "cell_type": "code",
   "execution_count": null,
   "id": "fc2bad42",
   "metadata": {},
   "outputs": [],
   "source": [
    "# Example no 2\n",
    "dic2={\"QUILTED\":\"MADE OF TOW LAYERS CLOTHES\",\"INVINCIBLE\":\"TOO PWER FULL TO BE DEFEATED\",\n",
    "      \"RAG\":\"A PEICE OFOLD CLOTHES\",\"OUTGRWON\":\"GRWON TOO BIG FOR\",\"GUT\":\"THE STOMACH OR BELLY\",\n",
    "      \"DERAILED\":\"CUASE TO LEAVE ITS TRACK ACCEDENTILLY\",\"RENDER\":\"TO GIVE\"\n",
    "     }\n"
   ]
  },
  {
   "cell_type": "code",
   "execution_count": null,
   "id": "3083c270",
   "metadata": {},
   "outputs": [],
   "source": [
    "print(f\"it will show {dic2}\")"
   ]
  },
  {
   "cell_type": "code",
   "execution_count": null,
   "id": "4380754e",
   "metadata": {},
   "outputs": [],
   "source": [
    "key1=str(input(\"enter the key\"))\n",
    "b=key1.upper()\n",
    "print(f\" The meaning of the word is {dic2[b]}\")"
   ]
  },
  {
   "cell_type": "code",
   "execution_count": null,
   "id": "4d0335f2",
   "metadata": {},
   "outputs": [],
   "source": [
    "!pip install numpy"
   ]
  },
  {
   "cell_type": "markdown",
   "id": "6cffb3fa",
   "metadata": {},
   "source": [
    "# while and for loop"
   ]
  },
  {
   "cell_type": "code",
   "execution_count": null,
   "id": "4b12a7f9",
   "metadata": {},
   "outputs": [],
   "source": [
    "for i,j in dic2.items():\n",
    "    print(f\"The key is {i} and the value is {j}\")"
   ]
  },
  {
   "cell_type": "code",
   "execution_count": null,
   "id": "c8309515",
   "metadata": {},
   "outputs": [],
   "source": [
    "f=['x','y','z']\n",
    "k=1\n",
    "print(\"it will make the dictionary from the list and the 1 value\")\n",
    "dic3 = dic2.fromkeys(f,k)\n",
    "dic3"
   ]
  },
  {
   "cell_type": "code",
   "execution_count": null,
   "id": "071a4e90",
   "metadata": {},
   "outputs": [],
   "source": [
    "i=0\n",
    "while(True):\n",
    "    s=str(input (\"enter the key \"))\n",
    "    s=s.upper()\n",
    "    print(f\" The meaning of the word is {dic2[s]}\")\n",
    "    continue\n",
    "    \n",
    "    \n"
   ]
  },
  {
   "cell_type": "markdown",
   "id": "cdf7bfce",
   "metadata": {},
   "source": [
    "# Convert the keys and values to lower by using loop"
   ]
  },
  {
   "cell_type": "code",
   "execution_count": 2,
   "id": "f4c88612",
   "metadata": {},
   "outputs": [],
   "source": [
    "dic5={\"QUILTED\":\"MADE OF TOW LAYERS CLOTHES\",\"INVINCIBLE\":\"TOO PWER FULL TO BE DEFEATED\",\n",
    "      \"RAG\":\"A PEICE OFOLD CLOTHES\",\"OUTGRWON\":\"GRWON TOO BIG FOR\"}"
   ]
  },
  {
   "cell_type": "code",
   "execution_count": 3,
   "id": "b29a2851",
   "metadata": {},
   "outputs": [],
   "source": [
    "dic5={i.lower():j.lower() for i,j in dic5.items() }"
   ]
  },
  {
   "cell_type": "code",
   "execution_count": 4,
   "id": "bc093ac1",
   "metadata": {},
   "outputs": [
    {
     "data": {
      "text/plain": [
       "{'quilted': 'made of tow layers clothes',\n",
       " 'invincible': 'too pwer full to be defeated',\n",
       " 'rag': 'a peice ofold clothes',\n",
       " 'outgrwon': 'grwon too big for'}"
      ]
     },
     "execution_count": 4,
     "metadata": {},
     "output_type": "execute_result"
    }
   ],
   "source": [
    "dic5"
   ]
  },
  {
   "cell_type": "code",
   "execution_count": 5,
   "id": "9385629b",
   "metadata": {},
   "outputs": [
    {
     "name": "stdout",
     "output_type": "stream",
     "text": [
      "quilted made of tow layers clothes\n",
      "invincible too pwer full to be defeated\n",
      "rag a peice ofold clothes\n",
      "outgrwon grwon too big for\n"
     ]
    }
   ],
   "source": [
    "for k,l in dic5.items():\n",
    "    j=k.lower()\n",
    "    g=l.lower()\n",
    "    print(j,g)\n",
    "    "
   ]
  },
  {
   "cell_type": "code",
   "execution_count": null,
   "id": "f33053cd",
   "metadata": {},
   "outputs": [],
   "source": [
    "for i ,j in dic5.items():\n",
    "    print(f\"the key is {i} and the value is {j}\")"
   ]
  },
  {
   "cell_type": "code",
   "execution_count": null,
   "id": "8786a160",
   "metadata": {},
   "outputs": [],
   "source": [
    "list6=[1,2,3,4,5,7,7,8]\n",
    "s=len(list6)\n",
    "print(f\"it will shows the total number of items in the list {s}\")"
   ]
  },
  {
   "cell_type": "code",
   "execution_count": 6,
   "id": "d3e44e3e",
   "metadata": {},
   "outputs": [
    {
     "name": "stdout",
     "output_type": "stream",
     "text": [
      "it will display the items of list through for loop\n"
     ]
    },
    {
     "ename": "NameError",
     "evalue": "name 'list6' is not defined",
     "output_type": "error",
     "traceback": [
      "\u001b[1;31m---------------------------------------------------------------------------\u001b[0m",
      "\u001b[1;31mNameError\u001b[0m                                 Traceback (most recent call last)",
      "Input \u001b[1;32mIn [6]\u001b[0m, in \u001b[0;36m<cell line: 3>\u001b[1;34m()\u001b[0m\n\u001b[0;32m      1\u001b[0m \u001b[38;5;28mprint\u001b[39m(\u001b[38;5;124m\"\u001b[39m\u001b[38;5;124mit will display the items of list through for loop\u001b[39m\u001b[38;5;124m\"\u001b[39m)\n\u001b[0;32m      2\u001b[0m a \u001b[38;5;241m=\u001b[39m []\n\u001b[1;32m----> 3\u001b[0m \u001b[38;5;28;01mfor\u001b[39;00m i \u001b[38;5;129;01min\u001b[39;00m \u001b[43mlist6\u001b[49m:\n\u001b[0;32m      4\u001b[0m     b \u001b[38;5;241m=\u001b[39m i\u001b[38;5;241m+\u001b[39m\u001b[38;5;241m10\u001b[39m\n\u001b[0;32m      5\u001b[0m     a\u001b[38;5;241m.\u001b[39mappend(b)\n",
      "\u001b[1;31mNameError\u001b[0m: name 'list6' is not defined"
     ]
    }
   ],
   "source": [
    "print(\"it will display the items of list through for loop\")\n",
    "a = []\n",
    "for i in list6:\n",
    "    b = i+10\n",
    "    a.append(b)\n",
    "print(a)\n"
   ]
  },
  {
   "cell_type": "code",
   "execution_count": 7,
   "id": "884533d2",
   "metadata": {},
   "outputs": [
    {
     "name": "stdout",
     "output_type": "stream",
     "text": [
      "it will display the items of list through while loop\n"
     ]
    },
    {
     "ename": "NameError",
     "evalue": "name 'list6' is not defined",
     "output_type": "error",
     "traceback": [
      "\u001b[1;31m---------------------------------------------------------------------------\u001b[0m",
      "\u001b[1;31mNameError\u001b[0m                                 Traceback (most recent call last)",
      "Input \u001b[1;32mIn [7]\u001b[0m, in \u001b[0;36m<cell line: 3>\u001b[1;34m()\u001b[0m\n\u001b[0;32m      1\u001b[0m \u001b[38;5;28mprint\u001b[39m(\u001b[38;5;124m\"\u001b[39m\u001b[38;5;124mit will display the items of list through while loop\u001b[39m\u001b[38;5;124m\"\u001b[39m)\n\u001b[0;32m      2\u001b[0m l\u001b[38;5;241m=\u001b[39m\u001b[38;5;241m0\u001b[39m\n\u001b[1;32m----> 3\u001b[0m le \u001b[38;5;241m=\u001b[39m \u001b[38;5;28mlen\u001b[39m(\u001b[43mlist6\u001b[49m)\n\u001b[0;32m      4\u001b[0m \u001b[38;5;28;01mwhile\u001b[39;00m(l\u001b[38;5;241m<\u001b[39mle):\n\u001b[0;32m      5\u001b[0m     \u001b[38;5;28mprint\u001b[39m(list6[l])\n",
      "\u001b[1;31mNameError\u001b[0m: name 'list6' is not defined"
     ]
    }
   ],
   "source": [
    "print(\"it will display the items of list through while loop\")\n",
    "l=0\n",
    "le = len(list6)\n",
    "while(l<le):\n",
    "    print(list6[l])\n",
    "    l=l+1\n",
    "\n",
    "    "
   ]
  },
  {
   "cell_type": "code",
   "execution_count": 8,
   "id": "0b7d8fad",
   "metadata": {},
   "outputs": [
    {
     "name": "stdout",
     "output_type": "stream",
     "text": [
      "[0, 1, 2, 3, 4, 5, 6, 7, 8, 9, 10, 11, 12, 13, 14, 15, 16, 17, 18, 19, 20, 21, 22, 23, 24, 25, 26, 27, 28, 29, 30, 31, 32, 33, 34, 35, 36, 37, 38, 39, 40, 41, 42, 43, 44, 45, 46, 47, 48, 49]\n"
     ]
    }
   ],
   "source": [
    "list7 = []\n",
    "for i in range (50):\n",
    "    list7.append(i)\n",
    "print(list7)\n",
    "    "
   ]
  },
  {
   "cell_type": "code",
   "execution_count": 9,
   "id": "4261dd2b",
   "metadata": {},
   "outputs": [
    {
     "name": "stdout",
     "output_type": "stream",
     "text": [
      "[50, 51, 52, 53, 54, 55, 56, 57, 58, 59, 60, 61, 62, 63, 64, 65, 66, 67, 68, 69, 70, 71, 72, 73, 74, 75, 76, 77, 78, 79, 80, 81, 82, 83, 84, 85, 86, 87, 88, 89, 90, 91, 92, 93, 94, 95, 96, 97, 98, 99, 100]\n"
     ]
    }
   ],
   "source": [
    "list8 = []\n",
    "for j in range (50,101):\n",
    "    list8.append(j)\n",
    "print(list8)"
   ]
  },
  {
   "cell_type": "code",
   "execution_count": 10,
   "id": "a8276515",
   "metadata": {},
   "outputs": [
    {
     "name": "stdout",
     "output_type": "stream",
     "text": [
      "[0, 1, 2, 3, 4, 5, 6, 7, 8, 9, 10, 11, 12, 13, 14, 15, 16, 17, 18, 19, 20, 21, 22, 23, 24, 25, 26, 27, 28, 29, 30, 31, 32, 33, 34, 35, 36, 37, 38, 39, 40, 41, 42, 43, 44, 45, 46, 47, 48, 49, 50, 51, 52, 53, 54, 55, 56, 57, 58, 59, 60, 61, 62, 63, 64, 65, 66, 67, 68, 69, 70, 71, 72, 73, 74, 75, 76, 77, 78, 79, 80, 81, 82, 83, 84, 85, 86, 87, 88, 89, 90, 91, 92, 93, 94, 95, 96, 97, 98, 99, 100] "
     ]
    }
   ],
   "source": [
    "list7.extend(list8)\n",
    "print(list7,end=' ')"
   ]
  },
  {
   "cell_type": "markdown",
   "id": "1c8611f6",
   "metadata": {},
   "source": [
    "# String slicing"
   ]
  },
  {
   "cell_type": "code",
   "execution_count": 11,
   "id": "85720c95",
   "metadata": {},
   "outputs": [
    {
     "name": "stdout",
     "output_type": "stream",
     "text": [
      "full name\n"
     ]
    },
    {
     "data": {
      "text/plain": [
       "'muhammad ayub'"
      ]
     },
     "execution_count": 11,
     "metadata": {},
     "output_type": "execute_result"
    }
   ],
   "source": [
    "print(\"full name\")\n",
    "name='muhammad ayub'\n",
    "name"
   ]
  },
  {
   "cell_type": "code",
   "execution_count": 12,
   "id": "815dd3f6",
   "metadata": {},
   "outputs": [
    {
     "name": "stdout",
     "output_type": "stream",
     "text": [
      "here we will print the first name\n",
      "m u h a m m a d "
     ]
    }
   ],
   "source": [
    "print(\"here we will print the first name\")\n",
    "for i in range (0,8):\n",
    "    print(name[i],end=' ')"
   ]
  },
  {
   "cell_type": "code",
   "execution_count": 13,
   "id": "44c701a4",
   "metadata": {},
   "outputs": [
    {
     "name": "stdout",
     "output_type": "stream",
     "text": [
      "here we will print the second name\n",
      "ayub"
     ]
    }
   ],
   "source": [
    "print(\"here we will print the second name\")\n",
    "for i in range (9,13):\n",
    "    print(name[i],end='')"
   ]
  },
  {
   "cell_type": "code",
   "execution_count": 14,
   "id": "04181f32",
   "metadata": {},
   "outputs": [],
   "source": [
    "name1='Muhammad Ayub'"
   ]
  },
  {
   "cell_type": "code",
   "execution_count": 15,
   "id": "e644c171",
   "metadata": {},
   "outputs": [
    {
     "data": {
      "text/plain": [
       "['Muhammad', 'Ayub']"
      ]
     },
     "execution_count": 15,
     "metadata": {},
     "output_type": "execute_result"
    }
   ],
   "source": [
    "name_=name1.split()\n",
    "name_"
   ]
  },
  {
   "cell_type": "code",
   "execution_count": 16,
   "id": "4230fd8c",
   "metadata": {},
   "outputs": [
    {
     "data": {
      "text/plain": [
       "'Muhammad'"
      ]
     },
     "execution_count": 16,
     "metadata": {},
     "output_type": "execute_result"
    }
   ],
   "source": [
    "f_name=name_[0]\n",
    "f_name"
   ]
  },
  {
   "cell_type": "code",
   "execution_count": 17,
   "id": "815b0229",
   "metadata": {},
   "outputs": [
    {
     "data": {
      "text/plain": [
       "'Ayub'"
      ]
     },
     "execution_count": 17,
     "metadata": {},
     "output_type": "execute_result"
    }
   ],
   "source": [
    "s_name=name_[-1]\n",
    "s_name"
   ]
  },
  {
   "cell_type": "code",
   "execution_count": null,
   "id": "e99b9c58",
   "metadata": {},
   "outputs": [],
   "source": [
    "print(f\"fisrt name is {f_name} and the second name is {s_name}\")"
   ]
  },
  {
   "cell_type": "markdown",
   "id": "236fae86",
   "metadata": {},
   "source": [
    "# import numpy library"
   ]
  },
  {
   "cell_type": "code",
   "execution_count": null,
   "id": "87f62f5c",
   "metadata": {},
   "outputs": [],
   "source": [
    "import numpy as np\n"
   ]
  },
  {
   "cell_type": "code",
   "execution_count": null,
   "id": "1c4bfef5",
   "metadata": {},
   "outputs": [],
   "source": [
    "list8=[]\n",
    "for i in range (100000):\n",
    "    list8.append(i)\n",
    "%time print(list8)"
   ]
  },
  {
   "cell_type": "markdown",
   "id": "a2f850b0",
   "metadata": {},
   "source": [
    "# conversion of simple list to py array"
   ]
  },
  {
   "cell_type": "code",
   "execution_count": null,
   "id": "ce61b783",
   "metadata": {},
   "outputs": [],
   "source": [
    "list9=np.array(list8)\n",
    "print(\"convert a simple list to numpy list\")\n",
    "print(list9)"
   ]
  },
  {
   "cell_type": "code",
   "execution_count": null,
   "id": "d9097229",
   "metadata": {},
   "outputs": [],
   "source": [
    "%time list9"
   ]
  },
  {
   "cell_type": "markdown",
   "id": "96d0122a",
   "metadata": {},
   "source": [
    "# Magic commands"
   ]
  },
  {
   "cell_type": "code",
   "execution_count": null,
   "id": "48479aca",
   "metadata": {},
   "outputs": [],
   "source": [
    "print(\"it will shows the variables used in the above code\")\n",
    "%who\n"
   ]
  },
  {
   "cell_type": "code",
   "execution_count": null,
   "id": "fdf19cdd",
   "metadata": {},
   "outputs": [],
   "source": [
    "%time list9\n",
    "print(\"it will shows the running time of the code \")"
   ]
  },
  {
   "cell_type": "code",
   "execution_count": null,
   "id": "8bdf2bb3",
   "metadata": {},
   "outputs": [],
   "source": [
    "print(\"it will shows the path directory \")\n",
    "%pwd"
   ]
  },
  {
   "cell_type": "code",
   "execution_count": null,
   "id": "e0f29938",
   "metadata": {},
   "outputs": [],
   "source": [
    "%ls"
   ]
  },
  {
   "cell_type": "markdown",
   "id": "7584545c",
   "metadata": {},
   "source": [
    "# numpy array matrices"
   ]
  },
  {
   "cell_type": "code",
   "execution_count": null,
   "id": "bae103a2",
   "metadata": {},
   "outputs": [],
   "source": [
    "start=int(input(\"enter the start\"))\n",
    "stop=int(input(\"enter the stop\"))\n",
    "steps=int(input(\"enter the steps\"))\n",
    "list10=np.arange(start,stop,steps)\n",
    "list10"
   ]
  },
  {
   "cell_type": "code",
   "execution_count": null,
   "id": "fdc40ae3",
   "metadata": {},
   "outputs": [],
   "source": [
    "print(\"it will make the matrices\")\n",
    "list11=np.array([[1,2,3,4],[5,6,7,8],[9,10,11,12]])\n",
    "list11"
   ]
  },
  {
   "cell_type": "code",
   "execution_count": null,
   "id": "5f102584",
   "metadata": {},
   "outputs": [],
   "source": [
    "print(\"it will make the matric of diagnal ones \")\n",
    "w=np.eye(3,3, dtype=int)\n",
    "w"
   ]
  },
  {
   "cell_type": "code",
   "execution_count": null,
   "id": "cb560473",
   "metadata": {},
   "outputs": [],
   "source": [
    "print(\"it will show the no of columns and rows \")\n",
    "np.shape(w)"
   ]
  },
  {
   "cell_type": "code",
   "execution_count": null,
   "id": "119438b2",
   "metadata": {},
   "outputs": [],
   "source": [
    "list12=np.array([1,2,3,4,5,6,7,8,9])\n",
    "list12"
   ]
  },
  {
   "cell_type": "code",
   "execution_count": null,
   "id": "e0f9776e",
   "metadata": {},
   "outputs": [],
   "source": [
    "print(\"it will show the shape of the matric\")\n",
    "np.shape(list12)\n"
   ]
  },
  {
   "cell_type": "code",
   "execution_count": null,
   "id": "821eea4b",
   "metadata": {},
   "outputs": [],
   "source": [
    " a= np.zeros((10))\n",
    "a"
   ]
  },
  {
   "cell_type": "code",
   "execution_count": null,
   "id": "1929a398",
   "metadata": {},
   "outputs": [],
   "source": [
    "b=np.ones(10)\n",
    "b"
   ]
  },
  {
   "cell_type": "code",
   "execution_count": null,
   "id": "0905c369",
   "metadata": {},
   "outputs": [],
   "source": [
    "list12.ndim"
   ]
  },
  {
   "cell_type": "code",
   "execution_count": null,
   "id": "6a4fe3f9",
   "metadata": {},
   "outputs": [],
   "source": [
    "print(\"it will change the no of rows and columns\")\n",
    "list12 =list12.reshape(3,3)\n",
    "list12"
   ]
  },
  {
   "cell_type": "code",
   "execution_count": null,
   "id": "e3b59fb7",
   "metadata": {},
   "outputs": [],
   "source": [
    "list12.ndim"
   ]
  },
  {
   "cell_type": "code",
   "execution_count": null,
   "id": "f6d0c4d5",
   "metadata": {},
   "outputs": [],
   "source": [
    "print(\"it will shows the diagonal of the matrices\")\n",
    "list12.diagonal()"
   ]
  },
  {
   "cell_type": "code",
   "execution_count": null,
   "id": "b787c2bc",
   "metadata": {},
   "outputs": [],
   "source": [
    "arr=np.arange(0,100)\n",
    "arr"
   ]
  },
  {
   "cell_type": "code",
   "execution_count": null,
   "id": "ac97413a",
   "metadata": {},
   "outputs": [],
   "source": [
    "print(\"it will change the single row into 10x10 matrices\")\n",
    "ar=arr.reshape(10,10)\n",
    "ar"
   ]
  },
  {
   "cell_type": "code",
   "execution_count": null,
   "id": "028e93a6",
   "metadata": {},
   "outputs": [],
   "source": [
    "print(\"it will change the the dimension and also rows and columns\")\n",
    "arra=ar.reshape(2,10,-1)\n",
    "arra\n"
   ]
  },
  {
   "cell_type": "code",
   "execution_count": null,
   "id": "422ec1dd",
   "metadata": {},
   "outputs": [],
   "source": [
    "array1=np.arange(0,20,2)\n",
    "array1"
   ]
  },
  {
   "cell_type": "code",
   "execution_count": null,
   "id": "74c080a5",
   "metadata": {},
   "outputs": [],
   "source": [
    "type(array1)"
   ]
  },
  {
   "cell_type": "code",
   "execution_count": null,
   "id": "92edf27a",
   "metadata": {},
   "outputs": [],
   "source": [
    "array1=np.array([array1], dtype='i1')"
   ]
  },
  {
   "cell_type": "code",
   "execution_count": null,
   "id": "02185d37",
   "metadata": {},
   "outputs": [],
   "source": [
    "array1.dtype"
   ]
  },
  {
   "cell_type": "code",
   "execution_count": null,
   "id": "d9bce1de",
   "metadata": {},
   "outputs": [],
   "source": [
    "array2=np.array([1,3,4,5,6,7,8,9], dtype='S')"
   ]
  },
  {
   "cell_type": "code",
   "execution_count": null,
   "id": "5ef73296",
   "metadata": {},
   "outputs": [],
   "source": [
    "array2.dtype"
   ]
  },
  {
   "cell_type": "markdown",
   "id": "9ed8abf9",
   "metadata": {},
   "source": [
    "# Numpy array iterations"
   ]
  },
  {
   "cell_type": "code",
   "execution_count": null,
   "id": "3acc83c5",
   "metadata": {},
   "outputs": [],
   "source": [
    "#1D array\n",
    "x=np.array([2,3,4,5,6,7], dtype='f')\n",
    "for i in x:\n",
    "    print(i ,end =' ')"
   ]
  },
  {
   "cell_type": "code",
   "execution_count": null,
   "id": "65e3795e",
   "metadata": {},
   "outputs": [],
   "source": [
    "#2D array\n",
    "k=np.array([[1,2,3,4,5,6,7,8],[9,8,7,6,5,4,3,1]])\n",
    "for l in k:\n",
    "    for h in l:\n",
    "        print(h,end=' ')"
   ]
  },
  {
   "cell_type": "code",
   "execution_count": null,
   "id": "590938e6",
   "metadata": {},
   "outputs": [],
   "source": [
    "#3D array\n",
    "j=np.array([[[1,2,3,4],[5,6,7,8],[9,10,11,12]]])\n",
    "for g in j:\n",
    "    for f in g:\n",
    "        for a in f:\n",
    "            print(a,end=' ')"
   ]
  },
  {
   "cell_type": "code",
   "execution_count": null,
   "id": "004b53e1",
   "metadata": {},
   "outputs": [],
   "source": [
    "for an in j:\n",
    "    for d in an:\n",
    "        print(d , end =' ')"
   ]
  },
  {
   "cell_type": "code",
   "execution_count": null,
   "id": "3f9d73c7",
   "metadata": {},
   "outputs": [],
   "source": [
    "# n number of dimension\n",
    "for v in np.nditer(j):\n",
    "    print(v,end=' ')"
   ]
  },
  {
   "cell_type": "code",
   "execution_count": null,
   "id": "a51610a5",
   "metadata": {},
   "outputs": [],
   "source": [
    "# iteration with chnaging in data type\n",
    "ar=np.array([1,2,3,4,5])\n",
    "for x in np.nditer(ar, flags=['buffered'],op_dtypes=['S']):\n",
    "    print(x)"
   ]
  },
  {
   "cell_type": "code",
   "execution_count": null,
   "id": "6333ffc6",
   "metadata": {},
   "outputs": [],
   "source": [
    "# iteration with different steps size\n",
    "arr=np.array([[1,2,3],[4,5,6]])\n",
    "for x in np.nditer(arr[:,::2]):\n",
    "    print(x,end=' ')"
   ]
  },
  {
   "cell_type": "markdown",
   "id": "51bce487",
   "metadata": {},
   "source": [
    "# showing the index number as well as number"
   ]
  },
  {
   "cell_type": "code",
   "execution_count": null,
   "id": "adb88949",
   "metadata": {},
   "outputs": [],
   "source": [
    "a=np.arange(1,20,2)\n",
    "a\n",
    "for idx,i in np.ndenumerate(a):\n",
    "    print(idx,i,end=' ')"
   ]
  },
  {
   "cell_type": "code",
   "execution_count": null,
   "id": "1dd3aefa",
   "metadata": {},
   "outputs": [],
   "source": [
    "arr2=np.array([[1,2,3,4],[5,6,7,8]])\n",
    "for li,k in np.ndenumerate(arr2):\n",
    "    print(li,k, end=' ')"
   ]
  },
  {
   "cell_type": "markdown",
   "id": "93bae091",
   "metadata": {},
   "source": [
    "# numpy joining array"
   ]
  },
  {
   "cell_type": "code",
   "execution_count": null,
   "id": "e449e2ac",
   "metadata": {},
   "outputs": [],
   "source": [
    "ar1=np.array([1,2,3])\n",
    "ar2=np.array([4,5,6])\n",
    "arr=np.concatenate((ar1,ar2))\n",
    "arr"
   ]
  },
  {
   "cell_type": "code",
   "execution_count": null,
   "id": "1b708885",
   "metadata": {},
   "outputs": [],
   "source": [
    "arr=np.hstack((ar1,ar2))\n",
    "arr"
   ]
  },
  {
   "cell_type": "code",
   "execution_count": null,
   "id": "9504a048",
   "metadata": {},
   "outputs": [],
   "source": [
    "arr=np.vstack((ar1,ar2))\n",
    "arr"
   ]
  },
  {
   "cell_type": "code",
   "execution_count": null,
   "id": "5b8be3a9",
   "metadata": {},
   "outputs": [],
   "source": [
    "arr=np.dstack((ar1,ar2))\n",
    "arr"
   ]
  },
  {
   "cell_type": "markdown",
   "id": "d8163596",
   "metadata": {},
   "source": [
    "# splitting of array"
   ]
  },
  {
   "cell_type": "code",
   "execution_count": null,
   "id": "5ec3b987",
   "metadata": {},
   "outputs": [],
   "source": [
    "ar=np.array([1,2,3,4,5])\n",
    "near=np.array_split(ar,3)\n",
    "near"
   ]
  },
  {
   "cell_type": "code",
   "execution_count": null,
   "id": "358e4057",
   "metadata": {},
   "outputs": [],
   "source": [
    "near[1]"
   ]
  },
  {
   "cell_type": "code",
   "execution_count": null,
   "id": "2c115fe9",
   "metadata": {},
   "outputs": [],
   "source": [
    "near[0]"
   ]
  },
  {
   "cell_type": "markdown",
   "id": "3f1ce9b6",
   "metadata": {},
   "source": [
    "# searching of arrays element"
   ]
  },
  {
   "cell_type": "code",
   "execution_count": null,
   "id": "ef0bfee6",
   "metadata": {},
   "outputs": [],
   "source": [
    "ar=np.array([1,2,3,4,5])\n",
    "x=np.where(ar==2)\n",
    "x"
   ]
  },
  {
   "cell_type": "code",
   "execution_count": null,
   "id": "dac19cdb",
   "metadata": {},
   "outputs": [],
   "source": [
    "x=np.where(~ar%2==0)\n",
    "x"
   ]
  },
  {
   "cell_type": "code",
   "execution_count": null,
   "id": "a36e9ba8",
   "metadata": {},
   "outputs": [],
   "source": [
    "import numpy as np"
   ]
  },
  {
   "cell_type": "code",
   "execution_count": null,
   "id": "5bce9a46",
   "metadata": {},
   "outputs": [],
   "source": [
    "x=np.where(ar%2==0)\n",
    "x"
   ]
  },
  {
   "cell_type": "markdown",
   "id": "6abb01ff",
   "metadata": {},
   "source": [
    "# numoy filter array"
   ]
  },
  {
   "cell_type": "code",
   "execution_count": null,
   "id": "a4d11749",
   "metadata": {},
   "outputs": [],
   "source": [
    "arr=np.array([43,44,45,46,47])\n",
    "x=[True,False,True,False,True]\n",
    "ne=arr[x]\n",
    "ne"
   ]
  },
  {
   "cell_type": "code",
   "execution_count": null,
   "id": "01a6a207",
   "metadata": {},
   "outputs": [],
   "source": [
    "arr=np.array([43,44,45,46,47,48])\n",
    "filterr_ar=[]\n",
    "for i in arr:\n",
    "    if i > 42:\n",
    "        filterr_ar . append(True)\n",
    "    else:\n",
    "        filterr_ar.append(False)\n",
    "newar =arr[filterr_ar]\n",
    "print(newar)\n",
    "print(filterr_ar)"
   ]
  },
  {
   "cell_type": "code",
   "execution_count": null,
   "id": "3a966214",
   "metadata": {},
   "outputs": [],
   "source": [
    "a1=np.array([1,2,3,4,5,6,7,8,9])\n",
    "filter_ar=[]\n",
    "for i in a1:\n",
    "    if i%2==0:\n",
    "        filter_ar.append(True)\n",
    "    else:\n",
    "        filter_ar.append(False)\n",
    "newarr= a1[filter_ar]\n",
    "print(filter_ar)\n",
    "print(newarr)"
   ]
  },
  {
   "cell_type": "code",
   "execution_count": null,
   "id": "3fe65534",
   "metadata": {},
   "outputs": [],
   "source": [
    "from numpy import random"
   ]
  },
  {
   "cell_type": "code",
   "execution_count": null,
   "id": "604af517",
   "metadata": {},
   "outputs": [],
   "source": [
    "x=random.choice([\"ayub\" ,\"ramzan\",\"rohail\"],p=[.5,.2,.3],size=(10))"
   ]
  },
  {
   "cell_type": "code",
   "execution_count": null,
   "id": "5b816606",
   "metadata": {},
   "outputs": [],
   "source": [
    "x"
   ]
  },
  {
   "cell_type": "code",
   "execution_count": null,
   "id": "45d850a4",
   "metadata": {},
   "outputs": [],
   "source": [
    "np.linspace(0,3,9)"
   ]
  },
  {
   "cell_type": "code",
   "execution_count": null,
   "id": "e0f35102",
   "metadata": {},
   "outputs": [],
   "source": [
    "from numpy import pi\n",
    "np.linspace(0, 2 * pi ,100)\n",
    "y=np.sin(x)\n",
    "print(x)\n",
    "print(y)"
   ]
  },
  {
   "cell_type": "code",
   "execution_count": null,
   "id": "b6355a4c",
   "metadata": {},
   "outputs": [],
   "source": [
    "a=np.arange(6)\n",
    "a"
   ]
  },
  {
   "cell_type": "code",
   "execution_count": null,
   "id": "e1feef5d",
   "metadata": {},
   "outputs": [],
   "source": [
    "a=np.array([23,12,24,34,45,56,67,78,89,11,123])\n",
    "a"
   ]
  },
  {
   "cell_type": "code",
   "execution_count": null,
   "id": "70294f28",
   "metadata": {},
   "outputs": [],
   "source": [
    "print(\"it will give us the array having the indexes of sorted array\")\n",
    "np.argsort(a)"
   ]
  },
  {
   "cell_type": "code",
   "execution_count": null,
   "id": "11874aa8",
   "metadata": {},
   "outputs": [],
   "source": [
    "print(\"it will show us the index no of smallest number\")\n",
    "np.argmin(a)"
   ]
  },
  {
   "cell_type": "code",
   "execution_count": null,
   "id": "01ef3a1b",
   "metadata": {},
   "outputs": [],
   "source": [
    "print(\"it will show us the index no of highest number\")\n",
    "np.argmax(a)"
   ]
  },
  {
   "cell_type": "code",
   "execution_count": null,
   "id": "f559a874",
   "metadata": {},
   "outputs": [],
   "source": [
    "print(\"it will show us the mean value of the given data\")\n",
    "np.mean(a)"
   ]
  },
  {
   "cell_type": "code",
   "execution_count": null,
   "id": "296058be",
   "metadata": {},
   "outputs": [],
   "source": [
    "print(\"it will show us the median means middle value of the given data\")\n",
    "np.median(a)"
   ]
  },
  {
   "cell_type": "code",
   "execution_count": null,
   "id": "c0083fd2",
   "metadata": {},
   "outputs": [],
   "source": [
    "from scipy import stats"
   ]
  },
  {
   "cell_type": "code",
   "execution_count": null,
   "id": "d48e4159",
   "metadata": {},
   "outputs": [],
   "source": [
    "print(\"shows us the most repeated value in the array and also shows us the no of repeatetion \")\n",
    "stats.mode(a)"
   ]
  },
  {
   "cell_type": "code",
   "execution_count": null,
   "id": "b9e90df7",
   "metadata": {},
   "outputs": [],
   "source": [
    "print(\"it will show the variance\")\n",
    "np.var(a)"
   ]
  },
  {
   "cell_type": "code",
   "execution_count": null,
   "id": "52ba1ab9",
   "metadata": {},
   "outputs": [],
   "source": [
    "print(\"it will show the standard daviation\")\n",
    "np.std(a)"
   ]
  },
  {
   "cell_type": "code",
   "execution_count": null,
   "id": "5cd32d93",
   "metadata": {},
   "outputs": [],
   "source": [
    "print('it will show us that the 75% people having 44 or less than 44 age and the 25% are above the 44')\n",
    "ages=[5,31,43,48,50,41,7,11]\n",
    "x=np.percentile(ages,75)\n",
    "x"
   ]
  },
  {
   "cell_type": "code",
   "execution_count": null,
   "id": "2584ec40",
   "metadata": {},
   "outputs": [],
   "source": [
    "x=np.random.uniform(0.0,5.0,250)\n",
    "x"
   ]
  },
  {
   "cell_type": "code",
   "execution_count": null,
   "id": "3c6b43f1",
   "metadata": {},
   "outputs": [],
   "source": [
    "import matplotlib.pyplot as plt"
   ]
  },
  {
   "cell_type": "code",
   "execution_count": null,
   "id": "63b22f6b",
   "metadata": {},
   "outputs": [],
   "source": [
    "plt.hist(x,bins=10, rwidth= 0.1)\n",
    "plt.show()"
   ]
  },
  {
   "cell_type": "code",
   "execution_count": null,
   "id": "577f8813",
   "metadata": {},
   "outputs": [],
   "source": [
    "x=np.random.uniform(0,5,100000)\n",
    "plt.hist(x)\n",
    "plt.show"
   ]
  },
  {
   "cell_type": "code",
   "execution_count": null,
   "id": "605f60f9",
   "metadata": {},
   "outputs": [],
   "source": [
    "x=np.random.normal(0,5,100000)\n",
    "plt.hist(x)\n",
    "plt.show()\n"
   ]
  },
  {
   "cell_type": "code",
   "execution_count": null,
   "id": "c3a3a211",
   "metadata": {},
   "outputs": [],
   "source": [
    "plt.hist(x,100)\n",
    "plt.show"
   ]
  },
  {
   "cell_type": "code",
   "execution_count": null,
   "id": "f65110b9",
   "metadata": {},
   "outputs": [],
   "source": [
    "x=np.random.uniform(5,10,1000)\n",
    "y=np.random.uniform(1,5,1000)\n",
    "plt.scatter(x,y)\n",
    "plt.show()"
   ]
  },
  {
   "cell_type": "code",
   "execution_count": null,
   "id": "fb8590c2",
   "metadata": {},
   "outputs": [],
   "source": [
    "x=[1,2,3,4,5,6,7]\n",
    "y=[8,9,10,11,12,13,14]\n",
    "plt.scatter(x,y)\n",
    "plt.show()"
   ]
  },
  {
   "cell_type": "code",
   "execution_count": null,
   "id": "565db0fe",
   "metadata": {},
   "outputs": [],
   "source": []
  }
 ],
 "metadata": {
  "kernelspec": {
   "display_name": "Python 3 (ipykernel)",
   "language": "python",
   "name": "python3"
  },
  "language_info": {
   "codemirror_mode": {
    "name": "ipython",
    "version": 3
   },
   "file_extension": ".py",
   "mimetype": "text/x-python",
   "name": "python",
   "nbconvert_exporter": "python",
   "pygments_lexer": "ipython3",
   "version": "3.9.12"
  }
 },
 "nbformat": 4,
 "nbformat_minor": 5
}
