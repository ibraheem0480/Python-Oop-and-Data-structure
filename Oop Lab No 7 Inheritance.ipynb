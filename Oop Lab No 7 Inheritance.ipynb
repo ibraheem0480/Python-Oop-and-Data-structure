{
 "cells": [
  {
   "cell_type": "markdown",
   "id": "200c5d6e",
   "metadata": {},
   "source": [
    "# Lab work task\n",
    "## 1. Inheritance is the process by which one class takes on the attributes and methods of another. Newly formed classes are called child classes, and the classes that you derive child classes from are called parent classes.\n",
    "## • You inherit from a parent class by including the name of the parent class inside parentheses after the class name but before the colon terminating the class definition."
   ]
  },
  {
   "cell_type": "code",
   "execution_count": 8,
   "id": "e8c14b87",
   "metadata": {},
   "outputs": [],
   "source": [
    "# inheritance.py\n",
    "class Parent:\n",
    "    hair_color = \"brown\"\n",
    "class Child(Parent):\n",
    "    pass\n"
   ]
  },
  {
   "cell_type": "markdown",
   "id": "4a687acc",
   "metadata": {},
   "source": [
    "## a. Run the code."
   ]
  },
  {
   "cell_type": "code",
   "execution_count": 9,
   "id": "15ebcd34",
   "metadata": {},
   "outputs": [
    {
     "data": {
      "text/plain": [
       "'brown'"
      ]
     },
     "execution_count": 9,
     "metadata": {},
     "output_type": "execute_result"
    }
   ],
   "source": [
    "az = Parent()\n",
    "az.hair_color\n"
   ]
  },
  {
   "cell_type": "markdown",
   "id": "100763bb",
   "metadata": {},
   "source": [
    "## b. Run the code and comment on what you observed."
   ]
  },
  {
   "cell_type": "code",
   "execution_count": 10,
   "id": "6419e8a1",
   "metadata": {},
   "outputs": [
    {
     "data": {
      "text/plain": [
       "'brown'"
      ]
     },
     "execution_count": 10,
     "metadata": {},
     "output_type": "execute_result"
    }
   ],
   "source": [
    "az = Child()\n",
    "az.hair_color"
   ]
  },
  {
   "cell_type": "code",
   "execution_count": 11,
   "id": "c8d0a72a",
   "metadata": {},
   "outputs": [],
   "source": [
    "## The hair color of child class and the parent class is same but the child class has no attributes "
   ]
  },
  {
   "cell_type": "markdown",
   "id": "a891a3c8",
   "metadata": {},
   "source": [
    "## 2. Overridden the hair color attribute that you inherited from your parents:\n"
   ]
  },
  {
   "cell_type": "code",
   "execution_count": 12,
   "id": "0ff9375b",
   "metadata": {},
   "outputs": [],
   "source": [
    "class Parent:\n",
    "class Child(Parent):\n",
    "    hair_color = \"purple\""
   ]
  },
  {
   "cell_type": "markdown",
   "id": "46c3c648",
   "metadata": {},
   "source": [
    "## a. Run the code. "
   ]
  },
  {
   "cell_type": "code",
   "execution_count": 13,
   "id": "76046350",
   "metadata": {},
   "outputs": [
    {
     "data": {
      "text/plain": [
       "'brown'"
      ]
     },
     "execution_count": 13,
     "metadata": {},
     "output_type": "execute_result"
    }
   ],
   "source": [
    "az = Parent()\n",
    "az.hair_color"
   ]
  },
  {
   "cell_type": "markdown",
   "id": "ffab21bf",
   "metadata": {},
   "source": [
    "## b. Run the code and comment on what you observed. How this result is different from the task number 1 and why?"
   ]
  },
  {
   "cell_type": "code",
   "execution_count": 7,
   "id": "7f2ee832",
   "metadata": {},
   "outputs": [
    {
     "data": {
      "text/plain": [
       "'purple'"
      ]
     },
     "execution_count": 7,
     "metadata": {},
     "output_type": "execute_result"
    }
   ],
   "source": [
    "az = Child()\n",
    "az.hair_color\n"
   ]
  },
  {
   "cell_type": "code",
   "execution_count": 8,
   "id": "91dd7cf3",
   "metadata": {},
   "outputs": [],
   "source": [
    "## It is different because the both class atributes are different"
   ]
  },
  {
   "cell_type": "markdown",
   "id": "a0dc514a",
   "metadata": {},
   "source": [
    "## 3. Extended your attributes because you’ve added an attribute that your parents don’t have"
   ]
  },
  {
   "cell_type": "code",
   "execution_count": 29,
   "id": "b640ab8d",
   "metadata": {},
   "outputs": [],
   "source": [
    "class Parent:\n",
    "    speaks = [\"English\"]\n",
    "class Child(Parent):\n",
    "    def __init__(self):\n",
    "        super().__init__()\n",
    "        self.speaks.append(\"German\")\n"
   ]
  },
  {
   "cell_type": "markdown",
   "id": "24c0e120",
   "metadata": {},
   "source": [
    "## a. Run the code."
   ]
  },
  {
   "cell_type": "code",
   "execution_count": 30,
   "id": "6305b86a",
   "metadata": {},
   "outputs": [
    {
     "data": {
      "text/plain": [
       "['English', 'German']"
      ]
     },
     "execution_count": 30,
     "metadata": {},
     "output_type": "execute_result"
    }
   ],
   "source": [
    "az = Child()\n",
    "az.speaks"
   ]
  },
  {
   "cell_type": "code",
   "execution_count": 31,
   "id": "869d691b",
   "metadata": {},
   "outputs": [
    {
     "data": {
      "text/plain": [
       "['English', 'German']"
      ]
     },
     "execution_count": 31,
     "metadata": {},
     "output_type": "execute_result"
    }
   ],
   "source": [
    "ass=Parent()\n",
    "ass.speaks"
   ]
  },
  {
   "cell_type": "markdown",
   "id": "bd67f26a",
   "metadata": {},
   "source": [
    "## 4. The dog class is given below. \n",
    "### i. A simple dog class is given below."
   ]
  },
  {
   "cell_type": "code",
   "execution_count": 32,
   "id": "e712059b",
   "metadata": {},
   "outputs": [],
   "source": [
    "# dog.py\n",
    "class Dog:\n",
    "    species = \"Canis familiaris\"\n",
    "    def __init__(self, name, age):\n",
    "        self.name = name\n",
    "        self.age = age\n",
    "    def __str__(self):\n",
    "        return f\"{self.name} is {self.age} years old\"\n",
    "    def speak(self, sound):\n",
    "        return f\"The parrent class method call..... {self.name} says {sound}\"\n"
   ]
  },
  {
   "cell_type": "markdown",
   "id": "74af4d21",
   "metadata": {},
   "source": [
    "## a. Make the following object of the dog class"
   ]
  },
  {
   "cell_type": "code",
   "execution_count": 20,
   "id": "c1596033",
   "metadata": {},
   "outputs": [],
   "source": [
    "miles = Dog(\"Miles\", 4)\n",
    "buddy = Dog(\"Buddy\", 9)\n",
    "jack = Dog(\"Jack\", 3)\n",
    "jim = Dog(\"Jim\", 5)\n"
   ]
  },
  {
   "cell_type": "markdown",
   "id": "97492525",
   "metadata": {},
   "source": [
    "## b. Run the following code. "
   ]
  },
  {
   "cell_type": "code",
   "execution_count": 21,
   "id": "21b89d66",
   "metadata": {},
   "outputs": [
    {
     "name": "stdout",
     "output_type": "stream",
     "text": [
      "Miles is 4 years old\n"
     ]
    }
   ],
   "source": [
    "print(miles)"
   ]
  },
  {
   "cell_type": "code",
   "execution_count": 23,
   "id": "c32b7d80",
   "metadata": {},
   "outputs": [
    {
     "data": {
      "text/plain": [
       "'The parrent class method call..... Jack says hhhh'"
      ]
     },
     "execution_count": 23,
     "metadata": {},
     "output_type": "execute_result"
    }
   ],
   "source": [
    "jack.speak(\"hhhh\")"
   ]
  },
  {
   "cell_type": "code",
   "execution_count": 24,
   "id": "b6b2f78b",
   "metadata": {},
   "outputs": [
    {
     "data": {
      "text/plain": [
       "'The parrent class method call..... Jim says yap yap'"
      ]
     },
     "execution_count": 24,
     "metadata": {},
     "output_type": "execute_result"
    }
   ],
   "source": [
    "jim.speak('yap yap')"
   ]
  },
  {
   "cell_type": "markdown",
   "id": "2f931975",
   "metadata": {},
   "source": [
    "## ii. Modify the Dog class in the editor by adding a .breed attribute."
   ]
  },
  {
   "cell_type": "code",
   "execution_count": 71,
   "id": "58bbe774",
   "metadata": {},
   "outputs": [],
   "source": [
    "# dog.py\n",
    "class Dog:\n",
    "    species = \"Canis familiaris\"\n",
    "    def __init__(self, name, age, breed):\n",
    "        self.name = name\n",
    "        self.age = age\n",
    "        self.breed = breed\n",
    "    def __str__(self):\n",
    "        return f\"{self.name} is {self.age} years old\"\n",
    "    def speak(self, sound):\n",
    "        return f\"{self.name} says {sound}\"\n"
   ]
  },
  {
   "cell_type": "markdown",
   "id": "efec6daf",
   "metadata": {},
   "source": [
    "## a. Make the following dog instances."
   ]
  },
  {
   "cell_type": "code",
   "execution_count": 72,
   "id": "79582643",
   "metadata": {},
   "outputs": [],
   "source": [
    "miles = Dog(\"Miles\", 4, \"Jack Russell Terrier\")\n",
    "buddy = Dog(\"Buddy\", 9, \"Dachshund\")\n",
    "jack = Dog(\"Jack\", 3, \"Bulldog\")\n",
    "jim = Dog(\"Jim\", 5, \"Bulldog\")"
   ]
  },
  {
   "cell_type": "markdown",
   "id": "0e4b21dc",
   "metadata": {},
   "source": [
    "## b. Using just the Dog class, you must supply a string for the sound argument of .speak() every time you call it on a Dog instance:"
   ]
  },
  {
   "cell_type": "code",
   "execution_count": 73,
   "id": "c103665d",
   "metadata": {},
   "outputs": [
    {
     "name": "stdout",
     "output_type": "stream",
     "text": [
      "Buddy says Yap\n",
      "Jim says Woof\n",
      "Jack says Woof\n"
     ]
    }
   ],
   "source": [
    "print(buddy.speak(\"Yap\"))\n",
    "print(jim.speak(\"Woof\"))\n",
    "print(jack.speak(\"Woof\"))"
   ]
  },
  {
   "cell_type": "markdown",
   "id": "0401b41f",
   "metadata": {},
   "source": [
    "## iii. Some Derived classes from the Dog class are given below in i."
   ]
  },
  {
   "cell_type": "code",
   "execution_count": 104,
   "id": "ba706edd",
   "metadata": {},
   "outputs": [],
   "source": [
    "# dog.py\n",
    "class Dog:\n",
    "    species = \"Canis familiaris\"\n",
    "    def __init__(self, name, age):\n",
    "        self.name = name\n",
    "        self.age = age\n",
    "    def __str__(self):\n",
    "        return f\"{self.name} is {self.age} years old\"\n",
    "    def speak(self, sound):\n",
    "        return f\"The parrent class method call..... {self.name} says {sound}\"\n"
   ]
  },
  {
   "cell_type": "code",
   "execution_count": 105,
   "id": "81a391f0",
   "metadata": {},
   "outputs": [],
   "source": [
    "class JackRussellTerrier(Dog):\n",
    "    pass\n",
    "class Dachshund(Dog):\n",
    "    pass\n",
    "class Bulldog(Dog):\n",
    "    pass\n",
    "\n"
   ]
  },
  {
   "cell_type": "markdown",
   "id": "75fe14d4",
   "metadata": {},
   "source": [
    "## a. The following is the object instantiation from the child class. "
   ]
  },
  {
   "cell_type": "code",
   "execution_count": 106,
   "id": "6eddf5b8",
   "metadata": {},
   "outputs": [],
   "source": [
    "\n",
    "\n",
    "miles = JackRussellTerrier(\"Miles\", 4)"
   ]
  },
  {
   "cell_type": "code",
   "execution_count": 107,
   "id": "961d5b38",
   "metadata": {},
   "outputs": [],
   "source": [
    "buddy = Dachshund(\"Buddy\", 9)"
   ]
  },
  {
   "cell_type": "code",
   "execution_count": 108,
   "id": "1394f1b9",
   "metadata": {},
   "outputs": [],
   "source": [
    "jack = Bulldog(\"Jack\", 3)"
   ]
  },
  {
   "cell_type": "code",
   "execution_count": 109,
   "id": "5d5d634d",
   "metadata": {},
   "outputs": [],
   "source": [
    "jim = Bulldog(\"Jim\", 5)"
   ]
  },
  {
   "cell_type": "markdown",
   "id": "ab97bbc1",
   "metadata": {},
   "source": [
    "#### The above cells gives us the error because there is one argumunt is missing the init reqiured three arguments but 2 were given and these are inhereted from the dog class"
   ]
  },
  {
   "cell_type": "markdown",
   "id": "91a0e681",
   "metadata": {},
   "source": [
    "## b. Run the following code and observe. "
   ]
  },
  {
   "cell_type": "code",
   "execution_count": 110,
   "id": "27a16331",
   "metadata": {},
   "outputs": [
    {
     "data": {
      "text/plain": [
       "'Canis familiaris'"
      ]
     },
     "execution_count": 110,
     "metadata": {},
     "output_type": "execute_result"
    }
   ],
   "source": [
    "miles.species"
   ]
  },
  {
   "cell_type": "code",
   "execution_count": 111,
   "id": "727f1149",
   "metadata": {},
   "outputs": [
    {
     "data": {
      "text/plain": [
       "'Buddy'"
      ]
     },
     "execution_count": 111,
     "metadata": {},
     "output_type": "execute_result"
    }
   ],
   "source": [
    "\n",
    "\n",
    "buddy.name"
   ]
  },
  {
   "cell_type": "code",
   "execution_count": 112,
   "id": "74b3ce64",
   "metadata": {},
   "outputs": [
    {
     "name": "stdout",
     "output_type": "stream",
     "text": [
      "Jack is 3 years old\n"
     ]
    }
   ],
   "source": [
    "print(jack)"
   ]
  },
  {
   "cell_type": "code",
   "execution_count": 113,
   "id": "279f914c",
   "metadata": {},
   "outputs": [
    {
     "data": {
      "text/plain": [
       "'The parrent class method call..... Jim says Woof'"
      ]
     },
     "execution_count": 113,
     "metadata": {},
     "output_type": "execute_result"
    }
   ],
   "source": [
    "jim.speak(\"Woof\")"
   ]
  },
  {
   "cell_type": "markdown",
   "id": "b1a98460",
   "metadata": {},
   "source": [
    "## iv. One thing to keep in mind about class inheritance is that changes to the parent class automatically propagate to child classes. This occurs as long as the attribute or method being changed isn’t overridden in the child class.\n",
    "## Following is the class derived from the base class Dog. The default parameter, change says to bark in the speak.\n",
    "## Note: More generally, all objects created from a child class are instances of the parent class.\n"
   ]
  },
  {
   "cell_type": "code",
   "execution_count": 114,
   "id": "1309769b",
   "metadata": {},
   "outputs": [],
   "source": [
    "class JackRussellTerrier(Dog):\n",
    "    def speak(self, sound=\"Arf\"):\n",
    "        return f\"Chiled class call ….{self.name} says {sound}\""
   ]
  },
  {
   "cell_type": "markdown",
   "id": "d0bbcdd2",
   "metadata": {},
   "source": [
    "## a. Run the following code and observe. \n"
   ]
  },
  {
   "cell_type": "code",
   "execution_count": 115,
   "id": "945a6a07",
   "metadata": {},
   "outputs": [],
   "source": [
    "miles = JackRussellTerrier(\"Miles\", 4,)\n",
    "\n"
   ]
  },
  {
   "cell_type": "code",
   "execution_count": 116,
   "id": "ce49e9b8",
   "metadata": {},
   "outputs": [
    {
     "data": {
      "text/plain": [
       "'Chiled class call ….Miles says Arf'"
      ]
     },
     "execution_count": 116,
     "metadata": {},
     "output_type": "execute_result"
    }
   ],
   "source": [
    "miles.speak()"
   ]
  },
  {
   "cell_type": "markdown",
   "id": "2d2068b5",
   "metadata": {},
   "source": [
    "## b. Run the following. \n"
   ]
  },
  {
   "cell_type": "code",
   "execution_count": 117,
   "id": "ccad8c02",
   "metadata": {},
   "outputs": [],
   "source": [
    "miles = Dachshund(\"Miles\", 4)\n",
    "\n"
   ]
  },
  {
   "cell_type": "code",
   "execution_count": 118,
   "id": "7da0f1c5",
   "metadata": {},
   "outputs": [
    {
     "data": {
      "text/plain": [
       "'The parrent class method call..... Miles says aaaaaaaaa'"
      ]
     },
     "execution_count": 118,
     "metadata": {},
     "output_type": "execute_result"
    }
   ],
   "source": [
    "miles.speak('aaaaaaaaa')"
   ]
  },
  {
   "cell_type": "markdown",
   "id": "d1b0c0cc",
   "metadata": {},
   "source": [
    "## c. Run the following. \n"
   ]
  },
  {
   "cell_type": "code",
   "execution_count": 119,
   "id": "748a6bb9",
   "metadata": {},
   "outputs": [],
   "source": [
    "miles = Bulldog(\"Miles\", 4)\n"
   ]
  },
  {
   "cell_type": "code",
   "execution_count": 120,
   "id": "d053d586",
   "metadata": {},
   "outputs": [
    {
     "data": {
      "text/plain": [
       "'The parrent class method call..... Miles says bbbbbbbbbbbbb'"
      ]
     },
     "execution_count": 120,
     "metadata": {},
     "output_type": "execute_result"
    }
   ],
   "source": [
    "miles.speak('bbbbbbbbbbbbb')"
   ]
  },
  {
   "cell_type": "markdown",
   "id": "fdbc313c",
   "metadata": {},
   "source": [
    "## d. Modify the other two child classes in part iii i.e. Dachshund and Bulldog. Update like in part I the JackRussellTerrier is modified."
   ]
  },
  {
   "cell_type": "code",
   "execution_count": 121,
   "id": "fb9f634e",
   "metadata": {},
   "outputs": [],
   "source": [
    "class Bulldog(Dog):\n",
    "    def speak(self, sound=\"Arf\"):\n",
    "        return f\"Chiled class call ….{self.name} says {sound}\""
   ]
  },
  {
   "cell_type": "code",
   "execution_count": 122,
   "id": "673e0a75",
   "metadata": {},
   "outputs": [],
   "source": [
    "class Dachshund(Dog):\n",
    "    def speak(self, sound=\"Arf\"):\n",
    "        return f\"Chiled class call ….{self.name} says {sound}\""
   ]
  },
  {
   "cell_type": "markdown",
   "id": "e0e4fe57",
   "metadata": {},
   "source": [
    "## e. You can access the parent class from inside a method of a child class by using super():"
   ]
  },
  {
   "cell_type": "code",
   "execution_count": 123,
   "id": "956e13d4",
   "metadata": {},
   "outputs": [],
   "source": [
    "class JackRussellTerrier(Dog):\n",
    "    def speak(self, sound=\"Arf\"):\n",
    "        return super().speak(sound)"
   ]
  },
  {
   "cell_type": "markdown",
   "id": "e4dd620c",
   "metadata": {},
   "source": [
    "## • Run the following. \n"
   ]
  },
  {
   "cell_type": "code",
   "execution_count": 124,
   "id": "5bee0631",
   "metadata": {},
   "outputs": [],
   "source": [
    "miles = JackRussellTerrier(\"Miles\", 4)\n"
   ]
  },
  {
   "cell_type": "code",
   "execution_count": 125,
   "id": "00eab94b",
   "metadata": {},
   "outputs": [
    {
     "data": {
      "text/plain": [
       "'The parrent class method call..... Miles says Arf'"
      ]
     },
     "execution_count": 125,
     "metadata": {},
     "output_type": "execute_result"
    }
   ],
   "source": [
    "miles.speak()"
   ]
  },
  {
   "cell_type": "markdown",
   "id": "124cca3a",
   "metadata": {},
   "source": [
    "## Encouraging:\n",
    "1. Person and Employ \n",
    "If your subclasses provide a .__init__() method, then this method must explicitly call the \n",
    "base class’s .__init__() method with appropriate arguments to ensure the correct \n",
    "initialization of instances. To do this, you should use the built-in super() function.\n",
    "Run and understand the following code. Also, print the attributes. "
   ]
  },
  {
   "cell_type": "code",
   "execution_count": 126,
   "id": "2ddabc56",
   "metadata": {},
   "outputs": [],
   "source": [
    "class Person:\n",
    "    def __init__(self, name, birth_date):\n",
    "        self.name = name\n",
    "        self.birth_date = birth_date\n",
    "class Employee(Person):\n",
    "    def __init__(self, name, birth_date, position):\n",
    "        super().__init__(name, birth_date)\n",
    "        self.position = position\n",
    "        \n",
    "        \n",
    "        \n",
    "john = Employee(\"John Doe\", \"2001-02-07\", \"Python Developer\")\n"
   ]
  },
  {
   "cell_type": "markdown",
   "id": "6827f934",
   "metadata": {},
   "source": [
    "## 2. Consider the following class and sub-class."
   ]
  },
  {
   "cell_type": "code",
   "execution_count": 127,
   "id": "527a92fd",
   "metadata": {},
   "outputs": [],
   "source": [
    "class Contact:\n",
    "    all_contacts = []\n",
    "    def __init__(self, name, email):\n",
    "        self.name = name\n",
    "        self.email = email\n",
    "        Contact.all_contacts.append(self)\n",
    "class Supplier(Contact):\n",
    "    def order(self, order):\n",
    "        print(\"If this were a real system we would send '{}' order to '{}'\".format(order, self.name))\n"
   ]
  },
  {
   "cell_type": "markdown",
   "id": "aed60e19",
   "metadata": {},
   "source": [
    "## Instantiate two objects c and s. "
   ]
  },
  {
   "cell_type": "code",
   "execution_count": 128,
   "id": "4c3c3b60",
   "metadata": {},
   "outputs": [],
   "source": [
    "c = Contact(\"Some Body\", \"somebody@example.net\")\n",
    "s = Supplier(\"Sup Plier\", \"supplier@example.net\")"
   ]
  },
  {
   "cell_type": "markdown",
   "id": "f2654f7e",
   "metadata": {},
   "source": [
    "## a. Print the attributes of c and s."
   ]
  },
  {
   "cell_type": "code",
   "execution_count": 129,
   "id": "77cffbe1",
   "metadata": {},
   "outputs": [
    {
     "name": "stdout",
     "output_type": "stream",
     "text": [
      "<__main__.Contact object at 0x000001DA472B1BE0>\n"
     ]
    }
   ],
   "source": [
    "c.all_contacts\n",
    "print(c)"
   ]
  },
  {
   "cell_type": "code",
   "execution_count": 130,
   "id": "ace89282",
   "metadata": {},
   "outputs": [
    {
     "data": {
      "text/plain": [
       "'somebody@example.net'"
      ]
     },
     "execution_count": 130,
     "metadata": {},
     "output_type": "execute_result"
    }
   ],
   "source": [
    "c.email"
   ]
  },
  {
   "cell_type": "code",
   "execution_count": 131,
   "id": "8c5e95da",
   "metadata": {},
   "outputs": [
    {
     "data": {
      "text/plain": [
       "'Some Body'"
      ]
     },
     "execution_count": 131,
     "metadata": {},
     "output_type": "execute_result"
    }
   ],
   "source": [
    "c.name"
   ]
  },
  {
   "cell_type": "code",
   "execution_count": 132,
   "id": "0eae2434",
   "metadata": {},
   "outputs": [
    {
     "data": {
      "text/plain": [
       "[<__main__.Contact at 0x1da472b1be0>, <__main__.Supplier at 0x1da472b1df0>]"
      ]
     },
     "execution_count": 132,
     "metadata": {},
     "output_type": "execute_result"
    }
   ],
   "source": [
    "s.all_contacts"
   ]
  },
  {
   "cell_type": "code",
   "execution_count": 133,
   "id": "c0d7aca7",
   "metadata": {},
   "outputs": [
    {
     "data": {
      "text/plain": [
       "'supplier@example.net'"
      ]
     },
     "execution_count": 133,
     "metadata": {},
     "output_type": "execute_result"
    }
   ],
   "source": [
    "s.email"
   ]
  },
  {
   "cell_type": "code",
   "execution_count": 134,
   "id": "378f7f1f",
   "metadata": {},
   "outputs": [
    {
     "data": {
      "text/plain": [
       "'Sup Plier'"
      ]
     },
     "execution_count": 134,
     "metadata": {},
     "output_type": "execute_result"
    }
   ],
   "source": [
    "s.name"
   ]
  },
  {
   "cell_type": "code",
   "execution_count": 135,
   "id": "8046910d",
   "metadata": {},
   "outputs": [
    {
     "data": {
      "text/plain": [
       "<bound method Supplier.order of <__main__.Supplier object at 0x000001DA472B1DF0>>"
      ]
     },
     "execution_count": 135,
     "metadata": {},
     "output_type": "execute_result"
    }
   ],
   "source": [
    "s.order"
   ]
  },
  {
   "cell_type": "markdown",
   "id": "af9bb8d0",
   "metadata": {},
   "source": [
    "## b. Call the order method on c.\n"
   ]
  },
  {
   "cell_type": "code",
   "execution_count": 136,
   "id": "56539605",
   "metadata": {},
   "outputs": [
    {
     "ename": "AttributeError",
     "evalue": "'Contact' object has no attribute 'order'",
     "output_type": "error",
     "traceback": [
      "\u001b[1;31m---------------------------------------------------------------------------\u001b[0m",
      "\u001b[1;31mAttributeError\u001b[0m                            Traceback (most recent call last)",
      "Input \u001b[1;32mIn [136]\u001b[0m, in \u001b[0;36m<cell line: 1>\u001b[1;34m()\u001b[0m\n\u001b[1;32m----> 1\u001b[0m \u001b[43mc\u001b[49m\u001b[38;5;241;43m.\u001b[39;49m\u001b[43morder\u001b[49m\n",
      "\u001b[1;31mAttributeError\u001b[0m: 'Contact' object has no attribute 'order'"
     ]
    }
   ],
   "source": [
    "c.order"
   ]
  },
  {
   "cell_type": "markdown",
   "id": "d56b263f",
   "metadata": {},
   "source": [
    "## c. Call the order method on s. Observe the difference."
   ]
  },
  {
   "cell_type": "code",
   "execution_count": 137,
   "id": "069271aa",
   "metadata": {},
   "outputs": [
    {
     "data": {
      "text/plain": [
       "<bound method Supplier.order of <__main__.Supplier object at 0x000001DA472B1DF0>>"
      ]
     },
     "execution_count": 137,
     "metadata": {},
     "output_type": "execute_result"
    }
   ],
   "source": [
    "s.order"
   ]
  },
  {
   "cell_type": "markdown",
   "id": "16968cc1",
   "metadata": {},
   "source": [
    "## Note: \n",
    "• Supplier class can do everything a contact can do (including adding itself to the list of \n",
    "all_contacts) and all the special things it needs to handle as a supplier"
   ]
  },
  {
   "cell_type": "markdown",
   "id": "87cb2584",
   "metadata": {},
   "source": [
    "## 3. Extending built-ins: List is a built-in class. In the following code block “ContactList“is derived.\n"
   ]
  },
  {
   "cell_type": "code",
   "execution_count": 41,
   "id": "95c62c9a",
   "metadata": {},
   "outputs": [],
   "source": [
    "class ContactList(list):\n",
    "    def search(self, name):\n",
    "        '''Return all contacts that contain the search value in their name.'''\n",
    "        matching_contacts = []\n",
    "        for contact in self:\n",
    "            if name in contact.name:\n",
    "                matching_contacts.append(contact)\n",
    "                return matching_contacts\n",
    "class Contact:\n",
    "    all_contacts = ContactList()\n",
    "    def __init__(self, name, email):\n",
    "        self.name = name\n",
    "        self.email = email\n",
    "        self.all_contacts.append(self)"
   ]
  },
  {
   "cell_type": "markdown",
   "id": "ff28347d",
   "metadata": {},
   "source": [
    "## a. Make the following three objects."
   ]
  },
  {
   "cell_type": "code",
   "execution_count": 40,
   "id": "ca7fb39a",
   "metadata": {},
   "outputs": [],
   "source": [
    "c1 = Contact(\"John A\", \"johna@example.net\")\n",
    "c2 = Contact(\"John B\", \"johnb@example.net\")\n",
    "c3 = Contact(\"Jenna C\", \"jennac@example.net\")"
   ]
  },
  {
   "cell_type": "markdown",
   "id": "8971ca3a",
   "metadata": {},
   "source": [
    "## b. Make a list of names that contain John. For this use the search method. "
   ]
  },
  {
   "cell_type": "code",
   "execution_count": null,
   "id": "870d0d04",
   "metadata": {},
   "outputs": [],
   "source": []
  }
 ],
 "metadata": {
  "kernelspec": {
   "display_name": "Python 3 (ipykernel)",
   "language": "python",
   "name": "python3"
  },
  "language_info": {
   "codemirror_mode": {
    "name": "ipython",
    "version": 3
   },
   "file_extension": ".py",
   "mimetype": "text/x-python",
   "name": "python",
   "nbconvert_exporter": "python",
   "pygments_lexer": "ipython3",
   "version": "3.9.12"
  }
 },
 "nbformat": 4,
 "nbformat_minor": 5
}
