{
 "cells": [
  {
   "cell_type": "markdown",
   "id": "f8245958",
   "metadata": {},
   "source": [
    "# Multilevel Multiple Inheritance"
   ]
  },
  {
   "cell_type": "markdown",
   "id": "6ec40226",
   "metadata": {},
   "source": [
    "# Multilevel Inheritance in Python is a type of Inheritance that involves inheriting a class that has already inherited some other class.This is a simple relationship between a child and a grandfather.\n"
   ]
  },
  {
   "cell_type": "code",
   "execution_count": null,
   "id": "a1c1c44b",
   "metadata": {},
   "outputs": [],
   "source": [
    "class base:\n",
    "    // Members and Functions\n",
    "    Pass\n",
    "class derived1(base):\n",
    "    // Members and functions of both base and derived1 classes\n",
    "    pass\n",
    "class derived2(derived1):\n",
    "    // Members and functions of base class, derived1 class, \n",
    "and derived2 class.\n",
    "    Pass\n"
   ]
  },
  {
   "cell_type": "markdown",
   "id": "a243fb3c",
   "metadata": {},
   "source": [
    "## Lab report Task \n",
    "1. Define 3 objects of different classes in task 2 and run different methods on them."
   ]
  },
  {
   "cell_type": "code",
   "execution_count": null,
   "id": "55e1dce6",
   "metadata": {},
   "outputs": [],
   "source": []
  },
  {
   "cell_type": "markdown",
   "id": "e6b84b85",
   "metadata": {},
   "source": [
    "## Lab Work tasks \n",
    "1. Consider the following classes."
   ]
  },
  {
   "cell_type": "code",
   "execution_count": null,
   "id": "ebdd3656",
   "metadata": {},
   "outputs": [],
   "source": [
    "class Manager:\n",
    "    def final_review(self):\n",
    "        print(\"Final Review\")\n",
    "class Reviewer(Manager):\n",
    "    def review(self):\n",
    "        print(\"Reviewing...\")\n",
    "class Writer(Reviewer):\n",
    "    def writes(self):\n",
    "        print(\"Writes the code\")\n"
   ]
  },
  {
   "cell_type": "markdown",
   "id": "e5552e0c",
   "metadata": {},
   "source": [
    "## a. Run the following code and observe."
   ]
  },
  {
   "cell_type": "code",
   "execution_count": null,
   "id": "6ba84ae4",
   "metadata": {},
   "outputs": [],
   "source": [
    "o = Writer()\n",
    "o.final_review()\n",
    "o.review()\n",
    "o.writes()"
   ]
  },
  {
   "cell_type": "markdown",
   "id": "8a784658",
   "metadata": {},
   "source": [
    "## b. Run the following code and observe."
   ]
  },
  {
   "cell_type": "code",
   "execution_count": null,
   "id": "965eae47",
   "metadata": {},
   "outputs": [],
   "source": [
    "or1 = Reviewer()\n",
    "or1.review()\n"
   ]
  },
  {
   "cell_type": "markdown",
   "id": "9846ead8",
   "metadata": {},
   "source": [
    "## c. Run the following code and observe. "
   ]
  },
  {
   "cell_type": "code",
   "execution_count": null,
   "id": "7c0d6df7",
   "metadata": {},
   "outputs": [],
   "source": [
    "or1.final_review()"
   ]
  },
  {
   "cell_type": "markdown",
   "id": "71483f1c",
   "metadata": {},
   "source": [
    "## . Run the following code and observe. "
   ]
  },
  {
   "cell_type": "code",
   "execution_count": null,
   "id": "d7185a04",
   "metadata": {},
   "outputs": [],
   "source": [
    "or1.writes()\n"
   ]
  },
  {
   "cell_type": "markdown",
   "id": "9f416995",
   "metadata": {},
   "source": [
    "# 1. Multiple Inheritance in Python"
   ]
  },
  {
   "cell_type": "code",
   "execution_count": 69,
   "id": "887ca944",
   "metadata": {},
   "outputs": [
    {
     "ename": "NameError",
     "evalue": "name 'pry' is not defined",
     "output_type": "error",
     "traceback": [
      "\u001b[1;31m---------------------------------------------------------------------------\u001b[0m",
      "\u001b[1;31mNameError\u001b[0m                                 Traceback (most recent call last)",
      "Input \u001b[1;32mIn [69]\u001b[0m, in \u001b[0;36m<cell line: 1>\u001b[1;34m()\u001b[0m\n\u001b[1;32m----> 1\u001b[0m pry\u001b[38;5;241m=\u001b[39m\u001b[43mpry\u001b[49m(\u001b[38;5;241m9\u001b[39m,\u001b[38;5;241m2\u001b[39m)\n",
      "\u001b[1;31mNameError\u001b[0m: name 'pry' is not defined"
     ]
    }
   ],
   "source": [
    "class square\n",
    "      def__init__(self,area=5)\n",
    "        self.area."
   ]
  },
  {
   "cell_type": "code",
   "execution_count": 68,
   "id": "b9b76fd1",
   "metadata": {},
   "outputs": [
    {
     "data": {
      "text/plain": [
       "'\"\\'class RightPyramid(Square, Triangle, SurfaceAreaMixin):\\n    def __init__(self, base, slant_height):\\n        self.base = base\\n        self.slant_height = slant_height\\n        self.height = slant_height\\n        self.length = base\\n        self.width = base\\n        self.surfaces = [Square, Triangle, Triangle, Triangle, Triangle]'"
      ]
     },
     "execution_count": 68,
     "metadata": {},
     "output_type": "execute_result"
    }
   ],
   "source": [
    "class Rectangle:\n",
    "    def __init__(self, length, width, **kwargs):\n",
    "        self.length = length\n",
    "        self.width = width\n",
    "        super().__init__(**kwargs)\n",
    "    def area(self):\n",
    "        return self.length * self.width\n",
    "    def perimeter(self):\n",
    "        return 2 * self.length + 2 * self.width\n",
    "    \n",
    "    def __str__(self):\n",
    "        return f\"the area is {self.length,self.width} and the perimeter is {self.length,self.width}\"\n",
    "    \n",
    "class Square(Rectangle):\n",
    "    def __init__(self, length, **kwargs):\n",
    "        super().__init__(length=length, width=length, **kwargs)\n",
    "     \n",
    "    def __str__(self):\n",
    "        return f\"the area is {self.length,self.width} and the perimeter is {self.length,self.width}\"\n",
    "     \n",
    "    def __repr__(self):\n",
    "        return f\"the area is {self.length,self.width} and the perimeter is {self.length,self.width}\"\n",
    "    \n",
    "        \n",
    "class Triangle:\n",
    "       \n",
    "    def __init__(self, base, height, **kwargs):\n",
    "        self.base = base\n",
    "        self.height = height\n",
    "        super().__init__(**kwargs)\n",
    "    def tri_area(self):\n",
    "        return 0.5 * self.base * self.height\n",
    "    \n",
    "class RightPyramid(Square, Triangle):\n",
    "    def __init__(self, base, slant_height, **kwargs):\n",
    "        self.base = base\n",
    "        self.slant_height = slant_height\n",
    "        kwargs[\"height\"] = slant_height\n",
    "        kwargs[\"length\"] = base\n",
    "        super().__init__(base=base, **kwargs)\n",
    "    def area(self):\n",
    "        base_area = super().area()\n",
    "        perimeter = super().perimeter()\n",
    "        return 0.5 * perimeter * self.slant_height + base_area\n",
    "    \n",
    "    def area_2(self):\n",
    "        base_area = super().area()\n",
    "        triangle_area = super().tri_area()\n",
    "        return triangle_area * 4 + base_area\n",
    "    \n",
    "class SurfaceAreaMixin:\n",
    "    def surface_area(self):\n",
    "        surface_area = 0\n",
    "        for surface in self.surfaces:\n",
    "            surface_area += surface.area(self)\n",
    "        return surface_area\n",
    "    \n",
    "class Cube(Square, SurfaceAreaMixin):\n",
    "    def __init__(self, length):\n",
    "        super().__init__(length)\n",
    "        self.surfaces = [Square, Square, Square, Square, Square, Square]\n",
    "        \n",
    "\"\"\"\"'class RightPyramid(Square, Triangle, SurfaceAreaMixin):\n",
    "    def __init__(self, base, slant_height):\n",
    "        self.base = base\n",
    "        self.slant_height = slant_height\n",
    "        self.height = slant_height\n",
    "        self.length = base\n",
    "        self.width = base\n",
    "        self.surfaces = [Square, Triangle, Triangle, Triangle, Triangle]\"\"\"\n"
   ]
  },
  {
   "cell_type": "markdown",
   "id": "736f4877",
   "metadata": {},
   "source": [
    "# a. Run the following code and track the code flow. "
   ]
  },
  {
   "cell_type": "code",
   "execution_count": 67,
   "id": "b213dd2e",
   "metadata": {},
   "outputs": [
    {
     "data": {
      "text/plain": [
       "54"
      ]
     },
     "execution_count": 67,
     "metadata": {},
     "output_type": "execute_result"
    }
   ],
   "source": [
    "cube = Cube(3)\n",
    "cube.surface_area()\n"
   ]
  },
  {
   "cell_type": "markdown",
   "id": "347c1650",
   "metadata": {},
   "source": [
    "## lab task "
   ]
  },
  {
   "cell_type": "markdown",
   "id": "dcd91c5c",
   "metadata": {},
   "source": [
    "## object of rectangle"
   ]
  },
  {
   "cell_type": "code",
   "execution_count": 63,
   "id": "6eb449e3",
   "metadata": {},
   "outputs": [
    {
     "data": {
      "text/plain": [
       "8"
      ]
     },
     "execution_count": 63,
     "metadata": {},
     "output_type": "execute_result"
    }
   ],
   "source": [
    "react=Rectangle(2,4)\n",
    "react.area()"
   ]
  },
  {
   "cell_type": "code",
   "execution_count": 34,
   "id": "09bd90e0",
   "metadata": {},
   "outputs": [
    {
     "data": {
      "text/plain": [
       "12"
      ]
     },
     "execution_count": 34,
     "metadata": {},
     "output_type": "execute_result"
    }
   ],
   "source": [
    "react.perimeter()"
   ]
  },
  {
   "cell_type": "code",
   "execution_count": 35,
   "id": "9843dd0a",
   "metadata": {},
   "outputs": [
    {
     "data": {
      "text/plain": [
       "16"
      ]
     },
     "execution_count": 35,
     "metadata": {},
     "output_type": "execute_result"
    }
   ],
   "source": [
    "peri=Rectangle(2,6)\n",
    "peri.perimeter()"
   ]
  },
  {
   "cell_type": "code",
   "execution_count": 36,
   "id": "1cc73aed",
   "metadata": {},
   "outputs": [
    {
     "name": "stdout",
     "output_type": "stream",
     "text": [
      "the area is (2, 5) and the perimeter is (2, 5)\n"
     ]
    }
   ],
   "source": [
    "reat=Rectangle(2,5)\n",
    "print(reat)"
   ]
  },
  {
   "cell_type": "markdown",
   "id": "744f7bb8",
   "metadata": {},
   "source": [
    "## task 2"
   ]
  },
  {
   "cell_type": "markdown",
   "id": "c95a269f",
   "metadata": {},
   "source": [
    "## oject of squre class"
   ]
  },
  {
   "cell_type": "code",
   "execution_count": 37,
   "id": "44042fa1",
   "metadata": {},
   "outputs": [
    {
     "data": {
      "text/plain": [
       "4"
      ]
     },
     "execution_count": 37,
     "metadata": {},
     "output_type": "execute_result"
    }
   ],
   "source": [
    "squr=Square(2)\n",
    "squr.area()"
   ]
  },
  {
   "cell_type": "code",
   "execution_count": 64,
   "id": "dcbd723c",
   "metadata": {},
   "outputs": [
    {
     "data": {
      "text/plain": [
       "24"
      ]
     },
     "execution_count": 64,
     "metadata": {},
     "output_type": "execute_result"
    }
   ],
   "source": [
    "peri=Square(6)\n",
    "peri.perimeter()"
   ]
  },
  {
   "cell_type": "code",
   "execution_count": 39,
   "id": "80f7d2f5",
   "metadata": {},
   "outputs": [
    {
     "name": "stdout",
     "output_type": "stream",
     "text": [
      "the area is (6, 6) and the perimeter is (6, 6)\n"
     ]
    }
   ],
   "source": [
    "peri=Square(6)\n",
    "print(peri)"
   ]
  },
  {
   "cell_type": "code",
   "execution_count": null,
   "id": "e2e18bed",
   "metadata": {},
   "outputs": [],
   "source": []
  },
  {
   "cell_type": "markdown",
   "id": "a94e8fce",
   "metadata": {},
   "source": [
    "## task 3"
   ]
  },
  {
   "cell_type": "markdown",
   "id": "87d1ea6c",
   "metadata": {},
   "source": [
    "## object of triangle class"
   ]
  },
  {
   "cell_type": "code",
   "execution_count": 41,
   "id": "08b4d762",
   "metadata": {},
   "outputs": [],
   "source": [
    "tria=Triangle(3,5)"
   ]
  },
  {
   "cell_type": "code",
   "execution_count": 42,
   "id": "5c4ce34a",
   "metadata": {},
   "outputs": [
    {
     "data": {
      "text/plain": [
       "7.5"
      ]
     },
     "execution_count": 42,
     "metadata": {},
     "output_type": "execute_result"
    }
   ],
   "source": [
    "tria.tri_area()"
   ]
  },
  {
   "cell_type": "code",
   "execution_count": 43,
   "id": "fa869466",
   "metadata": {},
   "outputs": [],
   "source": [
    "tri=Triangle(4,7)"
   ]
  },
  {
   "cell_type": "code",
   "execution_count": 65,
   "id": "8e57bb10",
   "metadata": {},
   "outputs": [
    {
     "data": {
      "text/plain": [
       "7.5"
      ]
     },
     "execution_count": 65,
     "metadata": {},
     "output_type": "execute_result"
    }
   ],
   "source": [
    "tri.tri_area()"
   ]
  },
  {
   "cell_type": "markdown",
   "id": "1120ce6c",
   "metadata": {},
   "source": [
    "## task 4"
   ]
  },
  {
   "cell_type": "markdown",
   "id": "71898e7c",
   "metadata": {},
   "source": [
    "## object of rightpyramid"
   ]
  },
  {
   "cell_type": "code",
   "execution_count": 55,
   "id": "02994b40",
   "metadata": {},
   "outputs": [],
   "source": [
    "pyram=RightPyramid(10,13)"
   ]
  },
  {
   "cell_type": "code",
   "execution_count": 56,
   "id": "56e874f4",
   "metadata": {},
   "outputs": [
    {
     "data": {
      "text/plain": [
       "360.0"
      ]
     },
     "execution_count": 56,
     "metadata": {},
     "output_type": "execute_result"
    }
   ],
   "source": [
    "pyram.area()"
   ]
  },
  {
   "cell_type": "code",
   "execution_count": 72,
   "id": "eaee04b4",
   "metadata": {},
   "outputs": [],
   "source": [
    "class Rectangle:\n",
    "    def __init__(self, length, width, **kwargs):\n",
    "        self.length = length\n",
    "        self.width = width\n",
    "        super().__init__(**kwargs)\n",
    "    def area(self):\n",
    "        return self.length * self.width"
   ]
  },
  {
   "cell_type": "code",
   "execution_count": 74,
   "id": "02a64452",
   "metadata": {},
   "outputs": [],
   "source": [
    "R1=Rectangle(5,8)"
   ]
  },
  {
   "cell_type": "markdown",
   "id": "49756a3c",
   "metadata": {},
   "source": [
    " "
   ]
  },
  {
   "cell_type": "code",
   "execution_count": 75,
   "id": "3bf1001d",
   "metadata": {},
   "outputs": [
    {
     "data": {
      "text/plain": [
       "40"
      ]
     },
     "execution_count": 75,
     "metadata": {},
     "output_type": "execute_result"
    }
   ],
   "source": [
    "R1.area()"
   ]
  },
  {
   "cell_type": "code",
   "execution_count": null,
   "id": "0626fd52",
   "metadata": {},
   "outputs": [],
   "source": []
  }
 ],
 "metadata": {
  "kernelspec": {
   "display_name": "Python 3 (ipykernel)",
   "language": "python",
   "name": "python3"
  },
  "language_info": {
   "codemirror_mode": {
    "name": "ipython",
    "version": 3
   },
   "file_extension": ".py",
   "mimetype": "text/x-python",
   "name": "python",
   "nbconvert_exporter": "python",
   "pygments_lexer": "ipython3",
   "version": "3.9.12"
  }
 },
 "nbformat": 4,
 "nbformat_minor": 5
}
