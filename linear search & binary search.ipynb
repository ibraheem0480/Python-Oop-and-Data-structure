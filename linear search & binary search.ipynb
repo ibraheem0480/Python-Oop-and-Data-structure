{
 "cells": [
  {
   "cell_type": "markdown",
   "id": "e097af00",
   "metadata": {},
   "source": [
    "# linear_search"
   ]
  },
  {
   "cell_type": "code",
   "execution_count": 2,
   "id": "93bbf594",
   "metadata": {},
   "outputs": [
    {
     "name": "stdout",
     "output_type": "stream",
     "text": [
      "Element 9 is not present in the array.\n"
     ]
    }
   ],
   "source": [
    "\n",
    "def linear_search(arr, target):\n",
    "    for i in range(len(arr)):\n",
    "        if arr[i] == target:\n",
    "            return i  \n",
    "    return -1 \n",
    "\n",
    "my_array = [5, 3, 8, 2, 7, 1]\n",
    "target_value = 9\n",
    "\n",
    "result = linear_search(my_array, target_value)\n",
    "\n",
    "if result != -1:\n",
    "    print(f\"Element {target_value} is present at index {result}.\")\n",
    "else:\n",
    "    print(f\"Element {target_value} is not present in the array.\")\n"
   ]
  },
  {
   "cell_type": "markdown",
   "id": "611a371e",
   "metadata": {},
   "source": [
    "# binary_search"
   ]
  },
  {
   "cell_type": "code",
   "execution_count": 3,
   "id": "88fe48f6",
   "metadata": {},
   "outputs": [
    {
     "name": "stdout",
     "output_type": "stream",
     "text": [
      "Element 7 is present at index 6.\n"
     ]
    }
   ],
   "source": [
    "def binary_search(arr, target):\n",
    "    left, right = 0, len(arr) - 1\n",
    "\n",
    "    while left <= right:\n",
    "        mid = left + (right - left) // 2\n",
    "        if arr[mid] == target:\n",
    "            return mid\n",
    "        elif arr[mid] < target:\n",
    "            left = mid + 1\n",
    "        else:\n",
    "            right = mid - 1\n",
    "    return -1\n",
    "\n",
    "sorted_array = [1, 2, 3, 4, 5, 6, 7, 8, 9, 10]\n",
    "target_value = 7\n",
    "\n",
    "result = binary_search(sorted_array, target_value)\n",
    "\n",
    "if result != -1:\n",
    "    print(f\"Element {target_value} is present at index {result}.\")\n",
    "else:\n",
    "    print(f\"Element {target_value} is not present in the array.\")"
   ]
  },
  {
   "cell_type": "code",
   "execution_count": null,
   "id": "392a6358",
   "metadata": {},
   "outputs": [],
   "source": []
  }
 ],
 "metadata": {
  "kernelspec": {
   "display_name": "Python 3 (ipykernel)",
   "language": "python",
   "name": "python3"
  },
  "language_info": {
   "codemirror_mode": {
    "name": "ipython",
    "version": 3
   },
   "file_extension": ".py",
   "mimetype": "text/x-python",
   "name": "python",
   "nbconvert_exporter": "python",
   "pygments_lexer": "ipython3",
   "version": "3.9.12"
  }
 },
 "nbformat": 4,
 "nbformat_minor": 5
}
