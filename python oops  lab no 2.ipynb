{
 "cells": [
  {
   "cell_type": "markdown",
   "id": "3bb853b9",
   "metadata": {},
   "source": [
    "# 1.\tMake a list of 5 any integers. "
   ]
  },
  {
   "cell_type": "code",
   "execution_count": 3,
   "id": "25e468b2",
   "metadata": {},
   "outputs": [],
   "source": [
    "list1=[1,2,6,7,5]"
   ]
  },
  {
   "cell_type": "markdown",
   "id": "21ab7406",
   "metadata": {},
   "source": [
    "# 2.\tMake a list of that contains student name, last four digits of registration number as integer, CGPA as a float, and a list that contain GPA of all semesters. (Nested List) "
   ]
  },
  {
   "cell_type": "code",
   "execution_count": 4,
   "id": "e14af445",
   "metadata": {},
   "outputs": [
    {
     "name": "stdout",
     "output_type": "stream",
     "text": [
      "3.9\n"
     ]
    }
   ],
   "source": [
    "list2=['ibraeem khan',480,3.9,[3.84,4.0]]\n",
    "print(list2[-2])"
   ]
  },
  {
   "cell_type": "markdown",
   "id": "dd36b663",
   "metadata": {},
   "source": [
    "# 3.\tIn the above list print the student CGPA. (Index)"
   ]
  },
  {
   "cell_type": "code",
   "execution_count": 5,
   "id": "1507884f",
   "metadata": {},
   "outputs": [
    {
     "name": "stdout",
     "output_type": "stream",
     "text": [
      "3.84\n"
     ]
    }
   ],
   "source": [
    "print(list2[3][0])"
   ]
  },
  {
   "cell_type": "markdown",
   "id": "c11cd6cd",
   "metadata": {},
   "source": [
    "# 4.\tPrint the list elements using the while loop and use length function. (len)"
   ]
  },
  {
   "cell_type": "code",
   "execution_count": 6,
   "id": "2fbc0bca",
   "metadata": {
    "scrolled": true
   },
   "outputs": [
    {
     "name": "stdout",
     "output_type": "stream",
     "text": [
      "1\n",
      "2\n",
      "6\n",
      "7\n",
      "5\n"
     ]
    },
    {
     "ename": "IndexError",
     "evalue": "list index out of range",
     "output_type": "error",
     "traceback": [
      "\u001b[1;31m---------------------------------------------------------------------------\u001b[0m",
      "\u001b[1;31mIndexError\u001b[0m                                Traceback (most recent call last)",
      "Input \u001b[1;32mIn [6]\u001b[0m, in \u001b[0;36m<cell line: 2>\u001b[1;34m()\u001b[0m\n\u001b[0;32m      1\u001b[0m l\u001b[38;5;241m=\u001b[39m\u001b[38;5;241m0\u001b[39m\n\u001b[0;32m      2\u001b[0m \u001b[38;5;28;01mwhile\u001b[39;00m (\u001b[38;5;28mlen\u001b[39m(list1)):\n\u001b[1;32m----> 3\u001b[0m     \u001b[38;5;28mprint\u001b[39m(\u001b[43mlist1\u001b[49m\u001b[43m[\u001b[49m\u001b[43ml\u001b[49m\u001b[43m]\u001b[49m)\n\u001b[0;32m      4\u001b[0m     l\u001b[38;5;241m=\u001b[39m\u001b[38;5;241m1\u001b[39m\u001b[38;5;241m+\u001b[39ml\n",
      "\u001b[1;31mIndexError\u001b[0m: list index out of range"
     ]
    }
   ],
   "source": [
    "l=0\n",
    "while (len(list1)):\n",
    "    print(list1[l])\n",
    "    l=1+l"
   ]
  },
  {
   "cell_type": "code",
   "execution_count": 7,
   "id": "62b881d2",
   "metadata": {},
   "outputs": [
    {
     "name": "stdout",
     "output_type": "stream",
     "text": [
      "ibraeem khan\n",
      "480\n",
      "3.9\n",
      "[3.84, 4.0]\n"
     ]
    },
    {
     "ename": "IndexError",
     "evalue": "list index out of range",
     "output_type": "error",
     "traceback": [
      "\u001b[1;31m---------------------------------------------------------------------------\u001b[0m",
      "\u001b[1;31mIndexError\u001b[0m                                Traceback (most recent call last)",
      "Input \u001b[1;32mIn [7]\u001b[0m, in \u001b[0;36m<cell line: 2>\u001b[1;34m()\u001b[0m\n\u001b[0;32m      1\u001b[0m j\u001b[38;5;241m=\u001b[39m\u001b[38;5;241m0\u001b[39m\n\u001b[0;32m      2\u001b[0m \u001b[38;5;28;01mwhile\u001b[39;00m (\u001b[38;5;28mlen\u001b[39m(list2)):\n\u001b[1;32m----> 3\u001b[0m     \u001b[38;5;28mprint\u001b[39m(\u001b[43mlist2\u001b[49m\u001b[43m[\u001b[49m\u001b[43mj\u001b[49m\u001b[43m]\u001b[49m)\n\u001b[0;32m      4\u001b[0m     j\u001b[38;5;241m=\u001b[39mj\u001b[38;5;241m+\u001b[39m\u001b[38;5;241m1\u001b[39m\n",
      "\u001b[1;31mIndexError\u001b[0m: list index out of range"
     ]
    }
   ],
   "source": [
    "j=0\n",
    "while (len(list2)):\n",
    "    print(list2[j])\n",
    "    j=j+1\n",
    "    "
   ]
  },
  {
   "cell_type": "markdown",
   "id": "f6dbae31",
   "metadata": {},
   "source": [
    "# 5.\tAccess the list of all semester GPA using negative indexing. "
   ]
  },
  {
   "cell_type": "code",
   "execution_count": 10,
   "id": "34c96eec",
   "metadata": {},
   "outputs": [
    {
     "name": "stdout",
     "output_type": "stream",
     "text": [
      "[3.84, 4.0]\n"
     ]
    }
   ],
   "source": [
    "print(list2[-1])"
   ]
  },
  {
   "cell_type": "code",
   "execution_count": 11,
   "id": "658555ed",
   "metadata": {},
   "outputs": [
    {
     "name": "stdout",
     "output_type": "stream",
     "text": [
      "4.0\n"
     ]
    }
   ],
   "source": [
    "print(list2[-1][1])"
   ]
  },
  {
   "cell_type": "markdown",
   "id": "6f82de10",
   "metadata": {},
   "source": [
    "# 6.\tMake a list of first 20 integers using range function. "
   ]
  },
  {
   "cell_type": "code",
   "execution_count": 12,
   "id": "7229b0c5",
   "metadata": {},
   "outputs": [
    {
     "name": "stdout",
     "output_type": "stream",
     "text": [
      "[0, 1, 2, 3, 4, 5, 6, 7, 8, 9, 10, 11, 12, 13, 14, 15, 16, 17, 18, 19]\n"
     ]
    }
   ],
   "source": [
    "list3=[]\n",
    "for a in range (0,20):\n",
    "    list3.append(a)\n",
    "print(list3)"
   ]
  },
  {
   "cell_type": "markdown",
   "id": "01e5a089",
   "metadata": {},
   "source": [
    "# 7.\tMake a list of odd integers from 20 to 40 using range function. "
   ]
  },
  {
   "cell_type": "code",
   "execution_count": 13,
   "id": "88f6d1d1",
   "metadata": {},
   "outputs": [
    {
     "name": "stdout",
     "output_type": "stream",
     "text": [
      "[21, 23, 25, 27, 29, 31, 33, 35, 37, 39]\n"
     ]
    }
   ],
   "source": [
    "odd=[]\n",
    "for a in range (21,40,2):\n",
    "    odd.append(a)\n",
    "print(odd)"
   ]
  },
  {
   "cell_type": "markdown",
   "id": "4804c701",
   "metadata": {},
   "source": [
    "# 8.\tConsider the student list.\n",
    "Student = [Ibrahim, Husain, Irfan, Ayub, Usman]\n",
    "Use in and not in operator to ensure that the student is in the list or not. \n"
   ]
  },
  {
   "cell_type": "code",
   "execution_count": 14,
   "id": "e14dda87",
   "metadata": {},
   "outputs": [
    {
     "name": "stdout",
     "output_type": "stream",
     "text": [
      "True\n",
      "True\n",
      "True\n",
      "True\n",
      "True\n",
      "False\n"
     ]
    }
   ],
   "source": [
    "student = ['ibrahim','Husain','Irfan','Ayub','Usman']\n",
    "print('ibrahim' in student)\n",
    "print('Husain' in student)\n",
    "print('Irfan' in student)\n",
    "print('Ayub' in student)\n",
    "print('Usman' in student)\n",
    "print('mashal' in student)"
   ]
  },
  {
   "cell_type": "markdown",
   "id": "11b0211e",
   "metadata": {},
   "source": [
    "# 9.\tPrint all the student list in task 8 using the for loop."
   ]
  },
  {
   "cell_type": "code",
   "execution_count": 15,
   "id": "60dce779",
   "metadata": {},
   "outputs": [
    {
     "name": "stdout",
     "output_type": "stream",
     "text": [
      "ibrahim\n",
      "Husain\n",
      "Irfan\n",
      "Ayub\n",
      "Usman\n"
     ]
    }
   ],
   "source": [
    "student = ['ibrahim','Husain','Irfan','Ayub','Usman']\n",
    "for a in student:\n",
    "    print(a)"
   ]
  },
  {
   "cell_type": "markdown",
   "id": "3b1dd51e",
   "metadata": {},
   "source": [
    "# 10.\tObserve what is print, what is the first thing print, what the last thing print. Consider task 8 for student list. "
   ]
  },
  {
   "cell_type": "code",
   "execution_count": 17,
   "id": "62c96aab",
   "metadata": {},
   "outputs": [
    {
     "data": {
      "text/plain": [
       "['Husain', 'Irfan']"
      ]
     },
     "execution_count": 17,
     "metadata": {},
     "output_type": "execute_result"
    }
   ],
   "source": [
    "student [1:3]\n"
   ]
  },
  {
   "cell_type": "code",
   "execution_count": 18,
   "id": "4adada47",
   "metadata": {},
   "outputs": [
    {
     "data": {
      "text/plain": [
       "['ibrahim', 'Husain', 'Irfan', 'Ayub']"
      ]
     },
     "execution_count": 18,
     "metadata": {},
     "output_type": "execute_result"
    }
   ],
   "source": [
    "student [0:4]"
   ]
  },
  {
   "cell_type": "markdown",
   "id": "6ff5c2f8",
   "metadata": {},
   "source": [
    "# Tuple:\n",
    "1.\tMake a tuple containing first five letters of English. (definition)\n"
   ]
  },
  {
   "cell_type": "code",
   "execution_count": 22,
   "id": "e99ca5f8",
   "metadata": {},
   "outputs": [
    {
     "name": "stdout",
     "output_type": "stream",
     "text": [
      "2\n"
     ]
    }
   ],
   "source": [
    "a=(1,4,5,7,7,7,8,9)\n",
    "a.count(7)\n",
    "print(a.index(5))"
   ]
  },
  {
   "cell_type": "markdown",
   "id": "b033b843",
   "metadata": {},
   "source": [
    "# 2.\tUse index to access third and last element."
   ]
  },
  {
   "cell_type": "code",
   "execution_count": 23,
   "id": "7e645394",
   "metadata": {},
   "outputs": [
    {
     "data": {
      "text/plain": [
       "9"
      ]
     },
     "execution_count": 23,
     "metadata": {},
     "output_type": "execute_result"
    }
   ],
   "source": [
    "a[2]\n",
    "a[-1]"
   ]
  },
  {
   "cell_type": "markdown",
   "id": "d7b930e7",
   "metadata": {},
   "source": [
    "# Dictionary: \n",
    "1.\tConsider the following structure and observe. \n"
   ]
  },
  {
   "cell_type": "code",
   "execution_count": 24,
   "id": "ec05f06d",
   "metadata": {},
   "outputs": [
    {
     "name": "stdout",
     "output_type": "stream",
     "text": [
      "{'one': 'aik', 'three': 'teen', 'ten': 'das', 'fifteen': 'pandra'}\n"
     ]
    }
   ],
   "source": [
    "Fd= {'one': 'aik','three': 'teen', 'ten' : 'das', 'fifteen' : 'pandra'}\n",
    "print(Fd)"
   ]
  },
  {
   "cell_type": "code",
   "execution_count": 25,
   "id": "f49b6614",
   "metadata": {},
   "outputs": [
    {
     "name": "stdout",
     "output_type": "stream",
     "text": [
      "aik\n"
     ]
    }
   ],
   "source": [
    "print(Fd['one'])"
   ]
  },
  {
   "cell_type": "code",
   "execution_count": 26,
   "id": "ec2f13b4",
   "metadata": {},
   "outputs": [
    {
     "name": "stdout",
     "output_type": "stream",
     "text": [
      "teen\n"
     ]
    }
   ],
   "source": [
    "print(Fd['three'])"
   ]
  },
  {
   "cell_type": "code",
   "execution_count": 27,
   "id": "6659a0b3",
   "metadata": {},
   "outputs": [
    {
     "name": "stdout",
     "output_type": "stream",
     "text": [
      "das\n"
     ]
    }
   ],
   "source": [
    "print(Fd['ten'])"
   ]
  },
  {
   "cell_type": "code",
   "execution_count": 28,
   "id": "234e39c1",
   "metadata": {},
   "outputs": [
    {
     "name": "stdout",
     "output_type": "stream",
     "text": [
      "pandra\n"
     ]
    }
   ],
   "source": [
    "print(Fd['fifteen'])"
   ]
  },
  {
   "cell_type": "code",
   "execution_count": 31,
   "id": "ce6ecb0c",
   "metadata": {},
   "outputs": [
    {
     "data": {
      "text/plain": [
       "4"
      ]
     },
     "execution_count": 31,
     "metadata": {},
     "output_type": "execute_result"
    }
   ],
   "source": [
    "len(Fd)"
   ]
  },
  {
   "cell_type": "markdown",
   "id": "6855ee71",
   "metadata": {},
   "source": [
    "# •\tUse key method and print the list of keys"
   ]
  },
  {
   "cell_type": "code",
   "execution_count": 32,
   "id": "e4e0ffc8",
   "metadata": {},
   "outputs": [
    {
     "name": "stdout",
     "output_type": "stream",
     "text": [
      "dict_keys(['one', 'three', 'ten', 'fifteen'])\n"
     ]
    }
   ],
   "source": [
    "print(Fd.keys())"
   ]
  },
  {
   "cell_type": "markdown",
   "id": "4daec2fe",
   "metadata": {},
   "source": [
    "# •\tUse value function to print the list of values. "
   ]
  },
  {
   "cell_type": "code",
   "execution_count": 33,
   "id": "ceb1a040",
   "metadata": {},
   "outputs": [
    {
     "name": "stdout",
     "output_type": "stream",
     "text": [
      "dict_values(['aik', 'teen', 'das', 'pandra'])\n"
     ]
    }
   ],
   "source": [
    "print(Fd.values())"
   ]
  },
  {
   "cell_type": "markdown",
   "id": "2e00bc71",
   "metadata": {},
   "source": [
    "# •\tObserve the output of Fd.items()."
   ]
  },
  {
   "cell_type": "code",
   "execution_count": 34,
   "id": "edef20d6",
   "metadata": {},
   "outputs": [
    {
     "name": "stdout",
     "output_type": "stream",
     "text": [
      "dict_items([('one', 'aik'), ('three', 'teen'), ('ten', 'das'), ('fifteen', 'pandra')])\n"
     ]
    }
   ],
   "source": [
    "print(Fd.items())"
   ]
  },
  {
   "cell_type": "markdown",
   "id": "86d001af",
   "metadata": {},
   "source": [
    "# •\tObserve the output Fd.has_key(‘one) and Fd.has_key(‘two’) and think where such type of output will help and required. "
   ]
  },
  {
   "cell_type": "code",
   "execution_count": 35,
   "id": "5415bc40",
   "metadata": {},
   "outputs": [
    {
     "ename": "AttributeError",
     "evalue": "'dict' object has no attribute 'has_key'",
     "output_type": "error",
     "traceback": [
      "\u001b[1;31m---------------------------------------------------------------------------\u001b[0m",
      "\u001b[1;31mAttributeError\u001b[0m                            Traceback (most recent call last)",
      "Input \u001b[1;32mIn [35]\u001b[0m, in \u001b[0;36m<cell line: 1>\u001b[1;34m()\u001b[0m\n\u001b[1;32m----> 1\u001b[0m \u001b[38;5;28mprint\u001b[39m(\u001b[43mFd\u001b[49m\u001b[38;5;241;43m.\u001b[39;49m\u001b[43mhas_key\u001b[49m(one))\n",
      "\u001b[1;31mAttributeError\u001b[0m: 'dict' object has no attribute 'has_key'"
     ]
    }
   ],
   "source": [
    "print(Fd.has_key(one)) "
   ]
  },
  {
   "cell_type": "markdown",
   "id": "163766be",
   "metadata": {},
   "source": [
    "# \n",
    "print a prime number in range (1-200) in python languages"
   ]
  },
  {
   "cell_type": "code",
   "execution_count": 37,
   "id": "a2afca52",
   "metadata": {},
   "outputs": [
    {
     "name": "stdout",
     "output_type": "stream",
     "text": [
      "1\n",
      "3\n",
      "5\n",
      "7\n",
      "9\n",
      "11\n",
      "13\n",
      "15\n",
      "17\n",
      "19\n",
      "21\n",
      "23\n",
      "25\n",
      "27\n",
      "29\n",
      "31\n",
      "33\n",
      "35\n",
      "37\n",
      "39\n",
      "41\n",
      "43\n",
      "45\n",
      "47\n",
      "49\n",
      "51\n",
      "53\n",
      "55\n",
      "57\n",
      "59\n",
      "61\n",
      "63\n",
      "65\n",
      "67\n",
      "69\n",
      "71\n",
      "73\n",
      "75\n",
      "77\n",
      "79\n",
      "81\n",
      "83\n",
      "85\n",
      "87\n",
      "89\n",
      "91\n",
      "93\n",
      "95\n",
      "97\n",
      "99\n",
      "101\n",
      "103\n",
      "105\n",
      "107\n",
      "109\n",
      "111\n",
      "113\n",
      "115\n",
      "117\n",
      "119\n",
      "121\n",
      "123\n",
      "125\n",
      "127\n",
      "129\n",
      "131\n",
      "133\n",
      "135\n",
      "137\n",
      "139\n",
      "141\n",
      "143\n",
      "145\n",
      "147\n",
      "149\n",
      "151\n",
      "153\n",
      "155\n",
      "157\n",
      "159\n",
      "161\n",
      "163\n",
      "165\n",
      "167\n",
      "169\n",
      "171\n",
      "173\n",
      "175\n",
      "177\n",
      "179\n",
      "181\n",
      "183\n",
      "185\n",
      "187\n",
      "189\n",
      "191\n",
      "193\n",
      "195\n",
      "197\n",
      "199\n"
     ]
    }
   ],
   "source": [
    "prim=[]\n",
    "for a in range (1,200):\n",
    "    if a %2==0:\n",
    "        pass\n",
    "    else:\n",
    "        print(a)"
   ]
  },
  {
   "cell_type": "markdown",
   "id": "1d441c37",
   "metadata": {},
   "source": [
    "# •\tTo copy the dictionary, one may use one of the following. Verify by printing copy and alias.\n",
    "o\tcopy = Fd.copy()\n"
   ]
  },
  {
   "cell_type": "code",
   "execution_count": 38,
   "id": "921e6a6c",
   "metadata": {},
   "outputs": [],
   "source": [
    "copy = Fd.copy()"
   ]
  },
  {
   "cell_type": "code",
   "execution_count": 39,
   "id": "b4318bc1",
   "metadata": {},
   "outputs": [],
   "source": [
    "alias = Fd"
   ]
  },
  {
   "cell_type": "code",
   "execution_count": 40,
   "id": "9edec24e",
   "metadata": {},
   "outputs": [],
   "source": [
    "alias['four'] = '4'"
   ]
  },
  {
   "cell_type": "code",
   "execution_count": 41,
   "id": "478b0bd5",
   "metadata": {},
   "outputs": [
    {
     "name": "stdout",
     "output_type": "stream",
     "text": [
      "{'one': 'aik', 'three': 'teen', 'ten': 'das', 'fifteen': 'pandra', 'four': '4'}\n"
     ]
    }
   ],
   "source": [
    "print(alias)"
   ]
  },
  {
   "cell_type": "code",
   "execution_count": 42,
   "id": "08ba5adc",
   "metadata": {},
   "outputs": [
    {
     "data": {
      "text/plain": [
       "{'one': 'aik', 'three': 'teen', 'ten': 'das', 'fifteen': 'pandra', 'five': '5'}"
      ]
     },
     "execution_count": 42,
     "metadata": {},
     "output_type": "execute_result"
    }
   ],
   "source": [
    "copy['five'] = '5'\n",
    "copy"
   ]
  },
  {
   "cell_type": "markdown",
   "id": "f9429c0b",
   "metadata": {},
   "source": [
    "# Encouraging \n",
    "1.\tThis will be appreciated, and this is an indicator for strong coding skills. \n"
   ]
  },
  {
   "cell_type": "code",
   "execution_count": 57,
   "id": "bda2bbc0",
   "metadata": {},
   "outputs": [],
   "source": [
    "encourage=['sami', 1,['ayub','ibraheem'],['nasir','mashal','fahad','mobeen'],[1,2,3,4]]\n"
   ]
  },
  {
   "cell_type": "code",
   "execution_count": 59,
   "id": "403c161a",
   "metadata": {},
   "outputs": [
    {
     "name": "stdout",
     "output_type": "stream",
     "text": [
      "2\n"
     ]
    }
   ],
   "source": [
    "print(encourage[-1][1])"
   ]
  },
  {
   "cell_type": "code",
   "execution_count": 60,
   "id": "02b7f1ff",
   "metadata": {},
   "outputs": [],
   "source": [
    "encourage.reverse()"
   ]
  },
  {
   "cell_type": "code",
   "execution_count": 61,
   "id": "6cbed6fd",
   "metadata": {},
   "outputs": [
    {
     "name": "stdout",
     "output_type": "stream",
     "text": [
      "[[1, 2, 3, 4], ['nasir', 'mashal', 'fahad', 'mobeen'], ['ayub', 'ibraheem'], 1, 'sami']\n"
     ]
    }
   ],
   "source": [
    "print(encourage)"
   ]
  },
  {
   "cell_type": "code",
   "execution_count": 62,
   "id": "66668251",
   "metadata": {},
   "outputs": [
    {
     "name": "stdout",
     "output_type": "stream",
     "text": [
      "3\n"
     ]
    }
   ],
   "source": [
    "print(encourage[0][2])"
   ]
  },
  {
   "cell_type": "code",
   "execution_count": 63,
   "id": "448e82b9",
   "metadata": {},
   "outputs": [
    {
     "data": {
      "text/plain": [
       "2"
      ]
     },
     "execution_count": 63,
     "metadata": {},
     "output_type": "execute_result"
    }
   ],
   "source": [
    "encourage.index(['ayub', 'ibraheem'])"
   ]
  },
  {
   "cell_type": "code",
   "execution_count": 64,
   "id": "1b151dce",
   "metadata": {},
   "outputs": [
    {
     "name": "stdout",
     "output_type": "stream",
     "text": [
      "[1, 2, 3, 4]\n",
      "['nasir', 'mashal', 'fahad', 'mobeen']\n",
      "['ayub', 'ibraheem']\n",
      "1\n",
      "sami\n"
     ]
    }
   ],
   "source": [
    "for i in encourage:\n",
    "    print(i)"
   ]
  },
  {
   "cell_type": "code",
   "execution_count": 65,
   "id": "c5eea649",
   "metadata": {},
   "outputs": [
    {
     "data": {
      "text/plain": [
       "5"
      ]
     },
     "execution_count": 65,
     "metadata": {},
     "output_type": "execute_result"
    }
   ],
   "source": [
    "len(encourage)"
   ]
  },
  {
   "cell_type": "code",
   "execution_count": null,
   "id": "d6cbbe2c",
   "metadata": {},
   "outputs": [],
   "source": [
    "encourage.reverse()\n",
    "encourage"
   ]
  },
  {
   "cell_type": "code",
   "execution_count": null,
   "id": "a1d911bf",
   "metadata": {},
   "outputs": [],
   "source": []
  },
  {
   "cell_type": "code",
   "execution_count": null,
   "id": "e6a4c085",
   "metadata": {},
   "outputs": [],
   "source": []
  }
 ],
 "metadata": {
  "kernelspec": {
   "display_name": "Python 3 (ipykernel)",
   "language": "python",
   "name": "python3"
  },
  "language_info": {
   "codemirror_mode": {
    "name": "ipython",
    "version": 3
   },
   "file_extension": ".py",
   "mimetype": "text/x-python",
   "name": "python",
   "nbconvert_exporter": "python",
   "pygments_lexer": "ipython3",
   "version": "3.9.12"
  }
 },
 "nbformat": 4,
 "nbformat_minor": 5
}
